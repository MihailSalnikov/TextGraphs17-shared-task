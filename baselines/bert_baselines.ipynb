{
  "cells": [
    {
      "cell_type": "code",
      "execution_count": null,
      "metadata": {
        "id": "pvr5WO3Dk3k7"
      },
      "outputs": [],
      "source": [
        "import pandas as pd\n",
        "from torch.utils.data import Dataset\n",
        "import torch\n",
        "import os\n",
        "import random\n",
        "import numpy as np\n",
        "from torch import nn\n",
        "from typing import Dict, Optional, Tuple, List\n",
        "from transformers import AutoTokenizer, AutoModel\n",
        "from torch.utils.data import Dataset, random_split\n",
        "import torch.optim as optim\n",
        "from tqdm import tqdm\n",
        "from sklearn.metrics import precision_score, f1_score, recall_score, classification_report"
      ]
    },
    {
      "cell_type": "code",
      "execution_count": null,
      "metadata": {
        "id": "tATY-ohJqYuC"
      },
      "outputs": [],
      "source": [
        "SEED = 42\n",
        "\n",
        "torch.manual_seed(SEED)\n",
        "torch.random.manual_seed(SEED)\n",
        "os.environ['PYTHONHASHSEED'] = str(SEED)\n",
        "random.seed(SEED)\n",
        "np.random.seed(SEED)\n",
        "torch.cuda.random.manual_seed(SEED)\n",
        "torch.cuda.random.manual_seed_all(SEED)\n",
        "torch.backends.cudnn.deterministic = True"
      ]
    },
    {
      "cell_type": "code",
      "source": [
        "from google.colab import drive\n",
        "drive.mount('/content/drive')"
      ],
      "metadata": {
        "colab": {
          "base_uri": "https://localhost:8080/"
        },
        "id": "NHSvAhT-JcIR",
        "outputId": "9a28b7c0-97a0-4d29-e02d-f9add201eae8"
      },
      "execution_count": null,
      "outputs": [
        {
          "output_type": "stream",
          "name": "stdout",
          "text": [
            "Mounted at /content/drive\n"
          ]
        }
      ]
    },
    {
      "cell_type": "code",
      "execution_count": null,
      "metadata": {
        "id": "G3DBvzLkpxb9"
      },
      "outputs": [],
      "source": [
        "device = \"cuda\" if torch.cuda.is_available() else \"cpu\""
      ]
    },
    {
      "cell_type": "code",
      "source": [
        "!git clone https://github.com/uhh-lt/TextGraphs17-shared-task.git"
      ],
      "metadata": {
        "colab": {
          "base_uri": "https://localhost:8080/"
        },
        "id": "s3XTVchKHjRE",
        "outputId": "3594115f-2c0e-46ac-e3fd-bcb3a2dedf36"
      },
      "execution_count": null,
      "outputs": [
        {
          "output_type": "stream",
          "name": "stdout",
          "text": [
            "Cloning into 'TextGraphs17-shared-task'...\n",
            "remote: Enumerating objects: 241, done.\u001b[K\n",
            "remote: Counting objects: 100% (241/241), done.\u001b[K\n",
            "remote: Compressing objects: 100% (202/202), done.\u001b[K\n",
            "remote: Total 241 (delta 52), reused 185 (delta 17), pack-reused 0\u001b[K\n",
            "Receiving objects: 100% (241/241), 29.90 MiB | 5.32 MiB/s, done.\n",
            "Resolving deltas: 100% (52/52), done.\n"
          ]
        }
      ]
    },
    {
      "cell_type": "code",
      "source": [
        "!ls TextGraphs17-shared-task"
      ],
      "metadata": {
        "colab": {
          "base_uri": "https://localhost:8080/"
        },
        "id": "1Fv67LbbHkVl",
        "outputId": "78a6a65e-1c87-4277-caba-880256dc769a"
      },
      "execution_count": null,
      "outputs": [
        {
          "output_type": "stream",
          "name": "stdout",
          "text": [
            "baselines  data  evaluation  question_graph_examples  README.md  reformat_data\tvisualization\n"
          ]
        }
      ]
    },
    {
      "cell_type": "code",
      "source": [],
      "metadata": {
        "id": "EDbHhQWcd6RJ"
      },
      "execution_count": null,
      "outputs": []
    },
    {
      "cell_type": "code",
      "execution_count": null,
      "metadata": {
        "id": "-8SEn7sx5qn4"
      },
      "outputs": [],
      "source": [
        "train_dev_path = \"TextGraphs17-shared-task/data/tsv/train.tsv\"\n",
        "test_path = \"TextGraphs17-shared-task/data/tsv/test.tsv\"\n",
        "\n",
        "train_dev_df = pd.read_csv(train_dev_path, sep='\\t')\n",
        "test_df = pd.read_csv(test_path, sep='\\t')"
      ]
    },
    {
      "cell_type": "code",
      "source": [],
      "metadata": {
        "id": "H7d1Iwk0bi9E"
      },
      "execution_count": null,
      "outputs": []
    },
    {
      "cell_type": "code",
      "source": [
        "train_dev_questions = list(train_dev_df[\"question\"].unique())\n",
        "test_questions = list(test_df[\"question\"].unique())\n",
        "num_train_dev_questions = len(train_dev_questions)\n",
        "random.shuffle(train_dev_questions)"
      ],
      "metadata": {
        "id": "ChpkDo0DILq-"
      },
      "execution_count": null,
      "outputs": []
    },
    {
      "cell_type": "markdown",
      "source": [
        "### Splitting train into train/dev"
      ],
      "metadata": {
        "id": "zy04aCsungVN"
      }
    },
    {
      "cell_type": "code",
      "source": [
        "train_ratio = 0.9\n",
        "\n",
        "num_train_questions = int(num_train_dev_questions * train_ratio)\n",
        "train_questions = set(train_dev_questions[:num_train_questions])\n",
        "dev_questions = set(train_dev_questions[num_train_questions:])\n",
        "\n",
        "print(f\"Questions: train - {len(train_questions)}, dev - {len(dev_questions)}, test - {len(test_questions)}\")"
      ],
      "metadata": {
        "colab": {
          "base_uri": "https://localhost:8080/"
        },
        "id": "LxOT3ndTIKOi",
        "outputId": "604be80c-08fb-40a1-b81a-c9a372641953"
      },
      "execution_count": null,
      "outputs": [
        {
          "output_type": "stream",
          "name": "stdout",
          "text": [
            "Questions: train - 3181, dev - 354, test - 1000\n"
          ]
        }
      ]
    },
    {
      "cell_type": "code",
      "source": [
        "train_df = train_dev_df[train_dev_df[\"question\"].isin(train_questions)]\n",
        "dev_df = train_dev_df[train_dev_df[\"question\"].isin(dev_questions)]\n",
        "\n",
        "\n",
        "print(f\"Train: {train_df.shape}\")\n",
        "print(f\"Dev: {dev_df.shape}\")\n",
        "print(f\"Test: {test_df.shape}\")"
      ],
      "metadata": {
        "colab": {
          "base_uri": "https://localhost:8080/"
        },
        "id": "PS8JE3QiIKQy",
        "outputId": "5682984a-c2f8-4807-c9d9-e88ce7c112cf"
      },
      "execution_count": null,
      "outputs": [
        {
          "output_type": "stream",
          "name": "stdout",
          "text": [
            "Train: (33911, 10)\n",
            "Dev: (3761, 10)\n",
            "Test: (10961, 12)\n"
          ]
        }
      ]
    },
    {
      "cell_type": "code",
      "execution_count": null,
      "metadata": {
        "colab": {
          "base_uri": "https://localhost:8080/",
          "height": 87
        },
        "id": "L67B30o_XJmZ",
        "outputId": "996e8e68-df1f-42a3-8a99-3891ef750e6d"
      },
      "outputs": [
        {
          "output_type": "execute_result",
          "data": {
            "text/plain": [
              "'{\\'nodes\\': [{\\'type\\': \\'QUESTIONS_ENTITY\\', \\'name_\\': \\'Q794\\', \\'id\\': 0, \\'label\\': \\'Iran\\'}, {\\'type\\': \\'INTERNAL\\', \\'name_\\': \\'Q207991\\', \\'id\\': 1, \\'label\\': \\'Pahlavi dynasty\\'}, {\\'type\\': \\'ANSWER_CANDIDATE_ENTITY\\', \\'name_\\': \\'Q7293530\\', \\'id\\': 2, \\'label\\': \"Ruhollah Khomeini\\'s return to Iran\"}], \\'links\\': [{\\'name_\\': \\'P17\\', \\'source\\': 0, \\'target\\': 0, \\'label\\': \\'country\\'}, {\\'name_\\': \\'P1365\\', \\'source\\': 0, \\'target\\': 1, \\'label\\': \\'replaces\\'}, {\\'name_\\': \\'P1366\\', \\'source\\': 1, \\'target\\': 0, \\'label\\': \\'replaced by\\'}, {\\'name_\\': \\'P17\\', \\'source\\': 2, \\'target\\': 1, \\'label\\': \\'country\\'}]}'"
            ],
            "application/vnd.google.colaboratory.intrinsic+json": {
              "type": "string"
            }
          },
          "metadata": {},
          "execution_count": 12
        }
      ],
      "source": [
        "train_df.loc[0, \"graph\"]"
      ]
    },
    {
      "cell_type": "code",
      "execution_count": null,
      "metadata": {
        "colab": {
          "base_uri": "https://localhost:8080/",
          "height": 293
        },
        "id": "f8Uk3FNGk5G-",
        "outputId": "fccdb7a7-c5e8-4736-d4a7-88deda4f0e76"
      },
      "outputs": [
        {
          "output_type": "execute_result",
          "data": {
            "text/plain": [
              "   sample_id                                           question  \\\n",
              "0          0  Whst is the name of the head of state and high...   \n",
              "1          1  Whst is the name of the head of state and high...   \n",
              "2          2  Whst is the name of the head of state and high...   \n",
              "3          3  Whst is the name of the head of state and high...   \n",
              "4          4  Whst is the name of the head of state and high...   \n",
              "\n",
              "  questionEntity                                     answerEntity  \\\n",
              "0           Iran               Ruhollah Khomeini's return to Iran   \n",
              "1           Iran  Ruhollah Khomeini's letter to Mikhail Gorbachev   \n",
              "2           Iran                                Ruhollah Khomeini   \n",
              "3           Iran             Office of the Supreme Leader of Iran   \n",
              "4           Iran                 Mohammad Reza Pahlavi and Soraya   \n",
              "\n",
              "                groundTruthAnswerEntity answerEntityId questionEntityId  \\\n",
              "0  Office of the Supreme Leader of Iran       Q7293530             Q794   \n",
              "1  Office of the Supreme Leader of Iran       Q5952984             Q794   \n",
              "2  Office of the Supreme Leader of Iran         Q38823             Q794   \n",
              "3  Office of the Supreme Leader of Iran      Q16045000             Q794   \n",
              "4  Office of the Supreme Leader of Iran      Q63195813             Q794   \n",
              "\n",
              "  groundTruthAnswerEntityId  correct  \\\n",
              "0                 Q16045000    False   \n",
              "1                 Q16045000    False   \n",
              "2                 Q16045000    False   \n",
              "3                 Q16045000     True   \n",
              "4                 Q16045000    False   \n",
              "\n",
              "                                               graph  \n",
              "0  {'nodes': [{'type': 'QUESTIONS_ENTITY', 'name_...  \n",
              "1  {'nodes': [{'type': 'INTERNAL', 'name_': 'Q417...  \n",
              "2  {'nodes': [{'type': 'QUESTIONS_ENTITY', 'name_...  \n",
              "3  {'nodes': [{'type': 'QUESTIONS_ENTITY', 'name_...  \n",
              "4  {'nodes': [{'type': 'QUESTIONS_ENTITY', 'name_...  "
            ],
            "text/html": [
              "\n",
              "  <div id=\"df-9b26c181-9ba6-4f55-92c6-62e805a4c5f1\" class=\"colab-df-container\">\n",
              "    <div>\n",
              "<style scoped>\n",
              "    .dataframe tbody tr th:only-of-type {\n",
              "        vertical-align: middle;\n",
              "    }\n",
              "\n",
              "    .dataframe tbody tr th {\n",
              "        vertical-align: top;\n",
              "    }\n",
              "\n",
              "    .dataframe thead th {\n",
              "        text-align: right;\n",
              "    }\n",
              "</style>\n",
              "<table border=\"1\" class=\"dataframe\">\n",
              "  <thead>\n",
              "    <tr style=\"text-align: right;\">\n",
              "      <th></th>\n",
              "      <th>sample_id</th>\n",
              "      <th>question</th>\n",
              "      <th>questionEntity</th>\n",
              "      <th>answerEntity</th>\n",
              "      <th>groundTruthAnswerEntity</th>\n",
              "      <th>answerEntityId</th>\n",
              "      <th>questionEntityId</th>\n",
              "      <th>groundTruthAnswerEntityId</th>\n",
              "      <th>correct</th>\n",
              "      <th>graph</th>\n",
              "    </tr>\n",
              "  </thead>\n",
              "  <tbody>\n",
              "    <tr>\n",
              "      <th>0</th>\n",
              "      <td>0</td>\n",
              "      <td>Whst is the name of the head of state and high...</td>\n",
              "      <td>Iran</td>\n",
              "      <td>Ruhollah Khomeini's return to Iran</td>\n",
              "      <td>Office of the Supreme Leader of Iran</td>\n",
              "      <td>Q7293530</td>\n",
              "      <td>Q794</td>\n",
              "      <td>Q16045000</td>\n",
              "      <td>False</td>\n",
              "      <td>{'nodes': [{'type': 'QUESTIONS_ENTITY', 'name_...</td>\n",
              "    </tr>\n",
              "    <tr>\n",
              "      <th>1</th>\n",
              "      <td>1</td>\n",
              "      <td>Whst is the name of the head of state and high...</td>\n",
              "      <td>Iran</td>\n",
              "      <td>Ruhollah Khomeini's letter to Mikhail Gorbachev</td>\n",
              "      <td>Office of the Supreme Leader of Iran</td>\n",
              "      <td>Q5952984</td>\n",
              "      <td>Q794</td>\n",
              "      <td>Q16045000</td>\n",
              "      <td>False</td>\n",
              "      <td>{'nodes': [{'type': 'INTERNAL', 'name_': 'Q417...</td>\n",
              "    </tr>\n",
              "    <tr>\n",
              "      <th>2</th>\n",
              "      <td>2</td>\n",
              "      <td>Whst is the name of the head of state and high...</td>\n",
              "      <td>Iran</td>\n",
              "      <td>Ruhollah Khomeini</td>\n",
              "      <td>Office of the Supreme Leader of Iran</td>\n",
              "      <td>Q38823</td>\n",
              "      <td>Q794</td>\n",
              "      <td>Q16045000</td>\n",
              "      <td>False</td>\n",
              "      <td>{'nodes': [{'type': 'QUESTIONS_ENTITY', 'name_...</td>\n",
              "    </tr>\n",
              "    <tr>\n",
              "      <th>3</th>\n",
              "      <td>3</td>\n",
              "      <td>Whst is the name of the head of state and high...</td>\n",
              "      <td>Iran</td>\n",
              "      <td>Office of the Supreme Leader of Iran</td>\n",
              "      <td>Office of the Supreme Leader of Iran</td>\n",
              "      <td>Q16045000</td>\n",
              "      <td>Q794</td>\n",
              "      <td>Q16045000</td>\n",
              "      <td>True</td>\n",
              "      <td>{'nodes': [{'type': 'QUESTIONS_ENTITY', 'name_...</td>\n",
              "    </tr>\n",
              "    <tr>\n",
              "      <th>4</th>\n",
              "      <td>4</td>\n",
              "      <td>Whst is the name of the head of state and high...</td>\n",
              "      <td>Iran</td>\n",
              "      <td>Mohammad Reza Pahlavi and Soraya</td>\n",
              "      <td>Office of the Supreme Leader of Iran</td>\n",
              "      <td>Q63195813</td>\n",
              "      <td>Q794</td>\n",
              "      <td>Q16045000</td>\n",
              "      <td>False</td>\n",
              "      <td>{'nodes': [{'type': 'QUESTIONS_ENTITY', 'name_...</td>\n",
              "    </tr>\n",
              "  </tbody>\n",
              "</table>\n",
              "</div>\n",
              "    <div class=\"colab-df-buttons\">\n",
              "\n",
              "  <div class=\"colab-df-container\">\n",
              "    <button class=\"colab-df-convert\" onclick=\"convertToInteractive('df-9b26c181-9ba6-4f55-92c6-62e805a4c5f1')\"\n",
              "            title=\"Convert this dataframe to an interactive table.\"\n",
              "            style=\"display:none;\">\n",
              "\n",
              "  <svg xmlns=\"http://www.w3.org/2000/svg\" height=\"24px\" viewBox=\"0 -960 960 960\">\n",
              "    <path d=\"M120-120v-720h720v720H120Zm60-500h600v-160H180v160Zm220 220h160v-160H400v160Zm0 220h160v-160H400v160ZM180-400h160v-160H180v160Zm440 0h160v-160H620v160ZM180-180h160v-160H180v160Zm440 0h160v-160H620v160Z\"/>\n",
              "  </svg>\n",
              "    </button>\n",
              "\n",
              "  <style>\n",
              "    .colab-df-container {\n",
              "      display:flex;\n",
              "      gap: 12px;\n",
              "    }\n",
              "\n",
              "    .colab-df-convert {\n",
              "      background-color: #E8F0FE;\n",
              "      border: none;\n",
              "      border-radius: 50%;\n",
              "      cursor: pointer;\n",
              "      display: none;\n",
              "      fill: #1967D2;\n",
              "      height: 32px;\n",
              "      padding: 0 0 0 0;\n",
              "      width: 32px;\n",
              "    }\n",
              "\n",
              "    .colab-df-convert:hover {\n",
              "      background-color: #E2EBFA;\n",
              "      box-shadow: 0px 1px 2px rgba(60, 64, 67, 0.3), 0px 1px 3px 1px rgba(60, 64, 67, 0.15);\n",
              "      fill: #174EA6;\n",
              "    }\n",
              "\n",
              "    .colab-df-buttons div {\n",
              "      margin-bottom: 4px;\n",
              "    }\n",
              "\n",
              "    [theme=dark] .colab-df-convert {\n",
              "      background-color: #3B4455;\n",
              "      fill: #D2E3FC;\n",
              "    }\n",
              "\n",
              "    [theme=dark] .colab-df-convert:hover {\n",
              "      background-color: #434B5C;\n",
              "      box-shadow: 0px 1px 3px 1px rgba(0, 0, 0, 0.15);\n",
              "      filter: drop-shadow(0px 1px 2px rgba(0, 0, 0, 0.3));\n",
              "      fill: #FFFFFF;\n",
              "    }\n",
              "  </style>\n",
              "\n",
              "    <script>\n",
              "      const buttonEl =\n",
              "        document.querySelector('#df-9b26c181-9ba6-4f55-92c6-62e805a4c5f1 button.colab-df-convert');\n",
              "      buttonEl.style.display =\n",
              "        google.colab.kernel.accessAllowed ? 'block' : 'none';\n",
              "\n",
              "      async function convertToInteractive(key) {\n",
              "        const element = document.querySelector('#df-9b26c181-9ba6-4f55-92c6-62e805a4c5f1');\n",
              "        const dataTable =\n",
              "          await google.colab.kernel.invokeFunction('convertToInteractive',\n",
              "                                                    [key], {});\n",
              "        if (!dataTable) return;\n",
              "\n",
              "        const docLinkHtml = 'Like what you see? Visit the ' +\n",
              "          '<a target=\"_blank\" href=https://colab.research.google.com/notebooks/data_table.ipynb>data table notebook</a>'\n",
              "          + ' to learn more about interactive tables.';\n",
              "        element.innerHTML = '';\n",
              "        dataTable['output_type'] = 'display_data';\n",
              "        await google.colab.output.renderOutput(dataTable, element);\n",
              "        const docLink = document.createElement('div');\n",
              "        docLink.innerHTML = docLinkHtml;\n",
              "        element.appendChild(docLink);\n",
              "      }\n",
              "    </script>\n",
              "  </div>\n",
              "\n",
              "\n",
              "<div id=\"df-20556bb9-498a-42a0-9b5e-c1f6a217730c\">\n",
              "  <button class=\"colab-df-quickchart\" onclick=\"quickchart('df-20556bb9-498a-42a0-9b5e-c1f6a217730c')\"\n",
              "            title=\"Suggest charts\"\n",
              "            style=\"display:none;\">\n",
              "\n",
              "<svg xmlns=\"http://www.w3.org/2000/svg\" height=\"24px\"viewBox=\"0 0 24 24\"\n",
              "     width=\"24px\">\n",
              "    <g>\n",
              "        <path d=\"M19 3H5c-1.1 0-2 .9-2 2v14c0 1.1.9 2 2 2h14c1.1 0 2-.9 2-2V5c0-1.1-.9-2-2-2zM9 17H7v-7h2v7zm4 0h-2V7h2v10zm4 0h-2v-4h2v4z\"/>\n",
              "    </g>\n",
              "</svg>\n",
              "  </button>\n",
              "\n",
              "<style>\n",
              "  .colab-df-quickchart {\n",
              "      --bg-color: #E8F0FE;\n",
              "      --fill-color: #1967D2;\n",
              "      --hover-bg-color: #E2EBFA;\n",
              "      --hover-fill-color: #174EA6;\n",
              "      --disabled-fill-color: #AAA;\n",
              "      --disabled-bg-color: #DDD;\n",
              "  }\n",
              "\n",
              "  [theme=dark] .colab-df-quickchart {\n",
              "      --bg-color: #3B4455;\n",
              "      --fill-color: #D2E3FC;\n",
              "      --hover-bg-color: #434B5C;\n",
              "      --hover-fill-color: #FFFFFF;\n",
              "      --disabled-bg-color: #3B4455;\n",
              "      --disabled-fill-color: #666;\n",
              "  }\n",
              "\n",
              "  .colab-df-quickchart {\n",
              "    background-color: var(--bg-color);\n",
              "    border: none;\n",
              "    border-radius: 50%;\n",
              "    cursor: pointer;\n",
              "    display: none;\n",
              "    fill: var(--fill-color);\n",
              "    height: 32px;\n",
              "    padding: 0;\n",
              "    width: 32px;\n",
              "  }\n",
              "\n",
              "  .colab-df-quickchart:hover {\n",
              "    background-color: var(--hover-bg-color);\n",
              "    box-shadow: 0 1px 2px rgba(60, 64, 67, 0.3), 0 1px 3px 1px rgba(60, 64, 67, 0.15);\n",
              "    fill: var(--button-hover-fill-color);\n",
              "  }\n",
              "\n",
              "  .colab-df-quickchart-complete:disabled,\n",
              "  .colab-df-quickchart-complete:disabled:hover {\n",
              "    background-color: var(--disabled-bg-color);\n",
              "    fill: var(--disabled-fill-color);\n",
              "    box-shadow: none;\n",
              "  }\n",
              "\n",
              "  .colab-df-spinner {\n",
              "    border: 2px solid var(--fill-color);\n",
              "    border-color: transparent;\n",
              "    border-bottom-color: var(--fill-color);\n",
              "    animation:\n",
              "      spin 1s steps(1) infinite;\n",
              "  }\n",
              "\n",
              "  @keyframes spin {\n",
              "    0% {\n",
              "      border-color: transparent;\n",
              "      border-bottom-color: var(--fill-color);\n",
              "      border-left-color: var(--fill-color);\n",
              "    }\n",
              "    20% {\n",
              "      border-color: transparent;\n",
              "      border-left-color: var(--fill-color);\n",
              "      border-top-color: var(--fill-color);\n",
              "    }\n",
              "    30% {\n",
              "      border-color: transparent;\n",
              "      border-left-color: var(--fill-color);\n",
              "      border-top-color: var(--fill-color);\n",
              "      border-right-color: var(--fill-color);\n",
              "    }\n",
              "    40% {\n",
              "      border-color: transparent;\n",
              "      border-right-color: var(--fill-color);\n",
              "      border-top-color: var(--fill-color);\n",
              "    }\n",
              "    60% {\n",
              "      border-color: transparent;\n",
              "      border-right-color: var(--fill-color);\n",
              "    }\n",
              "    80% {\n",
              "      border-color: transparent;\n",
              "      border-right-color: var(--fill-color);\n",
              "      border-bottom-color: var(--fill-color);\n",
              "    }\n",
              "    90% {\n",
              "      border-color: transparent;\n",
              "      border-bottom-color: var(--fill-color);\n",
              "    }\n",
              "  }\n",
              "</style>\n",
              "\n",
              "  <script>\n",
              "    async function quickchart(key) {\n",
              "      const quickchartButtonEl =\n",
              "        document.querySelector('#' + key + ' button');\n",
              "      quickchartButtonEl.disabled = true;  // To prevent multiple clicks.\n",
              "      quickchartButtonEl.classList.add('colab-df-spinner');\n",
              "      try {\n",
              "        const charts = await google.colab.kernel.invokeFunction(\n",
              "            'suggestCharts', [key], {});\n",
              "      } catch (error) {\n",
              "        console.error('Error during call to suggestCharts:', error);\n",
              "      }\n",
              "      quickchartButtonEl.classList.remove('colab-df-spinner');\n",
              "      quickchartButtonEl.classList.add('colab-df-quickchart-complete');\n",
              "    }\n",
              "    (() => {\n",
              "      let quickchartButtonEl =\n",
              "        document.querySelector('#df-20556bb9-498a-42a0-9b5e-c1f6a217730c button');\n",
              "      quickchartButtonEl.style.display =\n",
              "        google.colab.kernel.accessAllowed ? 'block' : 'none';\n",
              "    })();\n",
              "  </script>\n",
              "</div>\n",
              "    </div>\n",
              "  </div>\n"
            ],
            "application/vnd.google.colaboratory.intrinsic+json": {
              "type": "dataframe",
              "variable_name": "train_df",
              "summary": "{\n  \"name\": \"train_df\",\n  \"rows\": 33911,\n  \"fields\": [\n    {\n      \"column\": \"sample_id\",\n      \"properties\": {\n        \"dtype\": \"number\",\n        \"std\": 10855,\n        \"min\": 0,\n        \"max\": 37671,\n        \"num_unique_values\": 33911,\n        \"samples\": [\n          17349,\n          7411,\n          19230\n        ],\n        \"semantic_type\": \"\",\n        \"description\": \"\"\n      }\n    },\n    {\n      \"column\": \"question\",\n      \"properties\": {\n        \"dtype\": \"category\",\n        \"num_unique_values\": 3181,\n        \"samples\": [\n          \"Which soccer team qualified for the final but did not win the World Cup in 2002?\",\n          \"Which country has the most metal bands per capita?\",\n          \"Who has won more awards, Britney spears or Beyonc\\u00e9?\"\n        ],\n        \"semantic_type\": \"\",\n        \"description\": \"\"\n      }\n    },\n    {\n      \"column\": \"questionEntity\",\n      \"properties\": {\n        \"dtype\": \"category\",\n        \"num_unique_values\": 2158,\n        \"samples\": [\n          \"Digital Underground, Thug Life\",\n          \"film director\",\n          \"musician\"\n        ],\n        \"semantic_type\": \"\",\n        \"description\": \"\"\n      }\n    },\n    {\n      \"column\": \"answerEntity\",\n      \"properties\": {\n        \"dtype\": \"category\",\n        \"num_unique_values\": 13838,\n        \"samples\": [\n          \"Over My Dead Body\",\n          \"Bloodhounds of Broadway\",\n          \"Kids See Ghosts\"\n        ],\n        \"semantic_type\": \"\",\n        \"description\": \"\"\n      }\n    },\n    {\n      \"column\": \"groundTruthAnswerEntity\",\n      \"properties\": {\n        \"dtype\": \"category\",\n        \"num_unique_values\": 2200,\n        \"samples\": [\n          \"Monarchy of Denmark\",\n          \"Pirates of the Caribbean: The Curse of the Black Pearl\",\n          \"Empire State of Mind\"\n        ],\n        \"semantic_type\": \"\",\n        \"description\": \"\"\n      }\n    },\n    {\n      \"column\": \"answerEntityId\",\n      \"properties\": {\n        \"dtype\": \"category\",\n        \"num_unique_values\": 15510,\n        \"samples\": [\n          \"Q478682\",\n          \"Q139325\",\n          \"Q22997984\"\n        ],\n        \"semantic_type\": \"\",\n        \"description\": \"\"\n      }\n    },\n    {\n      \"column\": \"questionEntityId\",\n      \"properties\": {\n        \"dtype\": \"category\",\n        \"num_unique_values\": 2179,\n        \"samples\": [\n          \"Q14213, Q11696\",\n          \"Q194045, Q128121\",\n          \"Q2006869, Q16296\"\n        ],\n        \"semantic_type\": \"\",\n        \"description\": \"\"\n      }\n    },\n    {\n      \"column\": \"groundTruthAnswerEntityId\",\n      \"properties\": {\n        \"dtype\": \"category\",\n        \"num_unique_values\": 2224,\n        \"samples\": [\n          \"Q233644\",\n          \"Q5205720\",\n          \"Q18786756\"\n        ],\n        \"semantic_type\": \"\",\n        \"description\": \"\"\n      }\n    },\n    {\n      \"column\": \"correct\",\n      \"properties\": {\n        \"dtype\": \"boolean\",\n        \"num_unique_values\": 2,\n        \"samples\": [\n          true,\n          false\n        ],\n        \"semantic_type\": \"\",\n        \"description\": \"\"\n      }\n    },\n    {\n      \"column\": \"graph\",\n      \"properties\": {\n        \"dtype\": \"string\",\n        \"num_unique_values\": 29636,\n        \"samples\": [\n          \"{'nodes': [{'type': 'INTERNAL', 'name_': 'Q1860', 'id': 0, 'label': 'English'}, {'type': 'QUESTIONS_ENTITY', 'name_': 'Q174009', 'id': 1, 'label': 'Hermione Granger'}, {'type': 'ANSWER_CANDIDATE_ENTITY', 'name_': 'Q28736747', 'id': 2, 'label': \\\"Marvel's Cloak & Dagger\\\"}], 'links': [{'name_': 'P1412', 'source': 1, 'target': 0, 'label': 'languages spoken, written or signed'}, {'name_': 'P364', 'source': 2, 'target': 0, 'label': 'original language of performance work'}]}\",\n          \"{'nodes': [{'type': 'INTERNAL', 'name_': 'Q30', 'id': 0, 'label': 'United States'}, {'type': 'QUESTIONS_ENTITY', 'name_': 'Q37079', 'id': 1, 'label': 'Tom Cruise'}, {'type': 'QUESTIONS_ENTITY', 'name_': 'Q2263', 'id': 2, 'label': 'Tom Hanks'}, {'type': 'ANSWER_CANDIDATE_ENTITY', 'name_': 'Q578924', 'id': 3, 'label': 'Thomas C. Hanks'}], 'links': [{'name_': 'P17', 'source': 0, 'target': 0, 'label': 'country'}, {'name_': 'P27', 'source': 1, 'target': 0, 'label': 'country of citizenship'}, {'name_': 'P27', 'source': 2, 'target': 0, 'label': 'country of citizenship'}, {'name_': 'P27', 'source': 3, 'target': 0, 'label': 'country of citizenship'}]}\"\n        ],\n        \"semantic_type\": \"\",\n        \"description\": \"\"\n      }\n    }\n  ]\n}"
            }
          },
          "metadata": {},
          "execution_count": 13
        }
      ],
      "source": [
        "train_df.head()"
      ]
    },
    {
      "cell_type": "code",
      "execution_count": null,
      "metadata": {
        "colab": {
          "base_uri": "https://localhost:8080/"
        },
        "id": "Fot9tDahnA6I",
        "outputId": "f1f5eacf-caa8-452b-deb9-17fd292edd37"
      },
      "outputs": [
        {
          "output_type": "stream",
          "name": "stderr",
          "text": [
            "<ipython-input-14-dfb9bda6aa0b>:1: SettingWithCopyWarning: \n",
            "A value is trying to be set on a copy of a slice from a DataFrame.\n",
            "Try using .loc[row_indexer,col_indexer] = value instead\n",
            "\n",
            "See the caveats in the documentation: https://pandas.pydata.org/pandas-docs/stable/user_guide/indexing.html#returning-a-view-versus-a-copy\n",
            "  train_df[\"label\"] = train_df[\"correct\"].astype(np.float32)\n",
            "<ipython-input-14-dfb9bda6aa0b>:2: SettingWithCopyWarning: \n",
            "A value is trying to be set on a copy of a slice from a DataFrame.\n",
            "Try using .loc[row_indexer,col_indexer] = value instead\n",
            "\n",
            "See the caveats in the documentation: https://pandas.pydata.org/pandas-docs/stable/user_guide/indexing.html#returning-a-view-versus-a-copy\n",
            "  dev_df[\"label\"] = dev_df[\"correct\"].astype(np.float32)\n"
          ]
        },
        {
          "output_type": "execute_result",
          "data": {
            "text/plain": [
              "0    0.0\n",
              "1    0.0\n",
              "2    0.0\n",
              "3    1.0\n",
              "4    0.0\n",
              "Name: label, dtype: float32"
            ]
          },
          "metadata": {},
          "execution_count": 14
        }
      ],
      "source": [
        "train_df[\"label\"] = train_df[\"correct\"].astype(np.float32)\n",
        "dev_df[\"label\"] = dev_df[\"correct\"].astype(np.float32)\n",
        "test_df[\"label\"] = test_df[\"correct\"].astype(np.float32)\n",
        "train_df[\"label\"].head(5)"
      ]
    },
    {
      "cell_type": "code",
      "execution_count": null,
      "metadata": {
        "id": "FPlwivhunSxF",
        "colab": {
          "base_uri": "https://localhost:8080/"
        },
        "outputId": "823de49d-dc28-4570-8059-8fca2d43b628"
      },
      "outputs": [
        {
          "output_type": "stream",
          "name": "stderr",
          "text": [
            "<ipython-input-15-3a975c0f4542>:1: SettingWithCopyWarning: \n",
            "A value is trying to be set on a copy of a slice from a DataFrame.\n",
            "Try using .loc[row_indexer,col_indexer] = value instead\n",
            "\n",
            "See the caveats in the documentation: https://pandas.pydata.org/pandas-docs/stable/user_guide/indexing.html#returning-a-view-versus-a-copy\n",
            "  train_df[\"graph\"] = train_df[\"graph\"].apply(eval)\n",
            "<ipython-input-15-3a975c0f4542>:2: SettingWithCopyWarning: \n",
            "A value is trying to be set on a copy of a slice from a DataFrame.\n",
            "Try using .loc[row_indexer,col_indexer] = value instead\n",
            "\n",
            "See the caveats in the documentation: https://pandas.pydata.org/pandas-docs/stable/user_guide/indexing.html#returning-a-view-versus-a-copy\n",
            "  dev_df[\"graph\"] = dev_df[\"graph\"].apply(eval)\n"
          ]
        }
      ],
      "source": [
        "train_df[\"graph\"] = train_df[\"graph\"].apply(eval)\n",
        "dev_df[\"graph\"] = dev_df[\"graph\"].apply(eval)\n",
        "test_df[\"graph\"] = test_df[\"graph\"].apply(eval)"
      ]
    },
    {
      "cell_type": "code",
      "source": [
        "train_df.loc[0, \"graph\"]"
      ],
      "metadata": {
        "id": "gksMsUxa0e0W"
      },
      "execution_count": null,
      "outputs": []
    },
    {
      "cell_type": "code",
      "execution_count": null,
      "metadata": {
        "colab": {
          "base_uri": "https://localhost:8080/",
          "height": 363
        },
        "id": "qttF4jcml2mo",
        "outputId": "555c8256-c626-4566-d579-0858321e5711"
      },
      "outputs": [
        {
          "output_type": "execute_result",
          "data": {
            "text/plain": [
              "                                            question  \\\n",
              "0  Whst is the name of the head of state and high...   \n",
              "1  Whst is the name of the head of state and high...   \n",
              "2  Whst is the name of the head of state and high...   \n",
              "3  Whst is the name of the head of state and high...   \n",
              "4  Whst is the name of the head of state and high...   \n",
              "5  Whst is the name of the head of state and high...   \n",
              "6  Whst is the name of the head of state and high...   \n",
              "7  Whst is the name of the head of state and high...   \n",
              "8  Whst is the name of the head of state and high...   \n",
              "9  Whst is the name of the head of state and high...   \n",
              "\n",
              "                                        answerEntity  \\\n",
              "0                 Ruhollah Khomeini's return to Iran   \n",
              "1    Ruhollah Khomeini's letter to Mikhail Gorbachev   \n",
              "2                                  Ruhollah Khomeini   \n",
              "3               Office of the Supreme Leader of Iran   \n",
              "4                   Mohammad Reza Pahlavi and Soraya   \n",
              "5                                Mahmoud Ahmadinejad   \n",
              "6                                     Hassan Rouhani   \n",
              "7    Ayatollah Khamenei's Foreign Policy Orientation   \n",
              "8  Ayatollah Ali Khamenei speaks about Iranian pr...   \n",
              "9                          Ali Khamenei bibliography   \n",
              "\n",
              "                groundTruthAnswerEntity  label  \n",
              "0  Office of the Supreme Leader of Iran    0.0  \n",
              "1  Office of the Supreme Leader of Iran    0.0  \n",
              "2  Office of the Supreme Leader of Iran    0.0  \n",
              "3  Office of the Supreme Leader of Iran    1.0  \n",
              "4  Office of the Supreme Leader of Iran    0.0  \n",
              "5  Office of the Supreme Leader of Iran    0.0  \n",
              "6  Office of the Supreme Leader of Iran    0.0  \n",
              "7  Office of the Supreme Leader of Iran    0.0  \n",
              "8  Office of the Supreme Leader of Iran    0.0  \n",
              "9  Office of the Supreme Leader of Iran    0.0  "
            ],
            "text/html": [
              "\n",
              "  <div id=\"df-7f71d01b-9b00-4e52-b17e-018d9f1ed2ff\" class=\"colab-df-container\">\n",
              "    <div>\n",
              "<style scoped>\n",
              "    .dataframe tbody tr th:only-of-type {\n",
              "        vertical-align: middle;\n",
              "    }\n",
              "\n",
              "    .dataframe tbody tr th {\n",
              "        vertical-align: top;\n",
              "    }\n",
              "\n",
              "    .dataframe thead th {\n",
              "        text-align: right;\n",
              "    }\n",
              "</style>\n",
              "<table border=\"1\" class=\"dataframe\">\n",
              "  <thead>\n",
              "    <tr style=\"text-align: right;\">\n",
              "      <th></th>\n",
              "      <th>question</th>\n",
              "      <th>answerEntity</th>\n",
              "      <th>groundTruthAnswerEntity</th>\n",
              "      <th>label</th>\n",
              "    </tr>\n",
              "  </thead>\n",
              "  <tbody>\n",
              "    <tr>\n",
              "      <th>0</th>\n",
              "      <td>Whst is the name of the head of state and high...</td>\n",
              "      <td>Ruhollah Khomeini's return to Iran</td>\n",
              "      <td>Office of the Supreme Leader of Iran</td>\n",
              "      <td>0.0</td>\n",
              "    </tr>\n",
              "    <tr>\n",
              "      <th>1</th>\n",
              "      <td>Whst is the name of the head of state and high...</td>\n",
              "      <td>Ruhollah Khomeini's letter to Mikhail Gorbachev</td>\n",
              "      <td>Office of the Supreme Leader of Iran</td>\n",
              "      <td>0.0</td>\n",
              "    </tr>\n",
              "    <tr>\n",
              "      <th>2</th>\n",
              "      <td>Whst is the name of the head of state and high...</td>\n",
              "      <td>Ruhollah Khomeini</td>\n",
              "      <td>Office of the Supreme Leader of Iran</td>\n",
              "      <td>0.0</td>\n",
              "    </tr>\n",
              "    <tr>\n",
              "      <th>3</th>\n",
              "      <td>Whst is the name of the head of state and high...</td>\n",
              "      <td>Office of the Supreme Leader of Iran</td>\n",
              "      <td>Office of the Supreme Leader of Iran</td>\n",
              "      <td>1.0</td>\n",
              "    </tr>\n",
              "    <tr>\n",
              "      <th>4</th>\n",
              "      <td>Whst is the name of the head of state and high...</td>\n",
              "      <td>Mohammad Reza Pahlavi and Soraya</td>\n",
              "      <td>Office of the Supreme Leader of Iran</td>\n",
              "      <td>0.0</td>\n",
              "    </tr>\n",
              "    <tr>\n",
              "      <th>5</th>\n",
              "      <td>Whst is the name of the head of state and high...</td>\n",
              "      <td>Mahmoud Ahmadinejad</td>\n",
              "      <td>Office of the Supreme Leader of Iran</td>\n",
              "      <td>0.0</td>\n",
              "    </tr>\n",
              "    <tr>\n",
              "      <th>6</th>\n",
              "      <td>Whst is the name of the head of state and high...</td>\n",
              "      <td>Hassan Rouhani</td>\n",
              "      <td>Office of the Supreme Leader of Iran</td>\n",
              "      <td>0.0</td>\n",
              "    </tr>\n",
              "    <tr>\n",
              "      <th>7</th>\n",
              "      <td>Whst is the name of the head of state and high...</td>\n",
              "      <td>Ayatollah Khamenei's Foreign Policy Orientation</td>\n",
              "      <td>Office of the Supreme Leader of Iran</td>\n",
              "      <td>0.0</td>\n",
              "    </tr>\n",
              "    <tr>\n",
              "      <th>8</th>\n",
              "      <td>Whst is the name of the head of state and high...</td>\n",
              "      <td>Ayatollah Ali Khamenei speaks about Iranian pr...</td>\n",
              "      <td>Office of the Supreme Leader of Iran</td>\n",
              "      <td>0.0</td>\n",
              "    </tr>\n",
              "    <tr>\n",
              "      <th>9</th>\n",
              "      <td>Whst is the name of the head of state and high...</td>\n",
              "      <td>Ali Khamenei bibliography</td>\n",
              "      <td>Office of the Supreme Leader of Iran</td>\n",
              "      <td>0.0</td>\n",
              "    </tr>\n",
              "  </tbody>\n",
              "</table>\n",
              "</div>\n",
              "    <div class=\"colab-df-buttons\">\n",
              "\n",
              "  <div class=\"colab-df-container\">\n",
              "    <button class=\"colab-df-convert\" onclick=\"convertToInteractive('df-7f71d01b-9b00-4e52-b17e-018d9f1ed2ff')\"\n",
              "            title=\"Convert this dataframe to an interactive table.\"\n",
              "            style=\"display:none;\">\n",
              "\n",
              "  <svg xmlns=\"http://www.w3.org/2000/svg\" height=\"24px\" viewBox=\"0 -960 960 960\">\n",
              "    <path d=\"M120-120v-720h720v720H120Zm60-500h600v-160H180v160Zm220 220h160v-160H400v160Zm0 220h160v-160H400v160ZM180-400h160v-160H180v160Zm440 0h160v-160H620v160ZM180-180h160v-160H180v160Zm440 0h160v-160H620v160Z\"/>\n",
              "  </svg>\n",
              "    </button>\n",
              "\n",
              "  <style>\n",
              "    .colab-df-container {\n",
              "      display:flex;\n",
              "      gap: 12px;\n",
              "    }\n",
              "\n",
              "    .colab-df-convert {\n",
              "      background-color: #E8F0FE;\n",
              "      border: none;\n",
              "      border-radius: 50%;\n",
              "      cursor: pointer;\n",
              "      display: none;\n",
              "      fill: #1967D2;\n",
              "      height: 32px;\n",
              "      padding: 0 0 0 0;\n",
              "      width: 32px;\n",
              "    }\n",
              "\n",
              "    .colab-df-convert:hover {\n",
              "      background-color: #E2EBFA;\n",
              "      box-shadow: 0px 1px 2px rgba(60, 64, 67, 0.3), 0px 1px 3px 1px rgba(60, 64, 67, 0.15);\n",
              "      fill: #174EA6;\n",
              "    }\n",
              "\n",
              "    .colab-df-buttons div {\n",
              "      margin-bottom: 4px;\n",
              "    }\n",
              "\n",
              "    [theme=dark] .colab-df-convert {\n",
              "      background-color: #3B4455;\n",
              "      fill: #D2E3FC;\n",
              "    }\n",
              "\n",
              "    [theme=dark] .colab-df-convert:hover {\n",
              "      background-color: #434B5C;\n",
              "      box-shadow: 0px 1px 3px 1px rgba(0, 0, 0, 0.15);\n",
              "      filter: drop-shadow(0px 1px 2px rgba(0, 0, 0, 0.3));\n",
              "      fill: #FFFFFF;\n",
              "    }\n",
              "  </style>\n",
              "\n",
              "    <script>\n",
              "      const buttonEl =\n",
              "        document.querySelector('#df-7f71d01b-9b00-4e52-b17e-018d9f1ed2ff button.colab-df-convert');\n",
              "      buttonEl.style.display =\n",
              "        google.colab.kernel.accessAllowed ? 'block' : 'none';\n",
              "\n",
              "      async function convertToInteractive(key) {\n",
              "        const element = document.querySelector('#df-7f71d01b-9b00-4e52-b17e-018d9f1ed2ff');\n",
              "        const dataTable =\n",
              "          await google.colab.kernel.invokeFunction('convertToInteractive',\n",
              "                                                    [key], {});\n",
              "        if (!dataTable) return;\n",
              "\n",
              "        const docLinkHtml = 'Like what you see? Visit the ' +\n",
              "          '<a target=\"_blank\" href=https://colab.research.google.com/notebooks/data_table.ipynb>data table notebook</a>'\n",
              "          + ' to learn more about interactive tables.';\n",
              "        element.innerHTML = '';\n",
              "        dataTable['output_type'] = 'display_data';\n",
              "        await google.colab.output.renderOutput(dataTable, element);\n",
              "        const docLink = document.createElement('div');\n",
              "        docLink.innerHTML = docLinkHtml;\n",
              "        element.appendChild(docLink);\n",
              "      }\n",
              "    </script>\n",
              "  </div>\n",
              "\n",
              "\n",
              "<div id=\"df-19848a0f-3c87-4a78-af07-76ab3a514446\">\n",
              "  <button class=\"colab-df-quickchart\" onclick=\"quickchart('df-19848a0f-3c87-4a78-af07-76ab3a514446')\"\n",
              "            title=\"Suggest charts\"\n",
              "            style=\"display:none;\">\n",
              "\n",
              "<svg xmlns=\"http://www.w3.org/2000/svg\" height=\"24px\"viewBox=\"0 0 24 24\"\n",
              "     width=\"24px\">\n",
              "    <g>\n",
              "        <path d=\"M19 3H5c-1.1 0-2 .9-2 2v14c0 1.1.9 2 2 2h14c1.1 0 2-.9 2-2V5c0-1.1-.9-2-2-2zM9 17H7v-7h2v7zm4 0h-2V7h2v10zm4 0h-2v-4h2v4z\"/>\n",
              "    </g>\n",
              "</svg>\n",
              "  </button>\n",
              "\n",
              "<style>\n",
              "  .colab-df-quickchart {\n",
              "      --bg-color: #E8F0FE;\n",
              "      --fill-color: #1967D2;\n",
              "      --hover-bg-color: #E2EBFA;\n",
              "      --hover-fill-color: #174EA6;\n",
              "      --disabled-fill-color: #AAA;\n",
              "      --disabled-bg-color: #DDD;\n",
              "  }\n",
              "\n",
              "  [theme=dark] .colab-df-quickchart {\n",
              "      --bg-color: #3B4455;\n",
              "      --fill-color: #D2E3FC;\n",
              "      --hover-bg-color: #434B5C;\n",
              "      --hover-fill-color: #FFFFFF;\n",
              "      --disabled-bg-color: #3B4455;\n",
              "      --disabled-fill-color: #666;\n",
              "  }\n",
              "\n",
              "  .colab-df-quickchart {\n",
              "    background-color: var(--bg-color);\n",
              "    border: none;\n",
              "    border-radius: 50%;\n",
              "    cursor: pointer;\n",
              "    display: none;\n",
              "    fill: var(--fill-color);\n",
              "    height: 32px;\n",
              "    padding: 0;\n",
              "    width: 32px;\n",
              "  }\n",
              "\n",
              "  .colab-df-quickchart:hover {\n",
              "    background-color: var(--hover-bg-color);\n",
              "    box-shadow: 0 1px 2px rgba(60, 64, 67, 0.3), 0 1px 3px 1px rgba(60, 64, 67, 0.15);\n",
              "    fill: var(--button-hover-fill-color);\n",
              "  }\n",
              "\n",
              "  .colab-df-quickchart-complete:disabled,\n",
              "  .colab-df-quickchart-complete:disabled:hover {\n",
              "    background-color: var(--disabled-bg-color);\n",
              "    fill: var(--disabled-fill-color);\n",
              "    box-shadow: none;\n",
              "  }\n",
              "\n",
              "  .colab-df-spinner {\n",
              "    border: 2px solid var(--fill-color);\n",
              "    border-color: transparent;\n",
              "    border-bottom-color: var(--fill-color);\n",
              "    animation:\n",
              "      spin 1s steps(1) infinite;\n",
              "  }\n",
              "\n",
              "  @keyframes spin {\n",
              "    0% {\n",
              "      border-color: transparent;\n",
              "      border-bottom-color: var(--fill-color);\n",
              "      border-left-color: var(--fill-color);\n",
              "    }\n",
              "    20% {\n",
              "      border-color: transparent;\n",
              "      border-left-color: var(--fill-color);\n",
              "      border-top-color: var(--fill-color);\n",
              "    }\n",
              "    30% {\n",
              "      border-color: transparent;\n",
              "      border-left-color: var(--fill-color);\n",
              "      border-top-color: var(--fill-color);\n",
              "      border-right-color: var(--fill-color);\n",
              "    }\n",
              "    40% {\n",
              "      border-color: transparent;\n",
              "      border-right-color: var(--fill-color);\n",
              "      border-top-color: var(--fill-color);\n",
              "    }\n",
              "    60% {\n",
              "      border-color: transparent;\n",
              "      border-right-color: var(--fill-color);\n",
              "    }\n",
              "    80% {\n",
              "      border-color: transparent;\n",
              "      border-right-color: var(--fill-color);\n",
              "      border-bottom-color: var(--fill-color);\n",
              "    }\n",
              "    90% {\n",
              "      border-color: transparent;\n",
              "      border-bottom-color: var(--fill-color);\n",
              "    }\n",
              "  }\n",
              "</style>\n",
              "\n",
              "  <script>\n",
              "    async function quickchart(key) {\n",
              "      const quickchartButtonEl =\n",
              "        document.querySelector('#' + key + ' button');\n",
              "      quickchartButtonEl.disabled = true;  // To prevent multiple clicks.\n",
              "      quickchartButtonEl.classList.add('colab-df-spinner');\n",
              "      try {\n",
              "        const charts = await google.colab.kernel.invokeFunction(\n",
              "            'suggestCharts', [key], {});\n",
              "      } catch (error) {\n",
              "        console.error('Error during call to suggestCharts:', error);\n",
              "      }\n",
              "      quickchartButtonEl.classList.remove('colab-df-spinner');\n",
              "      quickchartButtonEl.classList.add('colab-df-quickchart-complete');\n",
              "    }\n",
              "    (() => {\n",
              "      let quickchartButtonEl =\n",
              "        document.querySelector('#df-19848a0f-3c87-4a78-af07-76ab3a514446 button');\n",
              "      quickchartButtonEl.style.display =\n",
              "        google.colab.kernel.accessAllowed ? 'block' : 'none';\n",
              "    })();\n",
              "  </script>\n",
              "</div>\n",
              "    </div>\n",
              "  </div>\n"
            ],
            "application/vnd.google.colaboratory.intrinsic+json": {
              "type": "dataframe",
              "summary": "{\n  \"name\": \"train_df[[\\\"question\\\", \\\"answerEntity\\\", \\\"groundTruthAnswerEntity\\\", \\\"label\\\"]]\",\n  \"rows\": 10,\n  \"fields\": [\n    {\n      \"column\": \"question\",\n      \"properties\": {\n        \"dtype\": \"category\",\n        \"num_unique_values\": 1,\n        \"samples\": [\n          \"Whst is the name of the head of state and highest ranking political and religious authority in Iran?\"\n        ],\n        \"semantic_type\": \"\",\n        \"description\": \"\"\n      }\n    },\n    {\n      \"column\": \"answerEntity\",\n      \"properties\": {\n        \"dtype\": \"string\",\n        \"num_unique_values\": 10,\n        \"samples\": [\n          \"Ayatollah Ali Khamenei speaks about Iranian presidential election protests at prayers\"\n        ],\n        \"semantic_type\": \"\",\n        \"description\": \"\"\n      }\n    },\n    {\n      \"column\": \"groundTruthAnswerEntity\",\n      \"properties\": {\n        \"dtype\": \"category\",\n        \"num_unique_values\": 1,\n        \"samples\": [\n          \"Office of the Supreme Leader of Iran\"\n        ],\n        \"semantic_type\": \"\",\n        \"description\": \"\"\n      }\n    },\n    {\n      \"column\": \"label\",\n      \"properties\": {\n        \"dtype\": \"float32\",\n        \"num_unique_values\": 2,\n        \"samples\": [\n          1.0\n        ],\n        \"semantic_type\": \"\",\n        \"description\": \"\"\n      }\n    }\n  ]\n}"
            }
          },
          "metadata": {},
          "execution_count": 17
        }
      ],
      "source": [
        "train_df[[\"question\", \"answerEntity\", \"groundTruthAnswerEntity\", \"label\"]].head(10)"
      ]
    },
    {
      "cell_type": "code",
      "execution_count": null,
      "metadata": {
        "id": "qPWyIN3wnLzv"
      },
      "outputs": [],
      "source": [
        "test_df[[\"question\", \"answerEntity\", \"groundTruthAnswerEntity\", \"label\"]].head(10)"
      ]
    },
    {
      "cell_type": "code",
      "execution_count": null,
      "metadata": {
        "id": "gEx2RPKnnSzb"
      },
      "outputs": [],
      "source": [
        "class QuestionAnswerDataset(Dataset):\n",
        "\n",
        "    def __init__(self, df, tokenizer, max_length, context_key=\"answerEntity\",\n",
        "                 tokenizer_truncation=\"only_first\", graph_only=False):\n",
        "        super(QuestionAnswerDataset).__init__()\n",
        "\n",
        "        self.questions = df.question.values\n",
        "        self.contexts = df[context_key].values\n",
        "        self.labels = torch.tensor(df.label.values, dtype=torch.float32)\n",
        "        self.tokenizer = tokenizer\n",
        "        self.max_length = max_length\n",
        "        self.graph_only = graph_only\n",
        "        if graph_only:\n",
        "            self.tokenized_input = [tokenizer.encode_plus(y,\n",
        "                              max_length=self.max_length,\n",
        "                              padding=\"max_length\",\n",
        "                              truncation=tokenizer_truncation,\n",
        "                              return_tensors=\"pt\") \\\n",
        "                              for y in self.contexts]\n",
        "        else:\n",
        "            self.tokenized_input = [tokenizer.encode_plus(x, y,\n",
        "                              max_length=self.max_length,\n",
        "                              padding=\"max_length\",\n",
        "                              truncation=tokenizer_truncation,\n",
        "                              return_tensors=\"pt\", ) \\\n",
        "                          for x, y in zip(self.questions,\n",
        "                                          self.contexts)]\n",
        "        assert len(self.questions) == len(self.contexts) == len(self.labels)\n",
        "\n",
        "    def __len__(self):\n",
        "        return len(self.questions)\n",
        "\n",
        "    def __getitem__(self, idx):\n",
        "        return {\n",
        "                \"input_ids\": self.tokenized_input[idx][\"input_ids\"][0],\n",
        "                \"attention_mask\" : self.tokenized_input[idx][\"attention_mask\"][0],\n",
        "                \"labels\": self.labels[idx]}"
      ]
    },
    {
      "cell_type": "code",
      "execution_count": null,
      "metadata": {
        "id": "2u3Rlxmqvq5a"
      },
      "outputs": [],
      "source": []
    },
    {
      "cell_type": "code",
      "execution_count": null,
      "metadata": {
        "colab": {
          "base_uri": "https://localhost:8080/",
          "height": 331,
          "referenced_widgets": [
            "5612534637934a289c134572334acda1",
            "4469383d1d8b4a56a134f754be630461",
            "269c9012633f420ea5065f148d8a5849",
            "55d1b29653024875a580a1d3e5e9c0c5",
            "0c2448b255c04f88a90c112e77519360",
            "6b8b34c68032471e83d840c5631a391b",
            "82ed048df3f34815af1b1742d173b3f6",
            "b4703706f7f8488296fa0797a234c565",
            "098be08f23a44361bc78956232ac5edb",
            "3a046c69b85345f2b09ff26c17ddbb31",
            "ca5facac32b54cc9a41204cfde74e6f5",
            "f91f3220bfdd4af6a34a353366018e98",
            "1ea25443e28049fcb63c26480e0c46dc",
            "c994ad849183455e8f57af3b079f96c2",
            "e1f2ca106e4f4407baec3324e0d1adfb",
            "5a3d8243f14f47eda2c86c15cb87ea00",
            "20f47039e4e5402088d56f98e61f6ba5",
            "4c9176cbfe744444b4c0e67b9de7e2ca",
            "2c48d47eefd34e82a5f26846314bcc00",
            "60f1ad98441b4b90a1c3328fe9946602",
            "f0dea693e5034ad7a8062483fc859d05",
            "9b2896e7d385460dada2d89bbcacbd32",
            "1912ff71ce8a4f07820bd2252e2b7084",
            "fb6269a181e649f098820ca9af956995",
            "e6132b8f0a86489d8707b0f71d18f228",
            "42dda9aea42d4742bd95aec481751a81",
            "50c48f5da4c34a8289e45118152e6478",
            "95ecf9d577684228a567f379651e5027",
            "00e3cc3695c944d8b0bdcad836829377",
            "0aa00db77f95488bb3fff3884fdb4685",
            "617940b533474008acafc87b609aa005",
            "5159330ae9f24481956cf36fd051559d",
            "fcc7a91ea383472dadc978db5f22d553",
            "5e7da223a92c4f86919c14e338918c4e",
            "5b80958908884f169b52da55f286581d",
            "9117d352d42e4e29b3f947b53ee1f70b",
            "962a34324a6042449aaf31ecb0a0018e",
            "86fa621516dc42f1a774914386f4f10a",
            "ad72fe9cb6244bda916bd8e8ba38a336",
            "a80ef5d064ff4965b2b16432339de1bf",
            "89f8fb04915b464da5ed66e5b1f02ea7",
            "0421420e2eb74002b5775b611172724d",
            "d957311ec2164411a3903433cabc0c04",
            "9ab2a956bbd340ffb2ca6047f0b0723f",
            "53401cdac0254efcac5cdf392d81f22c",
            "71b398bc6faf4867934a3d3fe0977381",
            "cd76a3cd25874f7bb99f63ffa8864032",
            "2674710b0c7d4697a4bc774db6a26a3b",
            "a3fbda9299b141e09920d933d0760113",
            "fb85f7d5f0884a0f858853b05e034d19",
            "ef202553fa5e4c45841c665f237294ba",
            "804fc30fa5ad4dbc8ca516f035258670",
            "988d4f91e1ab4e349fc81d1e00bd5d55",
            "c19d4ea5a76d4dd9b12a59b67baa281a",
            "c55ee3284ab4404a93e7fad97ce24a1a",
            "6ba537b64b4348b797f6b4d6585a7374",
            "5a7fd8101d2f45c8ada09c426faacf45",
            "0cebb8536d7e4edb99f9ef2c6bacb129",
            "2fcfeb9b16cc4c0bab876e87d3f0c9d0",
            "f3395f398a234666abdc81fbe408de90",
            "ff9d14ae459e40d3a25786282b2f591e",
            "afe0a773d125439798b6a4839ae6bff2",
            "55a9fc3a878c44b78caffdf824ee1d65",
            "c5d1c23cec584f84ab8ae4c7882d8253",
            "c7b8ec945fe54d76b7b6ad994297cba4",
            "5c29a0e3b3cd4a199ca8d69bd72d2130"
          ]
        },
        "id": "EHhNzOBxwZZ1",
        "outputId": "5302bd2c-7fa1-439d-dd90-7fcbe53b61d7"
      },
      "outputs": [
        {
          "output_type": "stream",
          "name": "stderr",
          "text": [
            "/usr/local/lib/python3.10/dist-packages/huggingface_hub/utils/_token.py:88: UserWarning: \n",
            "The secret `HF_TOKEN` does not exist in your Colab secrets.\n",
            "To authenticate with the Hugging Face Hub, create a token in your settings tab (https://huggingface.co/settings/tokens), set it as secret in your Google Colab and restart your session.\n",
            "You will be able to reuse this secret in all of your notebooks.\n",
            "Please note that authentication is recommended but still optional to access public models or datasets.\n",
            "  warnings.warn(\n"
          ]
        },
        {
          "output_type": "display_data",
          "data": {
            "text/plain": [
              "tokenizer_config.json:   0%|          | 0.00/363 [00:00<?, ?B/s]"
            ],
            "application/vnd.jupyter.widget-view+json": {
              "version_major": 2,
              "version_minor": 0,
              "model_id": "5612534637934a289c134572334acda1"
            }
          },
          "metadata": {}
        },
        {
          "output_type": "display_data",
          "data": {
            "text/plain": [
              "vocab.txt:   0%|          | 0.00/232k [00:00<?, ?B/s]"
            ],
            "application/vnd.jupyter.widget-view+json": {
              "version_major": 2,
              "version_minor": 0,
              "model_id": "f91f3220bfdd4af6a34a353366018e98"
            }
          },
          "metadata": {}
        },
        {
          "output_type": "display_data",
          "data": {
            "text/plain": [
              "tokenizer.json:   0%|          | 0.00/466k [00:00<?, ?B/s]"
            ],
            "application/vnd.jupyter.widget-view+json": {
              "version_major": 2,
              "version_minor": 0,
              "model_id": "1912ff71ce8a4f07820bd2252e2b7084"
            }
          },
          "metadata": {}
        },
        {
          "output_type": "display_data",
          "data": {
            "text/plain": [
              "special_tokens_map.json:   0%|          | 0.00/239 [00:00<?, ?B/s]"
            ],
            "application/vnd.jupyter.widget-view+json": {
              "version_major": 2,
              "version_minor": 0,
              "model_id": "5e7da223a92c4f86919c14e338918c4e"
            }
          },
          "metadata": {}
        },
        {
          "output_type": "display_data",
          "data": {
            "text/plain": [
              "config.json:   0%|          | 0.00/571 [00:00<?, ?B/s]"
            ],
            "application/vnd.jupyter.widget-view+json": {
              "version_major": 2,
              "version_minor": 0,
              "model_id": "53401cdac0254efcac5cdf392d81f22c"
            }
          },
          "metadata": {}
        },
        {
          "output_type": "display_data",
          "data": {
            "text/plain": [
              "pytorch_model.bin:   0%|          | 0.00/438M [00:00<?, ?B/s]"
            ],
            "application/vnd.jupyter.widget-view+json": {
              "version_major": 2,
              "version_minor": 0,
              "model_id": "6ba537b64b4348b797f6b4d6585a7374"
            }
          },
          "metadata": {}
        },
        {
          "output_type": "stream",
          "name": "stdout",
          "text": [
            "# Trainable params:  50206080\n"
          ]
        }
      ],
      "source": [
        "# model_name=\"roberta-base\"\n",
        "model_name=\"sentence-transformers/all-mpnet-base-v2\"\n",
        "\n",
        "tokenizer = AutoTokenizer.from_pretrained(model_name)\n",
        "bert_model = AutoModel.from_pretrained(model_name)\n",
        "\n",
        "freeze_embeddings = True\n",
        "if freeze_embeddings:\n",
        "    for param in bert_model.embeddings.parameters():\n",
        "        param.requires_grad = False\n",
        "\n",
        "freeze_layer_count = 5\n",
        "if freeze_layer_count > 0:\n",
        "    for layer in bert_model.encoder.layer[:freeze_layer_count]:\n",
        "        for param in layer.parameters():\n",
        "            param.requires_grad = False\n",
        "\n",
        "print(\"# Trainable params: \", sum(p.numel() for p in bert_model.parameters() if p.requires_grad))"
      ]
    },
    {
      "cell_type": "code",
      "source": [
        "train_df_filtered = train_df.copy()\n",
        "train_df_filtered.sort_values(by=[\"label\", ], ascending=False, inplace=True)\n",
        "train_df_filtered[\"label\"].head()"
      ],
      "metadata": {
        "colab": {
          "base_uri": "https://localhost:8080/"
        },
        "id": "Txs7g1YFYJAG",
        "outputId": "1a6ab86a-0f84-4e8d-d167-95e1658351b4"
      },
      "execution_count": null,
      "outputs": [
        {
          "output_type": "execute_result",
          "data": {
            "text/plain": [
              "35034    1.0\n",
              "23710    1.0\n",
              "25265    1.0\n",
              "2916     1.0\n",
              "8998     1.0\n",
              "Name: label, dtype: float32"
            ]
          },
          "metadata": {},
          "execution_count": 23
        }
      ]
    },
    {
      "cell_type": "code",
      "source": [
        "print(train_df_filtered.shape)\n",
        "train_df_filtered.drop_duplicates(subset=[\"question\", \"answerEntity\"], keep=\"first\", inplace=True)\n",
        "print(train_df_filtered.shape)"
      ],
      "metadata": {
        "colab": {
          "base_uri": "https://localhost:8080/"
        },
        "id": "ODBroEInYggS",
        "outputId": "35bb7185-668b-4e43-82d2-b4575a1718ca"
      },
      "execution_count": null,
      "outputs": [
        {
          "output_type": "stream",
          "name": "stdout",
          "text": [
            "(33911, 11)\n",
            "(31780, 11)\n"
          ]
        }
      ]
    },
    {
      "cell_type": "code",
      "execution_count": null,
      "metadata": {
        "id": "A7cYGM0EpVdy"
      },
      "outputs": [],
      "source": [
        "max_length = 128\n",
        "train_dataset = QuestionAnswerDataset(train_df_filtered, tokenizer=tokenizer, max_length=max_length)\n",
        "dev_dataset = QuestionAnswerDataset(dev_df, tokenizer=tokenizer, max_length=max_length)\n",
        "test_dataset = QuestionAnswerDataset(test_df, tokenizer=tokenizer, max_length=max_length)"
      ]
    },
    {
      "cell_type": "code",
      "source": [
        "idx_bound = 2\n",
        "for i in range(idx_bound):\n",
        "    d = train_dataset[i]\n",
        "    inp_ids = d[\"input_ids\"]\n",
        "    tokens = tokenizer.convert_ids_to_tokens(inp_ids)\n",
        "    s = \"\".join((x.strip(\"#\") if x.startswith(\"#\") else f\" {x}\" for x in tokens))\n",
        "    print(s)\n",
        "    d = dev_dataset[i]\n",
        "    inp_ids = d[\"input_ids\"]\n",
        "    tokens = tokenizer.convert_ids_to_tokens(inp_ids)\n",
        "    s = \"\".join((x.strip(\"#\") if x.startswith(\"#\") else f\" {x}\" for x in tokens))\n",
        "    print(s)\n",
        "    d = test_dataset[i]\n",
        "    inp_ids = d[\"input_ids\"]\n",
        "    tokens = tokenizer.convert_ids_to_tokens(inp_ids)\n",
        "    s = \"\".join((x.strip(\"#\") if x.startswith(\"#\") else f\" {x}\" for x in tokens))\n",
        "    print(s)\n",
        "    print('---')"
      ],
      "metadata": {
        "colab": {
          "base_uri": "https://localhost:8080/"
        },
        "id": "L2jtK8ntXJlr",
        "outputId": "8d1b8f20-6b98-4314-b69c-e7938c70722d"
      },
      "execution_count": null,
      "outputs": [
        {
          "output_type": "stream",
          "name": "stdout",
          "text": [
            " <s> what is taller ; camron or juelz santana ? </s> </s> cam ' ron </s> <pad> <pad> <pad> <pad> <pad> <pad> <pad> <pad> <pad> <pad> <pad> <pad> <pad> <pad> <pad> <pad> <pad> <pad> <pad> <pad> <pad> <pad> <pad> <pad> <pad> <pad> <pad> <pad> <pad> <pad> <pad> <pad> <pad> <pad> <pad> <pad> <pad> <pad> <pad> <pad> <pad> <pad> <pad> <pad> <pad> <pad> <pad> <pad> <pad> <pad> <pad> <pad> <pad> <pad> <pad> <pad> <pad> <pad> <pad> <pad> <pad> <pad> <pad> <pad> <pad> <pad> <pad> <pad> <pad> <pad> <pad> <pad> <pad> <pad> <pad> <pad> <pad> <pad> <pad> <pad> <pad> <pad> <pad> <pad> <pad> <pad> <pad> <pad> <pad> <pad> <pad> <pad> <pad> <pad> <pad> <pad> <pad> <pad> <pad> <pad> <pad> <pad> <pad> <pad> <pad> <pad> <pad> <pad> <pad>\n",
            " <s> whose assassination sparked the beginning of world war i ? </s> </s> assassination of archduke franz ferdinand </s> <pad> <pad> <pad> <pad> <pad> <pad> <pad> <pad> <pad> <pad> <pad> <pad> <pad> <pad> <pad> <pad> <pad> <pad> <pad> <pad> <pad> <pad> <pad> <pad> <pad> <pad> <pad> <pad> <pad> <pad> <pad> <pad> <pad> <pad> <pad> <pad> <pad> <pad> <pad> <pad> <pad> <pad> <pad> <pad> <pad> <pad> <pad> <pad> <pad> <pad> <pad> <pad> <pad> <pad> <pad> <pad> <pad> <pad> <pad> <pad> <pad> <pad> <pad> <pad> <pad> <pad> <pad> <pad> <pad> <pad> <pad> <pad> <pad> <pad> <pad> <pad> <pad> <pad> <pad> <pad> <pad> <pad> <pad> <pad> <pad> <pad> <pad> <pad> <pad> <pad> <pad> <pad> <pad> <pad> <pad> <pad> <pad> <pad> <pad> <pad> <pad> <pad> <pad> <pad> <pad> <pad> <pad> <pad> <pad>\n",
            " <s> after publishing a time to kill , which book did its author begin working on immediately ? </s> </s> a clash of kings </s> <pad> <pad> <pad> <pad> <pad> <pad> <pad> <pad> <pad> <pad> <pad> <pad> <pad> <pad> <pad> <pad> <pad> <pad> <pad> <pad> <pad> <pad> <pad> <pad> <pad> <pad> <pad> <pad> <pad> <pad> <pad> <pad> <pad> <pad> <pad> <pad> <pad> <pad> <pad> <pad> <pad> <pad> <pad> <pad> <pad> <pad> <pad> <pad> <pad> <pad> <pad> <pad> <pad> <pad> <pad> <pad> <pad> <pad> <pad> <pad> <pad> <pad> <pad> <pad> <pad> <pad> <pad> <pad> <pad> <pad> <pad> <pad> <pad> <pad> <pad> <pad> <pad> <pad> <pad> <pad> <pad> <pad> <pad> <pad> <pad> <pad> <pad> <pad> <pad> <pad> <pad> <pad> <pad> <pad> <pad> <pad> <pad> <pad> <pad> <pad> <pad> <pad> <pad>\n",
            "---\n",
            " <s> which harry potter film made the most money ? </s> </s> harry potter and the deathly hallows – part 2 </s> <pad> <pad> <pad> <pad> <pad> <pad> <pad> <pad> <pad> <pad> <pad> <pad> <pad> <pad> <pad> <pad> <pad> <pad> <pad> <pad> <pad> <pad> <pad> <pad> <pad> <pad> <pad> <pad> <pad> <pad> <pad> <pad> <pad> <pad> <pad> <pad> <pad> <pad> <pad> <pad> <pad> <pad> <pad> <pad> <pad> <pad> <pad> <pad> <pad> <pad> <pad> <pad> <pad> <pad> <pad> <pad> <pad> <pad> <pad> <pad> <pad> <pad> <pad> <pad> <pad> <pad> <pad> <pad> <pad> <pad> <pad> <pad> <pad> <pad> <pad> <pad> <pad> <pad> <pad> <pad> <pad> <pad> <pad> <pad> <pad> <pad> <pad> <pad> <pad> <pad> <pad> <pad> <pad> <pad> <pad> <pad> <pad> <pad> <pad> <pad> <pad> <pad> <pad> <pad>\n",
            " <s> whose assassination sparked the beginning of world war i ? </s> </s> franz - joseph </s> <pad> <pad> <pad> <pad> <pad> <pad> <pad> <pad> <pad> <pad> <pad> <pad> <pad> <pad> <pad> <pad> <pad> <pad> <pad> <pad> <pad> <pad> <pad> <pad> <pad> <pad> <pad> <pad> <pad> <pad> <pad> <pad> <pad> <pad> <pad> <pad> <pad> <pad> <pad> <pad> <pad> <pad> <pad> <pad> <pad> <pad> <pad> <pad> <pad> <pad> <pad> <pad> <pad> <pad> <pad> <pad> <pad> <pad> <pad> <pad> <pad> <pad> <pad> <pad> <pad> <pad> <pad> <pad> <pad> <pad> <pad> <pad> <pad> <pad> <pad> <pad> <pad> <pad> <pad> <pad> <pad> <pad> <pad> <pad> <pad> <pad> <pad> <pad> <pad> <pad> <pad> <pad> <pad> <pad> <pad> <pad> <pad> <pad> <pad> <pad> <pad> <pad> <pad> <pad> <pad> <pad> <pad> <pad> <pad> <pad> <pad>\n",
            " <s> after publishing a time to kill , which book did its author begin working on immediately ? </s> </s> a feast for crows </s> <pad> <pad> <pad> <pad> <pad> <pad> <pad> <pad> <pad> <pad> <pad> <pad> <pad> <pad> <pad> <pad> <pad> <pad> <pad> <pad> <pad> <pad> <pad> <pad> <pad> <pad> <pad> <pad> <pad> <pad> <pad> <pad> <pad> <pad> <pad> <pad> <pad> <pad> <pad> <pad> <pad> <pad> <pad> <pad> <pad> <pad> <pad> <pad> <pad> <pad> <pad> <pad> <pad> <pad> <pad> <pad> <pad> <pad> <pad> <pad> <pad> <pad> <pad> <pad> <pad> <pad> <pad> <pad> <pad> <pad> <pad> <pad> <pad> <pad> <pad> <pad> <pad> <pad> <pad> <pad> <pad> <pad> <pad> <pad> <pad> <pad> <pad> <pad> <pad> <pad> <pad> <pad> <pad> <pad> <pad> <pad> <pad> <pad> <pad> <pad> <pad> <pad> <pad>\n",
            "---\n"
          ]
        }
      ]
    },
    {
      "cell_type": "code",
      "execution_count": null,
      "metadata": {
        "id": "Lg4MGlFZpVgq"
      },
      "outputs": [],
      "source": [
        "batch_size = 64\n",
        "num_workers = 0\n",
        "\n",
        "train_loader = torch.utils.data.DataLoader(\n",
        "    train_dataset, batch_size=batch_size, num_workers=num_workers, shuffle=True, drop_last=True,\n",
        ")\n",
        "dev_loader = torch.utils.data.DataLoader(\n",
        "    dev_dataset, batch_size=batch_size, num_workers=num_workers, shuffle=False, drop_last=False,\n",
        ")\n",
        "test_loader = torch.utils.data.DataLoader(\n",
        "    test_dataset, batch_size=batch_size, num_workers=num_workers, shuffle=False, drop_last=False,\n",
        ")"
      ]
    },
    {
      "cell_type": "code",
      "execution_count": null,
      "metadata": {
        "id": "dGs_fL9YpwSA"
      },
      "outputs": [],
      "source": [
        "\n"
      ]
    },
    {
      "cell_type": "code",
      "execution_count": null,
      "metadata": {
        "id": "i8b9mpfOniVq"
      },
      "outputs": [],
      "source": [
        "def train(model, iterator, optimizer, criterion, device,\n",
        "          train_history=None, valid_history=None,):\n",
        "    model.train()\n",
        "\n",
        "    epoch_loss = 0\n",
        "    history = []\n",
        "    for i, batch in enumerate(tqdm(iterator)):\n",
        "\n",
        "        optimizer.zero_grad()\n",
        "\n",
        "        input_ids = batch[\"input_ids\"].to(device)\n",
        "        attention_mask = batch[\"attention_mask\"].to(device)\n",
        "        labels = batch[\"labels\"].to(device)\n",
        "        output = model(inputs=input_ids, attention_mask=attention_mask,).squeeze(1)\n",
        "        loss = criterion(output, labels)\n",
        "        loss.backward()\n",
        "        optimizer.step()\n",
        "        # scheduler.step()\n",
        "\n",
        "        epoch_loss += loss.item()\n",
        "\n",
        "        history.append(loss.cpu().data.numpy())\n",
        "\n",
        "    return epoch_loss / (i + 1)\n",
        "\n",
        "def evaluate(model, iterator, criterion, device):\n",
        "    model.eval()\n",
        "\n",
        "    epoch_loss = 0\n",
        "\n",
        "    true_labels = []\n",
        "    pred_labels = []\n",
        "\n",
        "    with torch.no_grad():\n",
        "\n",
        "        for i, batch in enumerate(iterator):\n",
        "\n",
        "            input_ids = batch[\"input_ids\"].to(device)\n",
        "            attention_mask = batch[\"attention_mask\"].to(device)\n",
        "            labels = batch[\"labels\"]\n",
        "\n",
        "            true_labels.extend(labels.cpu().numpy())\n",
        "            labels = labels.to(device)\n",
        "\n",
        "\n",
        "            output = model(inputs=input_ids, attention_mask=attention_mask,).squeeze(1)\n",
        "            pred_probas = output.cpu().numpy()\n",
        "            batch_pred_labels = (pred_probas >= 0.5) * 1\n",
        "\n",
        "            loss = criterion(output, labels)\n",
        "\n",
        "            pred_labels.extend(batch_pred_labels)\n",
        "            epoch_loss += loss.item()\n",
        "\n",
        "    valid_f1_score = f1_score(true_labels, pred_labels)\n",
        "    return epoch_loss / (i + 1), valid_f1_score\n",
        "\n",
        "def epoch_time(start_time, end_time):\n",
        "    elapsed_time = end_time - start_time\n",
        "    elapsed_mins = int(elapsed_time / 60)\n",
        "    elapsed_secs = int(elapsed_time - (elapsed_mins * 60))\n",
        "    return elapsed_mins, elapsed_secs"
      ]
    },
    {
      "cell_type": "code",
      "execution_count": null,
      "metadata": {
        "id": "65M_aYDlpln9"
      },
      "outputs": [],
      "source": []
    },
    {
      "cell_type": "code",
      "execution_count": null,
      "metadata": {
        "id": "dJf1NgzxcGIp"
      },
      "outputs": [],
      "source": [
        "import time\n",
        "import math\n",
        "import matplotlib\n",
        "matplotlib.rcParams.update({'figure.figsize': (16, 12), 'font.size': 14})\n",
        "import matplotlib.pyplot as plt\n",
        "%matplotlib inline\n",
        "from IPython.display import clear_output"
      ]
    },
    {
      "cell_type": "code",
      "execution_count": null,
      "metadata": {
        "id": "5LUN9l3masQd"
      },
      "outputs": [],
      "source": [
        "def train_evaluate(bert_classifier, train_loader, dev_loader, optimizer, criterion, n_epochs,  checkpoint_fname, device):\n",
        "    train_history = []\n",
        "    valid_history = []\n",
        "    valid_history_f1 = []\n",
        "\n",
        "    best_valid_loss = float('inf')\n",
        "    best_f1_score = 0.0\n",
        "\n",
        "    for epoch in range(n_epochs):\n",
        "\n",
        "        start_time = time.time()\n",
        "\n",
        "        train_loss = train(bert_classifier, train_loader, optimizer, criterion, device, train_history, valid_history, )\n",
        "        valid_loss, valid_f1_score = evaluate(bert_classifier, dev_loader, criterion, device)\n",
        "\n",
        "        end_time = time.time()\n",
        "\n",
        "        epoch_mins, epoch_secs = epoch_time(start_time, end_time)\n",
        "\n",
        "        train_history.append(train_loss)\n",
        "        valid_history.append(valid_loss)\n",
        "        valid_history_f1.append(valid_f1_score)\n",
        "\n",
        "        fig, ax = plt.subplots(nrows=1, ncols=2, figsize=(12, 8))\n",
        "\n",
        "        clear_output(True)\n",
        "        ax[0].plot(valid_history_f1, label='Val f1-score')\n",
        "        ax[0].set_xlabel('Epoch')\n",
        "        ax[0].set_title('Val f1-score')\n",
        "\n",
        "        ax[1].plot(train_history, label='general train history')\n",
        "        ax[1].set_xlabel('Epoch')\n",
        "        ax[1].plot(valid_history, label='general valid history')\n",
        "\n",
        "        plt.legend()\n",
        "        plt.show()\n",
        "\n",
        "        if valid_f1_score > best_f1_score:\n",
        "            best_f1_score = valid_f1_score\n",
        "            torch.save(bert_classifier.state_dict(), f'best-val-{checkpoint_fname}.pt')\n",
        "\n",
        "        print(f'Epoch: {epoch+1:02} | Time: {epoch_mins}m {epoch_secs}s')\n",
        "        print(f'\\tTrain Loss: {train_loss:.3f}')\n",
        "        print(f'\\t Val. Loss: {valid_loss:.3f} |  Val. F1: {valid_f1_score:.3f}')"
      ]
    },
    {
      "cell_type": "code",
      "execution_count": null,
      "metadata": {
        "id": "64mMbvBGplqx"
      },
      "outputs": [],
      "source": [
        "def predict(model, data_loader, device):\n",
        "    true_labels = []\n",
        "    pred_labels = []\n",
        "\n",
        "    model.eval()\n",
        "    with torch.no_grad():\n",
        "        for i, batch in enumerate(data_loader):\n",
        "            input_ids = batch[\"input_ids\"].to(device)\n",
        "            attention_mask = batch[\"attention_mask\"].to(device)\n",
        "            batch_true_labels = batch[\"labels\"].cpu().numpy()\n",
        "\n",
        "\n",
        "            pred_probas = model(inputs=input_ids, attention_mask=attention_mask,).squeeze(1)\n",
        "            pred_probas = pred_probas.cpu().numpy()\n",
        "\n",
        "            batch_pred_labels = (pred_probas >= 0.5) * 1\n",
        "\n",
        "            pred_labels.extend(batch_pred_labels)\n",
        "            true_labels.extend(batch_true_labels)\n",
        "    return true_labels, pred_labels"
      ]
    },
    {
      "cell_type": "code",
      "execution_count": null,
      "metadata": {
        "id": "mIf1LjY-qCpl"
      },
      "outputs": [],
      "source": [
        "class BertSimpleClassifier(nn.Module):\n",
        "    def __init__(self, bert_text_encoder, dropout=0.1):\n",
        "        super().__init__()\n",
        "\n",
        "        self.bert_text_encoder = bert_text_encoder\n",
        "        self.dropout = nn.Dropout(p=dropout)\n",
        "        bert_hidden_dim = bert_text_encoder.config.hidden_size\n",
        "\n",
        "        self.classifier = nn.Sequential(\n",
        "            nn.Dropout(p=dropout),\n",
        "            nn.ReLU(),\n",
        "            nn.Linear(bert_hidden_dim, bert_hidden_dim),\n",
        "            nn.Dropout(p=dropout),\n",
        "            nn.ReLU(),\n",
        "            nn.Linear(bert_hidden_dim, 1),\n",
        "        )\n",
        "\n",
        "\n",
        "    def forward(self, inputs, attention_mask,):\n",
        "        last_hidden_states = self.bert_text_encoder(inputs, attention_mask=attention_mask,\n",
        "                                                    return_dict=True)['last_hidden_state']\n",
        "        text_cls_embeddings = torch.stack([elem[0, :] for elem in last_hidden_states])\n",
        "        proba = self.classifier(text_cls_embeddings)\n",
        "        return proba"
      ]
    },
    {
      "cell_type": "code",
      "execution_count": null,
      "metadata": {
        "id": "TQbr6RZrqCsY"
      },
      "outputs": [],
      "source": []
    },
    {
      "cell_type": "code",
      "execution_count": null,
      "metadata": {
        "id": "5eVDSwqqfCxW"
      },
      "outputs": [],
      "source": [
        "N_EPOCHS = 10\n",
        "DROPOUT = 0.2"
      ]
    },
    {
      "cell_type": "code",
      "execution_count": null,
      "metadata": {
        "id": "xbVhbGTIfDMH"
      },
      "outputs": [],
      "source": [
        "bert_simple_clf = BertSimpleClassifier(bert_model, dropout=DROPOUT).to(device)\n",
        "optimizer = optim.Adam(bert_simple_clf.parameters(), lr=3e-5)\n",
        "criterion = nn.BCEWithLogitsLoss().to(device)"
      ]
    },
    {
      "cell_type": "code",
      "source": [
        "class_counts = train_df[\"label\"].value_counts()\n",
        "pos_weight = class_counts[0] / class_counts[1]\n",
        "\n",
        "pos_weight = torch.FloatTensor([pos_weight, ]).to(device)\n",
        "criterion = nn.BCEWithLogitsLoss(pos_weight=pos_weight).to(device)"
      ],
      "metadata": {
        "id": "RK7jKSfSHi-D"
      },
      "execution_count": null,
      "outputs": []
    },
    {
      "cell_type": "code",
      "execution_count": null,
      "metadata": {
        "colab": {
          "base_uri": "https://localhost:8080/",
          "height": 801
        },
        "id": "Y4GsPWI3wN_4",
        "outputId": "6bc05c36-14e0-4cbd-cfc8-d7639520fe2f"
      },
      "outputs": [
        {
          "output_type": "display_data",
          "data": {
            "text/plain": [
              "<Figure size 1200x800 with 2 Axes>"
            ],
            "image/png": "[encoded data removed]"
          },
          "metadata": {}
        },
        {
          "output_type": "stream",
          "name": "stdout",
          "text": [
            "Epoch: 06 | Time: 9m 18s\n",
            "\tTrain Loss: 0.960\n",
            "\t Val. Loss: 1.221 |  Val. F1: 0.333\n"
          ]
        },
        {
          "output_type": "stream",
          "name": "stderr",
          "text": [
            "100%|██████████| 496/496 [08:53<00:00,  1.07s/it]\n"
          ]
        }
      ],
      "source": [
        "train_evaluate(bert_simple_clf, train_loader, dev_loader, optimizer,\n",
        "               criterion, N_EPOCHS, \"text_only_baseline\", device)"
      ]
    },
    {
      "cell_type": "code",
      "execution_count": null,
      "metadata": {
        "id": "wdydaSpIwOB8",
        "colab": {
          "base_uri": "https://localhost:8080/"
        },
        "outputId": "48da679a-58e4-4d83-ddb8-5c2892199f47"
      },
      "outputs": [
        {
          "output_type": "execute_result",
          "data": {
            "text/plain": [
              "<All keys matched successfully>"
            ]
          },
          "metadata": {},
          "execution_count": 41
        }
      ],
      "source": [
        "bert_simple_clf.load_state_dict(torch.load('best-val-text_only_baseline.pt'))"
      ]
    },
    {
      "cell_type": "markdown",
      "metadata": {
        "id": "Wlamg50cA3ez"
      },
      "source": [
        "### Evaluation on dev set"
      ]
    },
    {
      "cell_type": "code",
      "execution_count": null,
      "metadata": {
        "id": "Qzjnd3xPbLTF",
        "colab": {
          "base_uri": "https://localhost:8080/"
        },
        "outputId": "9b369973-7865-4423-efdf-7c1e2d0694f9"
      },
      "outputs": [
        {
          "output_type": "stream",
          "name": "stdout",
          "text": [
            "0.21897810218978103,0.47244094488188976,0.29925187032418954\n"
          ]
        }
      ],
      "source": [
        "true_labels, pred_labels = predict(bert_simple_clf, dev_loader, device)\n",
        "print(f\"{precision_score(true_labels, pred_labels)},{recall_score(true_labels, pred_labels)},{f1_score(true_labels, pred_labels)}\")"
      ]
    },
    {
      "cell_type": "markdown",
      "metadata": {
        "id": "fWPJAuNoAy_X"
      },
      "source": [
        "### Evaluation on test set"
      ]
    },
    {
      "cell_type": "code",
      "execution_count": null,
      "metadata": {
        "id": "jGdeCxifbLVR",
        "colab": {
          "base_uri": "https://localhost:8080/"
        },
        "outputId": "04094ca0-85f6-4671-89dd-ef3957e3215c"
      },
      "outputs": [
        {
          "output_type": "stream",
          "name": "stdout",
          "text": [
            "0.1503644035289605,0.3831867057673509,0.2159779614325069\n"
          ]
        }
      ],
      "source": [
        "true_labels, pred_labels = predict(bert_simple_clf, test_loader, device)\n",
        "print(f\"{precision_score(true_labels, pred_labels)},{recall_score(true_labels, pred_labels)},{f1_score(true_labels, pred_labels)}\")"
      ]
    },
    {
      "cell_type": "code",
      "execution_count": null,
      "metadata": {
        "id": "1-8RUJAHCQfe"
      },
      "outputs": [],
      "source": [
        "test_df[\"true_y\"] = true_labels\n",
        "test_df[\"prediction\"] = pred_labels"
      ]
    },
    {
      "cell_type": "code",
      "execution_count": null,
      "metadata": {
        "id": "5c_Z9ByeB2lT"
      },
      "outputs": [],
      "source": [
        "test_pred_path = \"test_pred_mpnet_nograph_baseline.tsv\"\n",
        "# test_df.to_csv(test_pred_path, sep='\\t', index=False)\n",
        "test_df[[\"sample_id\", \"prediction\"]].to_csv(test_pred_path, sep='\\t', index=False)"
      ]
    },
    {
      "cell_type": "markdown",
      "metadata": {
        "id": "dxjDmdljd5D9"
      },
      "source": [
        "## Linearized graph baseline"
      ]
    },
    {
      "cell_type": "code",
      "execution_count": null,
      "metadata": {
        "id": "_IjjZp1kXR7Y"
      },
      "outputs": [],
      "source": [
        "SEP_TOKEN = tokenizer.sep_token"
      ]
    },
    {
      "cell_type": "code",
      "execution_count": null,
      "metadata": {
        "id": "UDtkFDCOa2I4"
      },
      "outputs": [],
      "source": [
        "# Example:\n",
        "# {'directed': True, 'multigraph': False, 'graph': {},\n",
        "# 'nodes': [{'type': 'QUESTIONS_ENTITY', 'name_': 'Q49', 'id': 0, 'label': 'North America'},\n",
        "# {'type': 'ANSWER_CANDIDATE_ENTITY', 'name_': 'Q194057', 'id': 1, 'label': 'Mount Rainier'}],\n",
        "# 'links': [{'name_': 'P30', 'source': 1, 'target': 0, 'label': 'continent'}]}\n",
        "def linearize_graph(graph_dict):\n",
        "    nodes = sorted((node_dict for node_dict in graph_dict[\"nodes\"]), key=lambda d:d[\"id\"])\n",
        "    for n_id, node_dict in enumerate(nodes):\n",
        "        assert n_id == node_dict[\"id\"]\n",
        "    src_node_id2links = {}\n",
        "    for link_dict in graph_dict[\"links\"]:\n",
        "        link_src =  link_dict[\"source\"]\n",
        "        if src_node_id2links.get(link_src) is None:\n",
        "            src_node_id2links[link_src] = []\n",
        "        src_node_id2links[link_src].append(link_dict)\n",
        "    graph_s = \"\"\n",
        "\n",
        "    for n_id, node_dict in enumerate(nodes):\n",
        "        links = src_node_id2links.get(n_id, list())\n",
        "        start_label = node_dict[\"label\"]\n",
        "        if node_dict[\"type\"] == \"ANSWER_CANDIDATE_ENTITY\":\n",
        "            start_label = f\"{SEP_TOKEN} {start_label} {SEP_TOKEN}\"\n",
        "        for link_dict in links:\n",
        "            target_label = nodes[link_dict[\"target\"]][\"label\"]\n",
        "            if nodes[link_dict[\"target\"]][\"type\"] == \"ANSWER_CANDIDATE_ENTITY\":\n",
        "                target_label = f\"{SEP_TOKEN} {target_label} {SEP_TOKEN}\"\n",
        "            link_s = f\" {start_label}, {link_dict['label']}, {target_label} \"\n",
        "            graph_s += link_s\n",
        "\n",
        "    return graph_s"
      ]
    },
    {
      "cell_type": "code",
      "execution_count": null,
      "metadata": {
        "id": "3MMm3s5Ea2Lr",
        "colab": {
          "base_uri": "https://localhost:8080/"
        },
        "outputId": "e1c1a7eb-16af-4baa-86b3-460a516c1999"
      },
      "outputs": [
        {
          "output_type": "stream",
          "name": "stderr",
          "text": [
            "<ipython-input-31-25c1f493563b>:1: SettingWithCopyWarning: \n",
            "A value is trying to be set on a copy of a slice from a DataFrame.\n",
            "Try using .loc[row_indexer,col_indexer] = value instead\n",
            "\n",
            "See the caveats in the documentation: https://pandas.pydata.org/pandas-docs/stable/user_guide/indexing.html#returning-a-view-versus-a-copy\n",
            "  train_df[\"linearized_graph\"] = train_df[\"graph\"].apply(linearize_graph)\n",
            "<ipython-input-31-25c1f493563b>:2: SettingWithCopyWarning: \n",
            "A value is trying to be set on a copy of a slice from a DataFrame.\n",
            "Try using .loc[row_indexer,col_indexer] = value instead\n",
            "\n",
            "See the caveats in the documentation: https://pandas.pydata.org/pandas-docs/stable/user_guide/indexing.html#returning-a-view-versus-a-copy\n",
            "  dev_df[\"linearized_graph\"] = dev_df[\"graph\"].apply(linearize_graph)\n"
          ]
        }
      ],
      "source": [
        "train_df[\"linearized_graph\"] = train_df[\"graph\"].apply(linearize_graph)\n",
        "dev_df[\"linearized_graph\"] = dev_df[\"graph\"].apply(linearize_graph)\n",
        "test_df[\"linearized_graph\"] = test_df[\"graph\"].apply(linearize_graph)"
      ]
    },
    {
      "cell_type": "code",
      "execution_count": null,
      "metadata": {
        "id": "lv48cvNkahzr"
      },
      "outputs": [],
      "source": [
        "pd.set_option('display.max_colwidth', None)"
      ]
    },
    {
      "cell_type": "code",
      "execution_count": null,
      "metadata": {
        "id": "BJh3Sj37a2Nv",
        "colab": {
          "base_uri": "https://localhost:8080/"
        },
        "outputId": "be86e228-2903-4d9d-d2cb-5798c8bc6516"
      },
      "outputs": [
        {
          "output_type": "execute_result",
          "data": {
            "text/plain": [
              "0                                                                                                                                                                                                                                                                                                               Iran, country, Iran  Iran, replaces, Pahlavi dynasty  Pahlavi dynasty, replaced by, Iran  </s> Ruhollah Khomeini's return to Iran </s>, country, Pahlavi dynasty \n",
              "1     Iran, described by source, Jewish Encyclopedia of Brockhaus and Efron  Iran, country, Iran  letter, described by source, Jewish Encyclopedia of Brockhaus and Efron  letter, subclass of, written work  The Book of Healing, country of origin, Iran  The Book of Healing, instance of, written work  </s> Ruhollah Khomeini's letter to Mikhail Gorbachev </s>, instance of, written work  </s> Ruhollah Khomeini's letter to Mikhail Gorbachev </s>, instance of, letter \n",
              "2                                                                                                                                                                                                                                                                                                                                               Iran, country, Iran  Iran, head of state, </s> Ruhollah Khomeini </s>  </s> Ruhollah Khomeini </s>, country of citizenship, Iran \n",
              "3                                                                                                                                                                                                                                      Iran, country, Iran  </s> Office of the Supreme Leader of Iran </s>, different from, Imam Khomeini Hussainiya  Imam Khomeini Hussainiya, country, Iran  Imam Khomeini Hussainiya, part of, </s> Office of the Supreme Leader of Iran </s> \n",
              "4                                                                                                                                                                                                                         Iran, country, Iran  </s> Mohammad Reza Pahlavi and Soraya </s>, has part(s), Soraya Esfandiari-Bakhtiari  Soraya Esfandiari-Bakhtiari, country of citizenship, Iran  Soraya Esfandiari-Bakhtiari, part of, </s> Mohammad Reza Pahlavi and Soraya </s> \n",
              "Name: linearized_graph, dtype: object"
            ]
          },
          "metadata": {},
          "execution_count": 33
        }
      ],
      "source": [
        "train_df[\"linearized_graph\"].head()"
      ]
    },
    {
      "cell_type": "code",
      "execution_count": null,
      "metadata": {
        "id": "bjkPcQVMc45f",
        "colab": {
          "base_uri": "https://localhost:8080/"
        },
        "outputId": "6ec52f1d-808f-431b-a417-47502fd71891"
      },
      "outputs": [
        {
          "output_type": "execute_result",
          "data": {
            "text/plain": [
              "22                                                                            World War I, has immediate cause, </s> assassination of Archduke Franz Ferdinand </s>  </s> assassination of Archduke Franz Ferdinand </s>, immediate cause of, World War I \n",
              "23                            Latin script, on focus list of Wikimedia project, Wikipedia:Vital articles/Level/4  World War I, on focus list of Wikimedia project, Wikipedia:Vital articles/Level/4  </s> Franz-Joseph </s>, writing system, Latin script \n",
              "24     Franz Joseph I of Austria, conflict, World War I  Franz Joseph I of Austria, part of, </s> Franz Joseph I of Austria and Empress Elisabeth </s>  </s> Franz Joseph I of Austria and Empress Elisabeth </s>, has part(s), Franz Joseph I of Austria \n",
              "25                                                                                                                                                                                             </s> Franz Joseph I of Austria </s>, conflict, World War I \n",
              "26                                                                                                                                        Franz Joseph I of Austria, conflict, World War I  Franz Joseph I of Austria, given name, </s> Franz Joseph </s> \n",
              "Name: linearized_graph, dtype: object"
            ]
          },
          "metadata": {},
          "execution_count": 40
        }
      ],
      "source": [
        "dev_df[\"linearized_graph\"].head()"
      ]
    },
    {
      "cell_type": "code",
      "execution_count": null,
      "metadata": {
        "id": "PJ1_Hvtic48H",
        "colab": {
          "base_uri": "https://localhost:8080/"
        },
        "outputId": "7e5830a3-57ea-44ef-d6ce-b144c0aa72f5"
      },
      "outputs": [
        {
          "output_type": "execute_result",
          "data": {
            "text/plain": [
              "0                   United States, country, United States  </s> A Clash of Kings </s>, country of origin, United States  A Time to Kill, country of origin, United States \n",
              "1                  United States, country, United States  </s> A Feast for Crows </s>, country of origin, United States  A Time to Kill, country of origin, United States \n",
              "2     United States, country, United States  </s> Fear and Loathing in Las Vegas </s>, country of origin, United States  A Time to Kill, country of origin, United States \n",
              "3                      United States, country, United States  </s> In Cold Blood </s>, country of origin, United States  A Time to Kill, country of origin, United States \n",
              "4                     United States, country, United States  </s> Into the Woods </s>, country of origin, United States  A Time to Kill, country of origin, United States \n",
              "Name: linearized_graph, dtype: object"
            ]
          },
          "metadata": {},
          "execution_count": 41
        }
      ],
      "source": [
        "test_df[\"linearized_graph\"].head()"
      ]
    },
    {
      "cell_type": "code",
      "execution_count": null,
      "metadata": {
        "id": "_9QjwGmDc4-o",
        "colab": {
          "base_uri": "https://localhost:8080/"
        },
        "outputId": "3221ca5b-349c-4432-a501-1f16386ad867"
      },
      "outputs": [
        {
          "output_type": "stream",
          "name": "stdout",
          "text": [
            "# Trainable params:  50206080\n"
          ]
        }
      ],
      "source": [
        "# model_name=\"roberta-base\"\n",
        "model_name=\"sentence-transformers/all-mpnet-base-v2\"\n",
        "\n",
        "tokenizer = AutoTokenizer.from_pretrained(model_name)\n",
        "bert_model = AutoModel.from_pretrained(model_name)\n",
        "\n",
        "freeze_embeddings = True\n",
        "if freeze_embeddings:\n",
        "    for param in bert_model.embeddings.parameters():\n",
        "        param.requires_grad = False\n",
        "\n",
        "freeze_layer_count = 5\n",
        "if freeze_layer_count > 0:\n",
        "    for layer in bert_model.encoder.layer[:freeze_layer_count]:\n",
        "        for param in layer.parameters():\n",
        "            param.requires_grad = False\n",
        "\n",
        "print(\"# Trainable params: \", sum(p.numel() for p in bert_model.parameters() if p.requires_grad))"
      ]
    },
    {
      "cell_type": "code",
      "execution_count": null,
      "metadata": {
        "id": "IMAj9xH8eOPI"
      },
      "outputs": [],
      "source": [
        "max_length = 128\n",
        "train_dataset = QuestionAnswerDataset(train_df, tokenizer=tokenizer, max_length=max_length, context_key=\"linearized_graph\",\n",
        "                                      tokenizer_truncation=\"only_second\")\n",
        "dev_dataset = QuestionAnswerDataset(dev_df, tokenizer=tokenizer, max_length=max_length, context_key=\"linearized_graph\",\n",
        "                                    tokenizer_truncation=\"only_second\")\n",
        "test_dataset = QuestionAnswerDataset(test_df, tokenizer=tokenizer, max_length=max_length, context_key=\"linearized_graph\",\n",
        "                                     tokenizer_truncation=\"only_second\")"
      ]
    },
    {
      "cell_type": "code",
      "execution_count": null,
      "metadata": {
        "id": "UyovLTaleOPJ"
      },
      "outputs": [],
      "source": [
        "batch_size = 64\n",
        "num_workers = 0\n",
        "\n",
        "train_loader = torch.utils.data.DataLoader(\n",
        "    train_dataset, batch_size=batch_size, num_workers=num_workers, shuffle=True, drop_last=True,\n",
        ")\n",
        "dev_loader = torch.utils.data.DataLoader(\n",
        "    dev_dataset, batch_size=batch_size, num_workers=num_workers, shuffle=False, drop_last=False,\n",
        ")\n",
        "test_loader = torch.utils.data.DataLoader(\n",
        "    test_dataset, batch_size=batch_size, num_workers=num_workers, shuffle=False, drop_last=False,\n",
        ")"
      ]
    },
    {
      "cell_type": "code",
      "execution_count": null,
      "metadata": {
        "id": "IsK3zQ0AeN-s"
      },
      "outputs": [],
      "source": []
    },
    {
      "cell_type": "code",
      "execution_count": null,
      "metadata": {
        "id": "8-lTz-GTebQr"
      },
      "outputs": [],
      "source": [
        "N_EPOCHS = 5\n",
        "DROPOUT = 0.2"
      ]
    },
    {
      "cell_type": "code",
      "execution_count": null,
      "metadata": {
        "id": "uEc_HDseebQ3"
      },
      "outputs": [],
      "source": [
        "bert_linearized_graph_clf = BertSimpleClassifier(bert_model, dropout=DROPOUT).to(device)\n",
        "optimizer = optim.Adam(bert_linearized_graph_clf.parameters(), lr=3e-5)\n",
        "criterion = nn.BCEWithLogitsLoss()"
      ]
    },
    {
      "cell_type": "code",
      "execution_count": null,
      "metadata": {
        "id": "Qh1GJ_CvebQ3",
        "colab": {
          "base_uri": "https://localhost:8080/",
          "height": 784
        },
        "outputId": "c7994974-20ea-409c-e1e2-f38484d31d78"
      },
      "outputs": [
        {
          "output_type": "display_data",
          "data": {
            "text/plain": [
              "<Figure size 1200x800 with 2 Axes>"
            ],
            "image/png": "[encoded data removed]"
          },
          "metadata": {}
        },
        {
          "output_type": "stream",
          "name": "stdout",
          "text": [
            "Epoch: 05 | Time: 10m 16s\n",
            "\tTrain Loss: 0.132\n",
            "\t Val. Loss: 0.160 |  Val. F1: 0.600\n"
          ]
        }
      ],
      "source": [
        "train_evaluate(bert_linearized_graph_clf, train_loader, dev_loader, optimizer,\n",
        "               criterion, N_EPOCHS, \"bert_linearized_graph_clf\", device)"
      ]
    },
    {
      "cell_type": "code",
      "execution_count": null,
      "metadata": {
        "id": "bkh2ONAJebQ4",
        "colab": {
          "base_uri": "https://localhost:8080/"
        },
        "outputId": "6de93dd9-38b0-4cea-ebc5-c221df04ba39"
      },
      "outputs": [
        {
          "output_type": "execute_result",
          "data": {
            "text/plain": [
              "<All keys matched successfully>"
            ]
          },
          "metadata": {},
          "execution_count": 48
        }
      ],
      "source": [
        "bert_linearized_graph_clf.load_state_dict(torch.load('best-val-bert_linearized_graph_clf.pt'))"
      ]
    },
    {
      "cell_type": "markdown",
      "metadata": {
        "id": "4snZM3rnBRTJ"
      },
      "source": [
        "### Evaluation on dev set"
      ]
    },
    {
      "cell_type": "code",
      "execution_count": null,
      "metadata": {
        "id": "XxzgmftOebQ4",
        "colab": {
          "base_uri": "https://localhost:8080/"
        },
        "outputId": "57659210-5837-4067-ca7a-5d33cb69da07"
      },
      "outputs": [
        {
          "output_type": "stream",
          "name": "stdout",
          "text": [
            "0.8543689320388349,0.46194225721784776,0.5996592844974447\n"
          ]
        }
      ],
      "source": [
        "true_labels, pred_labels = predict(bert_linearized_graph_clf, dev_loader, device)\n",
        "print(f\"{precision_score(true_labels, pred_labels)},{recall_score(true_labels, pred_labels)},{f1_score(true_labels, pred_labels)}\")"
      ]
    },
    {
      "cell_type": "markdown",
      "metadata": {
        "id": "Kn7BLj4JBQhh"
      },
      "source": [
        "### Evaluation on test set"
      ]
    },
    {
      "cell_type": "code",
      "execution_count": null,
      "metadata": {
        "id": "bS15rJwBebQ4"
      },
      "outputs": [],
      "source": [
        "true_labels, pred_labels = predict(bert_linearized_graph_clf, test_loader, device)\n",
        "print(f\"{precision_score(true_labels, pred_labels)},{recall_score(true_labels, pred_labels)},{f1_score(true_labels, pred_labels)}\")"
      ]
    },
    {
      "cell_type": "code",
      "execution_count": null,
      "metadata": {
        "id": "w3KCyZb3a2aA"
      },
      "outputs": [],
      "source": [
        "assert len(true_labels) == len(pred_labels)"
      ]
    },
    {
      "cell_type": "code",
      "execution_count": null,
      "metadata": {
        "id": "dN-7a23ea2cd"
      },
      "outputs": [],
      "source": [
        "test_df[\"true_y\"] = true_labels\n",
        "test_df[\"prediction\"] = pred_labels\n"
      ]
    },
    {
      "cell_type": "code",
      "execution_count": null,
      "metadata": {
        "id": "eL54btd75U63"
      },
      "outputs": [],
      "source": [
        "test_df.head()"
      ]
    },
    {
      "cell_type": "code",
      "execution_count": null,
      "metadata": {
        "id": "LUUuPMR83_iU",
        "colab": {
          "base_uri": "https://localhost:8080/",
          "height": 1000
        },
        "outputId": "704cb181-1c57-44fe-aa09-296610d18fb8"
      },
      "outputs": [
        {
          "output_type": "execute_result",
          "data": {
            "text/plain": [
              "                                                                                    question  \\\n",
              "0   After publishing A Time to Kill, which book did its author begin working on immediately?   \n",
              "1   After publishing A Time to Kill, which book did its author begin working on immediately?   \n",
              "2   After publishing A Time to Kill, which book did its author begin working on immediately?   \n",
              "3   After publishing A Time to Kill, which book did its author begin working on immediately?   \n",
              "4   After publishing A Time to Kill, which book did its author begin working on immediately?   \n",
              "5   After publishing A Time to Kill, which book did its author begin working on immediately?   \n",
              "6   After publishing A Time to Kill, which book did its author begin working on immediately?   \n",
              "7   After publishing A Time to Kill, which book did its author begin working on immediately?   \n",
              "8   After publishing A Time to Kill, which book did its author begin working on immediately?   \n",
              "9   After publishing A Time to Kill, which book did its author begin working on immediately?   \n",
              "10  After publishing A Time to Kill, which book did its author begin working on immediately?   \n",
              "11                  Among the European Union countries, which one has the largest land area?   \n",
              "12                  Among the European Union countries, which one has the largest land area?   \n",
              "13                  Among the European Union countries, which one has the largest land area?   \n",
              "14                  Among the European Union countries, which one has the largest land area?   \n",
              "15                  Among the European Union countries, which one has the largest land area?   \n",
              "16                  Among the European Union countries, which one has the largest land area?   \n",
              "17                  Among the European Union countries, which one has the largest land area?   \n",
              "18                  Among the European Union countries, which one has the largest land area?   \n",
              "19                  Among the European Union countries, which one has the largest land area?   \n",
              "20                  Among the European Union countries, which one has the largest land area?   \n",
              "21                  Among the European Union countries, which one has the largest land area?   \n",
              "22    Among the Final Fantasy games, which installment achieved the highest worldwide sales?   \n",
              "23    Among the Final Fantasy games, which installment achieved the highest worldwide sales?   \n",
              "24    Among the Final Fantasy games, which installment achieved the highest worldwide sales?   \n",
              "25    Among the Final Fantasy games, which installment achieved the highest worldwide sales?   \n",
              "26    Among the Final Fantasy games, which installment achieved the highest worldwide sales?   \n",
              "27    Among the Final Fantasy games, which installment achieved the highest worldwide sales?   \n",
              "28    Among the Final Fantasy games, which installment achieved the highest worldwide sales?   \n",
              "29    Among the Final Fantasy games, which installment achieved the highest worldwide sales?   \n",
              "30    Among the Final Fantasy games, which installment achieved the highest worldwide sales?   \n",
              "31    Among the Final Fantasy games, which installment achieved the highest worldwide sales?   \n",
              "32    Among the Final Fantasy games, which installment achieved the highest worldwide sales?   \n",
              "33           At which Academy Awards was the Leonardo DiCaprio nominated for the first time?   \n",
              "34           At which Academy Awards was the Leonardo DiCaprio nominated for the first time?   \n",
              "35           At which Academy Awards was the Leonardo DiCaprio nominated for the first time?   \n",
              "36           At which Academy Awards was the Leonardo DiCaprio nominated for the first time?   \n",
              "37           At which Academy Awards was the Leonardo DiCaprio nominated for the first time?   \n",
              "38           At which Academy Awards was the Leonardo DiCaprio nominated for the first time?   \n",
              "39           At which Academy Awards was the Leonardo DiCaprio nominated for the first time?   \n",
              "40           At which Academy Awards was the Leonardo DiCaprio nominated for the first time?   \n",
              "41           At which Academy Awards was the Leonardo DiCaprio nominated for the first time?   \n",
              "42           At which Academy Awards was the Leonardo DiCaprio nominated for the first time?   \n",
              "43           At which Academy Awards was the Leonardo DiCaprio nominated for the first time?   \n",
              "44                   Between Ulysses S Grant and Abe Lincoln, which one was president first?   \n",
              "45                   Between Ulysses S Grant and Abe Lincoln, which one was president first?   \n",
              "46                   Between Ulysses S Grant and Abe Lincoln, which one was president first?   \n",
              "47                   Between Ulysses S Grant and Abe Lincoln, which one was president first?   \n",
              "48                   Between Ulysses S Grant and Abe Lincoln, which one was president first?   \n",
              "49                   Between Ulysses S Grant and Abe Lincoln, which one was president first?   \n",
              "\n",
              "                                          answerEntity  \\\n",
              "0                                     A Clash of Kings   \n",
              "1                                    A Feast for Crows   \n",
              "2                       Fear and Loathing in Las Vegas   \n",
              "3                                        In Cold Blood   \n",
              "4                                       Into the Woods   \n",
              "5                                        Kongenes kamp   \n",
              "6                               No Country for Old Men   \n",
              "7                               No Country for Old Men   \n",
              "8                                  Slaughterhouse-Five   \n",
              "9                                             The Firm   \n",
              "10                              The Last Days of Disco   \n",
              "11                                             Belgium   \n",
              "12                      Crown of the Kingdom of Poland   \n",
              "13                                              France   \n",
              "14           France national association football team   \n",
              "15                                        German Reich   \n",
              "16                              Grand Duchy of Finland   \n",
              "17                                               Italy   \n",
              "18                                Palace of Versailles   \n",
              "19                                               Spain   \n",
              "20                                      United Kingdom   \n",
              "21                                     Weimar Republic   \n",
              "22                                       Final Fantasy   \n",
              "23                                    Final Fantasy II   \n",
              "24                                   Final Fantasy III   \n",
              "25                                    Final Fantasy IV   \n",
              "26                                    Final Fantasy IX   \n",
              "27                                   Final Fantasy VII   \n",
              "28                                   Final Fantasy VII   \n",
              "29                                     Final Fantasy X   \n",
              "30                                  Final Fantasy XIII   \n",
              "31                                    Final Fantasy XV   \n",
              "32                           music of Final Fantasy IX   \n",
              "33                                                2001   \n",
              "34                                                2004   \n",
              "35                                                2005   \n",
              "36                                                2013   \n",
              "37                                                2016   \n",
              "38                                 66th Academy Awards   \n",
              "39                                 85th Academy Awards   \n",
              "40                        Academy Award for Best Actor   \n",
              "41                      Academy Award for Best Picture   \n",
              "42  Golden Globe Award for Best Motion Picture – Drama   \n",
              "43                        award for best leading actor   \n",
              "44                                     Abraham Lincoln   \n",
              "45                                   John Quincy Adams   \n",
              "46                                   John Quincy Adams   \n",
              "47                                  Theodore Roosevelt   \n",
              "48                              Theodore Roosevelt Sr.   \n",
              "49                                 Ulysses Grant Dietz   \n",
              "\n",
              "   groundTruthAnswerEntity  true_y  prediction  label  \n",
              "0                 The Firm     0.0           0    0.0  \n",
              "1                 The Firm     0.0           0    0.0  \n",
              "2                 The Firm     0.0           0    0.0  \n",
              "3                 The Firm     0.0           0    0.0  \n",
              "4                 The Firm     0.0           0    0.0  \n",
              "5                 The Firm     0.0           0    0.0  \n",
              "6                 The Firm     0.0           0    0.0  \n",
              "7                 The Firm     0.0           0    0.0  \n",
              "8                 The Firm     0.0           0    0.0  \n",
              "9                 The Firm     1.0           0    1.0  \n",
              "10                The Firm     0.0           0    0.0  \n",
              "11                  France     0.0           0    0.0  \n",
              "12                  France     0.0           0    0.0  \n",
              "13                  France     1.0           0    1.0  \n",
              "14                  France     0.0           0    0.0  \n",
              "15                  France     0.0           0    0.0  \n",
              "16                  France     0.0           0    0.0  \n",
              "17                  France     0.0           0    0.0  \n",
              "18                  France     0.0           0    0.0  \n",
              "19                  France     0.0           0    0.0  \n",
              "20                  France     0.0           0    0.0  \n",
              "21                  France     0.0           0    0.0  \n",
              "22       Final Fantasy VII     0.0           0    0.0  \n",
              "23       Final Fantasy VII     0.0           0    0.0  \n",
              "24       Final Fantasy VII     0.0           0    0.0  \n",
              "25       Final Fantasy VII     0.0           0    0.0  \n",
              "26       Final Fantasy VII     0.0           0    0.0  \n",
              "27       Final Fantasy VII     1.0           0    1.0  \n",
              "28       Final Fantasy VII     0.0           0    0.0  \n",
              "29       Final Fantasy VII     0.0           0    0.0  \n",
              "30       Final Fantasy VII     0.0           0    0.0  \n",
              "31       Final Fantasy VII     0.0           0    0.0  \n",
              "32       Final Fantasy VII     0.0           0    0.0  \n",
              "33     66th Academy Awards     0.0           0    0.0  \n",
              "34     66th Academy Awards     0.0           0    0.0  \n",
              "35     66th Academy Awards     0.0           0    0.0  \n",
              "36     66th Academy Awards     0.0           0    0.0  \n",
              "37     66th Academy Awards     0.0           0    0.0  \n",
              "38     66th Academy Awards     1.0           0    1.0  \n",
              "39     66th Academy Awards     0.0           0    0.0  \n",
              "40     66th Academy Awards     0.0           1    0.0  \n",
              "41     66th Academy Awards     0.0           0    0.0  \n",
              "42     66th Academy Awards     0.0           0    0.0  \n",
              "43     66th Academy Awards     0.0           0    0.0  \n",
              "44         Abraham Lincoln     1.0           0    1.0  \n",
              "45         Abraham Lincoln     0.0           0    0.0  \n",
              "46         Abraham Lincoln     0.0           0    0.0  \n",
              "47         Abraham Lincoln     0.0           0    0.0  \n",
              "48         Abraham Lincoln     0.0           0    0.0  \n",
              "49         Abraham Lincoln     0.0           0    0.0  "
            ],
            "text/html": [
              "\n",
              "  <div id=\"df-bb008821-dbc4-4df7-8de1-65c70b97af40\" class=\"colab-df-container\">\n",
              "    <div>\n",
              "<style scoped>\n",
              "    .dataframe tbody tr th:only-of-type {\n",
              "        vertical-align: middle;\n",
              "    }\n",
              "\n",
              "    .dataframe tbody tr th {\n",
              "        vertical-align: top;\n",
              "    }\n",
              "\n",
              "    .dataframe thead th {\n",
              "        text-align: right;\n",
              "    }\n",
              "</style>\n",
              "<table border=\"1\" class=\"dataframe\">\n",
              "  <thead>\n",
              "    <tr style=\"text-align: right;\">\n",
              "      <th></th>\n",
              "      <th>question</th>\n",
              "      <th>answerEntity</th>\n",
              "      <th>groundTruthAnswerEntity</th>\n",
              "      <th>true_y</th>\n",
              "      <th>prediction</th>\n",
              "      <th>label</th>\n",
              "    </tr>\n",
              "  </thead>\n",
              "  <tbody>\n",
              "    <tr>\n",
              "      <th>0</th>\n",
              "      <td>After publishing A Time to Kill, which book did its author begin working on immediately?</td>\n",
              "      <td>A Clash of Kings</td>\n",
              "      <td>The Firm</td>\n",
              "      <td>0.0</td>\n",
              "      <td>0</td>\n",
              "      <td>0.0</td>\n",
              "    </tr>\n",
              "    <tr>\n",
              "      <th>1</th>\n",
              "      <td>After publishing A Time to Kill, which book did its author begin working on immediately?</td>\n",
              "      <td>A Feast for Crows</td>\n",
              "      <td>The Firm</td>\n",
              "      <td>0.0</td>\n",
              "      <td>0</td>\n",
              "      <td>0.0</td>\n",
              "    </tr>\n",
              "    <tr>\n",
              "      <th>2</th>\n",
              "      <td>After publishing A Time to Kill, which book did its author begin working on immediately?</td>\n",
              "      <td>Fear and Loathing in Las Vegas</td>\n",
              "      <td>The Firm</td>\n",
              "      <td>0.0</td>\n",
              "      <td>0</td>\n",
              "      <td>0.0</td>\n",
              "    </tr>\n",
              "    <tr>\n",
              "      <th>3</th>\n",
              "      <td>After publishing A Time to Kill, which book did its author begin working on immediately?</td>\n",
              "      <td>In Cold Blood</td>\n",
              "      <td>The Firm</td>\n",
              "      <td>0.0</td>\n",
              "      <td>0</td>\n",
              "      <td>0.0</td>\n",
              "    </tr>\n",
              "    <tr>\n",
              "      <th>4</th>\n",
              "      <td>After publishing A Time to Kill, which book did its author begin working on immediately?</td>\n",
              "      <td>Into the Woods</td>\n",
              "      <td>The Firm</td>\n",
              "      <td>0.0</td>\n",
              "      <td>0</td>\n",
              "      <td>0.0</td>\n",
              "    </tr>\n",
              "    <tr>\n",
              "      <th>5</th>\n",
              "      <td>After publishing A Time to Kill, which book did its author begin working on immediately?</td>\n",
              "      <td>Kongenes kamp</td>\n",
              "      <td>The Firm</td>\n",
              "      <td>0.0</td>\n",
              "      <td>0</td>\n",
              "      <td>0.0</td>\n",
              "    </tr>\n",
              "    <tr>\n",
              "      <th>6</th>\n",
              "      <td>After publishing A Time to Kill, which book did its author begin working on immediately?</td>\n",
              "      <td>No Country for Old Men</td>\n",
              "      <td>The Firm</td>\n",
              "      <td>0.0</td>\n",
              "      <td>0</td>\n",
              "      <td>0.0</td>\n",
              "    </tr>\n",
              "    <tr>\n",
              "      <th>7</th>\n",
              "      <td>After publishing A Time to Kill, which book did its author begin working on immediately?</td>\n",
              "      <td>No Country for Old Men</td>\n",
              "      <td>The Firm</td>\n",
              "      <td>0.0</td>\n",
              "      <td>0</td>\n",
              "      <td>0.0</td>\n",
              "    </tr>\n",
              "    <tr>\n",
              "      <th>8</th>\n",
              "      <td>After publishing A Time to Kill, which book did its author begin working on immediately?</td>\n",
              "      <td>Slaughterhouse-Five</td>\n",
              "      <td>The Firm</td>\n",
              "      <td>0.0</td>\n",
              "      <td>0</td>\n",
              "      <td>0.0</td>\n",
              "    </tr>\n",
              "    <tr>\n",
              "      <th>9</th>\n",
              "      <td>After publishing A Time to Kill, which book did its author begin working on immediately?</td>\n",
              "      <td>The Firm</td>\n",
              "      <td>The Firm</td>\n",
              "      <td>1.0</td>\n",
              "      <td>0</td>\n",
              "      <td>1.0</td>\n",
              "    </tr>\n",
              "    <tr>\n",
              "      <th>10</th>\n",
              "      <td>After publishing A Time to Kill, which book did its author begin working on immediately?</td>\n",
              "      <td>The Last Days of Disco</td>\n",
              "      <td>The Firm</td>\n",
              "      <td>0.0</td>\n",
              "      <td>0</td>\n",
              "      <td>0.0</td>\n",
              "    </tr>\n",
              "    <tr>\n",
              "      <th>11</th>\n",
              "      <td>Among the European Union countries, which one has the largest land area?</td>\n",
              "      <td>Belgium</td>\n",
              "      <td>France</td>\n",
              "      <td>0.0</td>\n",
              "      <td>0</td>\n",
              "      <td>0.0</td>\n",
              "    </tr>\n",
              "    <tr>\n",
              "      <th>12</th>\n",
              "      <td>Among the European Union countries, which one has the largest land area?</td>\n",
              "      <td>Crown of the Kingdom of Poland</td>\n",
              "      <td>France</td>\n",
              "      <td>0.0</td>\n",
              "      <td>0</td>\n",
              "      <td>0.0</td>\n",
              "    </tr>\n",
              "    <tr>\n",
              "      <th>13</th>\n",
              "      <td>Among the European Union countries, which one has the largest land area?</td>\n",
              "      <td>France</td>\n",
              "      <td>France</td>\n",
              "      <td>1.0</td>\n",
              "      <td>0</td>\n",
              "      <td>1.0</td>\n",
              "    </tr>\n",
              "    <tr>\n",
              "      <th>14</th>\n",
              "      <td>Among the European Union countries, which one has the largest land area?</td>\n",
              "      <td>France national association football team</td>\n",
              "      <td>France</td>\n",
              "      <td>0.0</td>\n",
              "      <td>0</td>\n",
              "      <td>0.0</td>\n",
              "    </tr>\n",
              "    <tr>\n",
              "      <th>15</th>\n",
              "      <td>Among the European Union countries, which one has the largest land area?</td>\n",
              "      <td>German Reich</td>\n",
              "      <td>France</td>\n",
              "      <td>0.0</td>\n",
              "      <td>0</td>\n",
              "      <td>0.0</td>\n",
              "    </tr>\n",
              "    <tr>\n",
              "      <th>16</th>\n",
              "      <td>Among the European Union countries, which one has the largest land area?</td>\n",
              "      <td>Grand Duchy of Finland</td>\n",
              "      <td>France</td>\n",
              "      <td>0.0</td>\n",
              "      <td>0</td>\n",
              "      <td>0.0</td>\n",
              "    </tr>\n",
              "    <tr>\n",
              "      <th>17</th>\n",
              "      <td>Among the European Union countries, which one has the largest land area?</td>\n",
              "      <td>Italy</td>\n",
              "      <td>France</td>\n",
              "      <td>0.0</td>\n",
              "      <td>0</td>\n",
              "      <td>0.0</td>\n",
              "    </tr>\n",
              "    <tr>\n",
              "      <th>18</th>\n",
              "      <td>Among the European Union countries, which one has the largest land area?</td>\n",
              "      <td>Palace of Versailles</td>\n",
              "      <td>France</td>\n",
              "      <td>0.0</td>\n",
              "      <td>0</td>\n",
              "      <td>0.0</td>\n",
              "    </tr>\n",
              "    <tr>\n",
              "      <th>19</th>\n",
              "      <td>Among the European Union countries, which one has the largest land area?</td>\n",
              "      <td>Spain</td>\n",
              "      <td>France</td>\n",
              "      <td>0.0</td>\n",
              "      <td>0</td>\n",
              "      <td>0.0</td>\n",
              "    </tr>\n",
              "    <tr>\n",
              "      <th>20</th>\n",
              "      <td>Among the European Union countries, which one has the largest land area?</td>\n",
              "      <td>United Kingdom</td>\n",
              "      <td>France</td>\n",
              "      <td>0.0</td>\n",
              "      <td>0</td>\n",
              "      <td>0.0</td>\n",
              "    </tr>\n",
              "    <tr>\n",
              "      <th>21</th>\n",
              "      <td>Among the European Union countries, which one has the largest land area?</td>\n",
              "      <td>Weimar Republic</td>\n",
              "      <td>France</td>\n",
              "      <td>0.0</td>\n",
              "      <td>0</td>\n",
              "      <td>0.0</td>\n",
              "    </tr>\n",
              "    <tr>\n",
              "      <th>22</th>\n",
              "      <td>Among the Final Fantasy games, which installment achieved the highest worldwide sales?</td>\n",
              "      <td>Final Fantasy</td>\n",
              "      <td>Final Fantasy VII</td>\n",
              "      <td>0.0</td>\n",
              "      <td>0</td>\n",
              "      <td>0.0</td>\n",
              "    </tr>\n",
              "    <tr>\n",
              "      <th>23</th>\n",
              "      <td>Among the Final Fantasy games, which installment achieved the highest worldwide sales?</td>\n",
              "      <td>Final Fantasy II</td>\n",
              "      <td>Final Fantasy VII</td>\n",
              "      <td>0.0</td>\n",
              "      <td>0</td>\n",
              "      <td>0.0</td>\n",
              "    </tr>\n",
              "    <tr>\n",
              "      <th>24</th>\n",
              "      <td>Among the Final Fantasy games, which installment achieved the highest worldwide sales?</td>\n",
              "      <td>Final Fantasy III</td>\n",
              "      <td>Final Fantasy VII</td>\n",
              "      <td>0.0</td>\n",
              "      <td>0</td>\n",
              "      <td>0.0</td>\n",
              "    </tr>\n",
              "    <tr>\n",
              "      <th>25</th>\n",
              "      <td>Among the Final Fantasy games, which installment achieved the highest worldwide sales?</td>\n",
              "      <td>Final Fantasy IV</td>\n",
              "      <td>Final Fantasy VII</td>\n",
              "      <td>0.0</td>\n",
              "      <td>0</td>\n",
              "      <td>0.0</td>\n",
              "    </tr>\n",
              "    <tr>\n",
              "      <th>26</th>\n",
              "      <td>Among the Final Fantasy games, which installment achieved the highest worldwide sales?</td>\n",
              "      <td>Final Fantasy IX</td>\n",
              "      <td>Final Fantasy VII</td>\n",
              "      <td>0.0</td>\n",
              "      <td>0</td>\n",
              "      <td>0.0</td>\n",
              "    </tr>\n",
              "    <tr>\n",
              "      <th>27</th>\n",
              "      <td>Among the Final Fantasy games, which installment achieved the highest worldwide sales?</td>\n",
              "      <td>Final Fantasy VII</td>\n",
              "      <td>Final Fantasy VII</td>\n",
              "      <td>1.0</td>\n",
              "      <td>0</td>\n",
              "      <td>1.0</td>\n",
              "    </tr>\n",
              "    <tr>\n",
              "      <th>28</th>\n",
              "      <td>Among the Final Fantasy games, which installment achieved the highest worldwide sales?</td>\n",
              "      <td>Final Fantasy VII</td>\n",
              "      <td>Final Fantasy VII</td>\n",
              "      <td>0.0</td>\n",
              "      <td>0</td>\n",
              "      <td>0.0</td>\n",
              "    </tr>\n",
              "    <tr>\n",
              "      <th>29</th>\n",
              "      <td>Among the Final Fantasy games, which installment achieved the highest worldwide sales?</td>\n",
              "      <td>Final Fantasy X</td>\n",
              "      <td>Final Fantasy VII</td>\n",
              "      <td>0.0</td>\n",
              "      <td>0</td>\n",
              "      <td>0.0</td>\n",
              "    </tr>\n",
              "    <tr>\n",
              "      <th>30</th>\n",
              "      <td>Among the Final Fantasy games, which installment achieved the highest worldwide sales?</td>\n",
              "      <td>Final Fantasy XIII</td>\n",
              "      <td>Final Fantasy VII</td>\n",
              "      <td>0.0</td>\n",
              "      <td>0</td>\n",
              "      <td>0.0</td>\n",
              "    </tr>\n",
              "    <tr>\n",
              "      <th>31</th>\n",
              "      <td>Among the Final Fantasy games, which installment achieved the highest worldwide sales?</td>\n",
              "      <td>Final Fantasy XV</td>\n",
              "      <td>Final Fantasy VII</td>\n",
              "      <td>0.0</td>\n",
              "      <td>0</td>\n",
              "      <td>0.0</td>\n",
              "    </tr>\n",
              "    <tr>\n",
              "      <th>32</th>\n",
              "      <td>Among the Final Fantasy games, which installment achieved the highest worldwide sales?</td>\n",
              "      <td>music of Final Fantasy IX</td>\n",
              "      <td>Final Fantasy VII</td>\n",
              "      <td>0.0</td>\n",
              "      <td>0</td>\n",
              "      <td>0.0</td>\n",
              "    </tr>\n",
              "    <tr>\n",
              "      <th>33</th>\n",
              "      <td>At which Academy Awards was the Leonardo DiCaprio nominated for the first time?</td>\n",
              "      <td>2001</td>\n",
              "      <td>66th Academy Awards</td>\n",
              "      <td>0.0</td>\n",
              "      <td>0</td>\n",
              "      <td>0.0</td>\n",
              "    </tr>\n",
              "    <tr>\n",
              "      <th>34</th>\n",
              "      <td>At which Academy Awards was the Leonardo DiCaprio nominated for the first time?</td>\n",
              "      <td>2004</td>\n",
              "      <td>66th Academy Awards</td>\n",
              "      <td>0.0</td>\n",
              "      <td>0</td>\n",
              "      <td>0.0</td>\n",
              "    </tr>\n",
              "    <tr>\n",
              "      <th>35</th>\n",
              "      <td>At which Academy Awards was the Leonardo DiCaprio nominated for the first time?</td>\n",
              "      <td>2005</td>\n",
              "      <td>66th Academy Awards</td>\n",
              "      <td>0.0</td>\n",
              "      <td>0</td>\n",
              "      <td>0.0</td>\n",
              "    </tr>\n",
              "    <tr>\n",
              "      <th>36</th>\n",
              "      <td>At which Academy Awards was the Leonardo DiCaprio nominated for the first time?</td>\n",
              "      <td>2013</td>\n",
              "      <td>66th Academy Awards</td>\n",
              "      <td>0.0</td>\n",
              "      <td>0</td>\n",
              "      <td>0.0</td>\n",
              "    </tr>\n",
              "    <tr>\n",
              "      <th>37</th>\n",
              "      <td>At which Academy Awards was the Leonardo DiCaprio nominated for the first time?</td>\n",
              "      <td>2016</td>\n",
              "      <td>66th Academy Awards</td>\n",
              "      <td>0.0</td>\n",
              "      <td>0</td>\n",
              "      <td>0.0</td>\n",
              "    </tr>\n",
              "    <tr>\n",
              "      <th>38</th>\n",
              "      <td>At which Academy Awards was the Leonardo DiCaprio nominated for the first time?</td>\n",
              "      <td>66th Academy Awards</td>\n",
              "      <td>66th Academy Awards</td>\n",
              "      <td>1.0</td>\n",
              "      <td>0</td>\n",
              "      <td>1.0</td>\n",
              "    </tr>\n",
              "    <tr>\n",
              "      <th>39</th>\n",
              "      <td>At which Academy Awards was the Leonardo DiCaprio nominated for the first time?</td>\n",
              "      <td>85th Academy Awards</td>\n",
              "      <td>66th Academy Awards</td>\n",
              "      <td>0.0</td>\n",
              "      <td>0</td>\n",
              "      <td>0.0</td>\n",
              "    </tr>\n",
              "    <tr>\n",
              "      <th>40</th>\n",
              "      <td>At which Academy Awards was the Leonardo DiCaprio nominated for the first time?</td>\n",
              "      <td>Academy Award for Best Actor</td>\n",
              "      <td>66th Academy Awards</td>\n",
              "      <td>0.0</td>\n",
              "      <td>1</td>\n",
              "      <td>0.0</td>\n",
              "    </tr>\n",
              "    <tr>\n",
              "      <th>41</th>\n",
              "      <td>At which Academy Awards was the Leonardo DiCaprio nominated for the first time?</td>\n",
              "      <td>Academy Award for Best Picture</td>\n",
              "      <td>66th Academy Awards</td>\n",
              "      <td>0.0</td>\n",
              "      <td>0</td>\n",
              "      <td>0.0</td>\n",
              "    </tr>\n",
              "    <tr>\n",
              "      <th>42</th>\n",
              "      <td>At which Academy Awards was the Leonardo DiCaprio nominated for the first time?</td>\n",
              "      <td>Golden Globe Award for Best Motion Picture – Drama</td>\n",
              "      <td>66th Academy Awards</td>\n",
              "      <td>0.0</td>\n",
              "      <td>0</td>\n",
              "      <td>0.0</td>\n",
              "    </tr>\n",
              "    <tr>\n",
              "      <th>43</th>\n",
              "      <td>At which Academy Awards was the Leonardo DiCaprio nominated for the first time?</td>\n",
              "      <td>award for best leading actor</td>\n",
              "      <td>66th Academy Awards</td>\n",
              "      <td>0.0</td>\n",
              "      <td>0</td>\n",
              "      <td>0.0</td>\n",
              "    </tr>\n",
              "    <tr>\n",
              "      <th>44</th>\n",
              "      <td>Between Ulysses S Grant and Abe Lincoln, which one was president first?</td>\n",
              "      <td>Abraham Lincoln</td>\n",
              "      <td>Abraham Lincoln</td>\n",
              "      <td>1.0</td>\n",
              "      <td>0</td>\n",
              "      <td>1.0</td>\n",
              "    </tr>\n",
              "    <tr>\n",
              "      <th>45</th>\n",
              "      <td>Between Ulysses S Grant and Abe Lincoln, which one was president first?</td>\n",
              "      <td>John Quincy Adams</td>\n",
              "      <td>Abraham Lincoln</td>\n",
              "      <td>0.0</td>\n",
              "      <td>0</td>\n",
              "      <td>0.0</td>\n",
              "    </tr>\n",
              "    <tr>\n",
              "      <th>46</th>\n",
              "      <td>Between Ulysses S Grant and Abe Lincoln, which one was president first?</td>\n",
              "      <td>John Quincy Adams</td>\n",
              "      <td>Abraham Lincoln</td>\n",
              "      <td>0.0</td>\n",
              "      <td>0</td>\n",
              "      <td>0.0</td>\n",
              "    </tr>\n",
              "    <tr>\n",
              "      <th>47</th>\n",
              "      <td>Between Ulysses S Grant and Abe Lincoln, which one was president first?</td>\n",
              "      <td>Theodore Roosevelt</td>\n",
              "      <td>Abraham Lincoln</td>\n",
              "      <td>0.0</td>\n",
              "      <td>0</td>\n",
              "      <td>0.0</td>\n",
              "    </tr>\n",
              "    <tr>\n",
              "      <th>48</th>\n",
              "      <td>Between Ulysses S Grant and Abe Lincoln, which one was president first?</td>\n",
              "      <td>Theodore Roosevelt Sr.</td>\n",
              "      <td>Abraham Lincoln</td>\n",
              "      <td>0.0</td>\n",
              "      <td>0</td>\n",
              "      <td>0.0</td>\n",
              "    </tr>\n",
              "    <tr>\n",
              "      <th>49</th>\n",
              "      <td>Between Ulysses S Grant and Abe Lincoln, which one was president first?</td>\n",
              "      <td>Ulysses Grant Dietz</td>\n",
              "      <td>Abraham Lincoln</td>\n",
              "      <td>0.0</td>\n",
              "      <td>0</td>\n",
              "      <td>0.0</td>\n",
              "    </tr>\n",
              "  </tbody>\n",
              "</table>\n",
              "</div>\n",
              "    <div class=\"colab-df-buttons\">\n",
              "\n",
              "  <div class=\"colab-df-container\">\n",
              "    <button class=\"colab-df-convert\" onclick=\"convertToInteractive('df-bb008821-dbc4-4df7-8de1-65c70b97af40')\"\n",
              "            title=\"Convert this dataframe to an interactive table.\"\n",
              "            style=\"display:none;\">\n",
              "\n",
              "  <svg xmlns=\"http://www.w3.org/2000/svg\" height=\"24px\" viewBox=\"0 -960 960 960\">\n",
              "    <path d=\"M120-120v-720h720v720H120Zm60-500h600v-160H180v160Zm220 220h160v-160H400v160Zm0 220h160v-160H400v160ZM180-400h160v-160H180v160Zm440 0h160v-160H620v160ZM180-180h160v-160H180v160Zm440 0h160v-160H620v160Z\"/>\n",
              "  </svg>\n",
              "    </button>\n",
              "\n",
              "  <style>\n",
              "    .colab-df-container {\n",
              "      display:flex;\n",
              "      gap: 12px;\n",
              "    }\n",
              "\n",
              "    .colab-df-convert {\n",
              "      background-color: #E8F0FE;\n",
              "      border: none;\n",
              "      border-radius: 50%;\n",
              "      cursor: pointer;\n",
              "      display: none;\n",
              "      fill: #1967D2;\n",
              "      height: 32px;\n",
              "      padding: 0 0 0 0;\n",
              "      width: 32px;\n",
              "    }\n",
              "\n",
              "    .colab-df-convert:hover {\n",
              "      background-color: #E2EBFA;\n",
              "      box-shadow: 0px 1px 2px rgba(60, 64, 67, 0.3), 0px 1px 3px 1px rgba(60, 64, 67, 0.15);\n",
              "      fill: #174EA6;\n",
              "    }\n",
              "\n",
              "    .colab-df-buttons div {\n",
              "      margin-bottom: 4px;\n",
              "    }\n",
              "\n",
              "    [theme=dark] .colab-df-convert {\n",
              "      background-color: #3B4455;\n",
              "      fill: #D2E3FC;\n",
              "    }\n",
              "\n",
              "    [theme=dark] .colab-df-convert:hover {\n",
              "      background-color: #434B5C;\n",
              "      box-shadow: 0px 1px 3px 1px rgba(0, 0, 0, 0.15);\n",
              "      filter: drop-shadow(0px 1px 2px rgba(0, 0, 0, 0.3));\n",
              "      fill: #FFFFFF;\n",
              "    }\n",
              "  </style>\n",
              "\n",
              "    <script>\n",
              "      const buttonEl =\n",
              "        document.querySelector('#df-bb008821-dbc4-4df7-8de1-65c70b97af40 button.colab-df-convert');\n",
              "      buttonEl.style.display =\n",
              "        google.colab.kernel.accessAllowed ? 'block' : 'none';\n",
              "\n",
              "      async function convertToInteractive(key) {\n",
              "        const element = document.querySelector('#df-bb008821-dbc4-4df7-8de1-65c70b97af40');\n",
              "        const dataTable =\n",
              "          await google.colab.kernel.invokeFunction('convertToInteractive',\n",
              "                                                    [key], {});\n",
              "        if (!dataTable) return;\n",
              "\n",
              "        const docLinkHtml = 'Like what you see? Visit the ' +\n",
              "          '<a target=\"_blank\" href=https://colab.research.google.com/notebooks/data_table.ipynb>data table notebook</a>'\n",
              "          + ' to learn more about interactive tables.';\n",
              "        element.innerHTML = '';\n",
              "        dataTable['output_type'] = 'display_data';\n",
              "        await google.colab.output.renderOutput(dataTable, element);\n",
              "        const docLink = document.createElement('div');\n",
              "        docLink.innerHTML = docLinkHtml;\n",
              "        element.appendChild(docLink);\n",
              "      }\n",
              "    </script>\n",
              "  </div>\n",
              "\n",
              "\n",
              "<div id=\"df-1fbcb9ca-eb7e-45de-a90f-61ff62f1883e\">\n",
              "  <button class=\"colab-df-quickchart\" onclick=\"quickchart('df-1fbcb9ca-eb7e-45de-a90f-61ff62f1883e')\"\n",
              "            title=\"Suggest charts\"\n",
              "            style=\"display:none;\">\n",
              "\n",
              "<svg xmlns=\"http://www.w3.org/2000/svg\" height=\"24px\"viewBox=\"0 0 24 24\"\n",
              "     width=\"24px\">\n",
              "    <g>\n",
              "        <path d=\"M19 3H5c-1.1 0-2 .9-2 2v14c0 1.1.9 2 2 2h14c1.1 0 2-.9 2-2V5c0-1.1-.9-2-2-2zM9 17H7v-7h2v7zm4 0h-2V7h2v10zm4 0h-2v-4h2v4z\"/>\n",
              "    </g>\n",
              "</svg>\n",
              "  </button>\n",
              "\n",
              "<style>\n",
              "  .colab-df-quickchart {\n",
              "      --bg-color: #E8F0FE;\n",
              "      --fill-color: #1967D2;\n",
              "      --hover-bg-color: #E2EBFA;\n",
              "      --hover-fill-color: #174EA6;\n",
              "      --disabled-fill-color: #AAA;\n",
              "      --disabled-bg-color: #DDD;\n",
              "  }\n",
              "\n",
              "  [theme=dark] .colab-df-quickchart {\n",
              "      --bg-color: #3B4455;\n",
              "      --fill-color: #D2E3FC;\n",
              "      --hover-bg-color: #434B5C;\n",
              "      --hover-fill-color: #FFFFFF;\n",
              "      --disabled-bg-color: #3B4455;\n",
              "      --disabled-fill-color: #666;\n",
              "  }\n",
              "\n",
              "  .colab-df-quickchart {\n",
              "    background-color: var(--bg-color);\n",
              "    border: none;\n",
              "    border-radius: 50%;\n",
              "    cursor: pointer;\n",
              "    display: none;\n",
              "    fill: var(--fill-color);\n",
              "    height: 32px;\n",
              "    padding: 0;\n",
              "    width: 32px;\n",
              "  }\n",
              "\n",
              "  .colab-df-quickchart:hover {\n",
              "    background-color: var(--hover-bg-color);\n",
              "    box-shadow: 0 1px 2px rgba(60, 64, 67, 0.3), 0 1px 3px 1px rgba(60, 64, 67, 0.15);\n",
              "    fill: var(--button-hover-fill-color);\n",
              "  }\n",
              "\n",
              "  .colab-df-quickchart-complete:disabled,\n",
              "  .colab-df-quickchart-complete:disabled:hover {\n",
              "    background-color: var(--disabled-bg-color);\n",
              "    fill: var(--disabled-fill-color);\n",
              "    box-shadow: none;\n",
              "  }\n",
              "\n",
              "  .colab-df-spinner {\n",
              "    border: 2px solid var(--fill-color);\n",
              "    border-color: transparent;\n",
              "    border-bottom-color: var(--fill-color);\n",
              "    animation:\n",
              "      spin 1s steps(1) infinite;\n",
              "  }\n",
              "\n",
              "  @keyframes spin {\n",
              "    0% {\n",
              "      border-color: transparent;\n",
              "      border-bottom-color: var(--fill-color);\n",
              "      border-left-color: var(--fill-color);\n",
              "    }\n",
              "    20% {\n",
              "      border-color: transparent;\n",
              "      border-left-color: var(--fill-color);\n",
              "      border-top-color: var(--fill-color);\n",
              "    }\n",
              "    30% {\n",
              "      border-color: transparent;\n",
              "      border-left-color: var(--fill-color);\n",
              "      border-top-color: var(--fill-color);\n",
              "      border-right-color: var(--fill-color);\n",
              "    }\n",
              "    40% {\n",
              "      border-color: transparent;\n",
              "      border-right-color: var(--fill-color);\n",
              "      border-top-color: var(--fill-color);\n",
              "    }\n",
              "    60% {\n",
              "      border-color: transparent;\n",
              "      border-right-color: var(--fill-color);\n",
              "    }\n",
              "    80% {\n",
              "      border-color: transparent;\n",
              "      border-right-color: var(--fill-color);\n",
              "      border-bottom-color: var(--fill-color);\n",
              "    }\n",
              "    90% {\n",
              "      border-color: transparent;\n",
              "      border-bottom-color: var(--fill-color);\n",
              "    }\n",
              "  }\n",
              "</style>\n",
              "\n",
              "  <script>\n",
              "    async function quickchart(key) {\n",
              "      const quickchartButtonEl =\n",
              "        document.querySelector('#' + key + ' button');\n",
              "      quickchartButtonEl.disabled = true;  // To prevent multiple clicks.\n",
              "      quickchartButtonEl.classList.add('colab-df-spinner');\n",
              "      try {\n",
              "        const charts = await google.colab.kernel.invokeFunction(\n",
              "            'suggestCharts', [key], {});\n",
              "      } catch (error) {\n",
              "        console.error('Error during call to suggestCharts:', error);\n",
              "      }\n",
              "      quickchartButtonEl.classList.remove('colab-df-spinner');\n",
              "      quickchartButtonEl.classList.add('colab-df-quickchart-complete');\n",
              "    }\n",
              "    (() => {\n",
              "      let quickchartButtonEl =\n",
              "        document.querySelector('#df-1fbcb9ca-eb7e-45de-a90f-61ff62f1883e button');\n",
              "      quickchartButtonEl.style.display =\n",
              "        google.colab.kernel.accessAllowed ? 'block' : 'none';\n",
              "    })();\n",
              "  </script>\n",
              "</div>\n",
              "    </div>\n",
              "  </div>\n"
            ],
            "application/vnd.google.colaboratory.intrinsic+json": {
              "type": "dataframe",
              "summary": "{\n  \"name\": \"test_df[[\\\"question\\\", \\\"answerEntity\\\", \\\"groundTruthAnswerEntity\\\", \\\"true_y\\\", \\\"prediction\\\", \\\"label\\\"]]\",\n  \"rows\": 50,\n  \"fields\": [\n    {\n      \"column\": \"question\",\n      \"properties\": {\n        \"dtype\": \"category\",\n        \"num_unique_values\": 5,\n        \"samples\": [\n          \"Among the European Union countries, which one has the largest land area?\",\n          \"Between Ulysses S Grant and Abe Lincoln, which one was president first?\",\n          \"Among the Final Fantasy games, which installment achieved the highest worldwide sales?\"\n        ],\n        \"semantic_type\": \"\",\n        \"description\": \"\"\n      }\n    },\n    {\n      \"column\": \"answerEntity\",\n      \"properties\": {\n        \"dtype\": \"string\",\n        \"num_unique_values\": 47,\n        \"samples\": [\n          \"Final Fantasy X\",\n          \"Academy Award for Best Picture\",\n          \"Final Fantasy VII\"\n        ],\n        \"semantic_type\": \"\",\n        \"description\": \"\"\n      }\n    },\n    {\n      \"column\": \"groundTruthAnswerEntity\",\n      \"properties\": {\n        \"dtype\": \"category\",\n        \"num_unique_values\": 5,\n        \"samples\": [\n          \"France\",\n          \"Abraham Lincoln\",\n          \"Final Fantasy VII\"\n        ],\n        \"semantic_type\": \"\",\n        \"description\": \"\"\n      }\n    },\n    {\n      \"column\": \"true_y\",\n      \"properties\": {\n        \"dtype\": \"float32\",\n        \"num_unique_values\": 2,\n        \"samples\": [\n          1.0,\n          0.0\n        ],\n        \"semantic_type\": \"\",\n        \"description\": \"\"\n      }\n    },\n    {\n      \"column\": \"prediction\",\n      \"properties\": {\n        \"dtype\": \"number\",\n        \"std\": 0,\n        \"min\": 0,\n        \"max\": 1,\n        \"num_unique_values\": 2,\n        \"samples\": [\n          1,\n          0\n        ],\n        \"semantic_type\": \"\",\n        \"description\": \"\"\n      }\n    },\n    {\n      \"column\": \"label\",\n      \"properties\": {\n        \"dtype\": \"float32\",\n        \"num_unique_values\": 2,\n        \"samples\": [\n          1.0,\n          0.0\n        ],\n        \"semantic_type\": \"\",\n        \"description\": \"\"\n      }\n    }\n  ]\n}"
            }
          },
          "metadata": {},
          "execution_count": 54
        }
      ],
      "source": [
        "test_df[[\"question\", \"answerEntity\", \"groundTruthAnswerEntity\", \"true_y\", \"prediction\", \"label\"]].head(50)"
      ]
    },
    {
      "cell_type": "code",
      "execution_count": null,
      "metadata": {
        "id": "LuN1ipIl3_lD"
      },
      "outputs": [],
      "source": [
        "test_pred_path = \"test_pred_linearized_graph_baseline.tsv\"\n",
        "test_df[[\"sample_id\", \"prediction\"]].to_csv(test_pred_path, sep='\\t', index=False)"
      ]
    },
    {
      "cell_type": "markdown",
      "source": [
        "## Linearized graph only"
      ],
      "metadata": {
        "id": "5xPUvDungDuN"
      }
    },
    {
      "cell_type": "code",
      "source": [
        "max_length = 128\n",
        "train_dataset = QuestionAnswerDataset(train_df, tokenizer=tokenizer, max_length=max_length, context_key=\"linearized_graph\", graph_only=True)\n",
        "dev_dataset = QuestionAnswerDataset(dev_df, tokenizer=tokenizer, max_length=max_length, context_key=\"linearized_graph\", graph_only=True)\n",
        "test_dataset = QuestionAnswerDataset(test_df, tokenizer=tokenizer, max_length=max_length, context_key=\"linearized_graph\", graph_only=True)"
      ],
      "metadata": {
        "id": "KIxxKUiLyUtE"
      },
      "execution_count": null,
      "outputs": []
    },
    {
      "cell_type": "code",
      "source": [
        "idx_bound = 5\n",
        "for i in range(idx_bound):\n",
        "    d = train_dataset[i]\n",
        "    inp_ids = d[\"input_ids\"]\n",
        "    tokens = tokenizer.convert_ids_to_tokens(inp_ids)\n",
        "    s = \"\".join((x.strip(\"#\") if x.startswith(\"#\") else f\" {x}\" for x in tokens))\n",
        "    print(s)\n"
      ],
      "metadata": {
        "colab": {
          "base_uri": "https://localhost:8080/"
        },
        "id": "qJ1pFy7RUlwz",
        "outputId": "3b58aed7-1fa1-4bb3-b08e-62302d7c7474"
      },
      "execution_count": null,
      "outputs": [
        {
          "output_type": "stream",
          "name": "stdout",
          "text": [
            " <s> iran , country , iran iran , replaces , pahlavi dynasty pahlavi dynasty , replaced by , iran </s> ruhollah khomeini ' s return to iran </s> , country , pahlavi dynasty </s> <pad> <pad> <pad> <pad> <pad> <pad> <pad> <pad> <pad> <pad> <pad> <pad> <pad> <pad> <pad> <pad> <pad> <pad> <pad> <pad> <pad> <pad> <pad> <pad> <pad> <pad> <pad> <pad> <pad> <pad> <pad> <pad> <pad> <pad> <pad> <pad> <pad> <pad> <pad> <pad> <pad> <pad> <pad> <pad> <pad> <pad> <pad> <pad> <pad> <pad> <pad> <pad> <pad> <pad> <pad> <pad> <pad> <pad> <pad> <pad> <pad> <pad> <pad> <pad> <pad> <pad> <pad> <pad> <pad> <pad> <pad> <pad> <pad> <pad> <pad> <pad> <pad> <pad> <pad> <pad> <pad> <pad> <pad>\n",
            " <s> iran , described by source , jewish encyclopedia of brockhaus and efron iran , country , iran letter , described by source , jewish encyclopedia of brockhaus and efron letter , subclass of , written work the book of healing , country of origin , iran the book of healing , instance of , written work </s> ruhollah khomeini ' s letter to mikhail gorbachev </s> , instance of , written work </s> ruhollah khomeini ' s letter to mikhail gorbachev </s> , instance of , letter </s> <pad> <pad> <pad> <pad> <pad> <pad> <pad> <pad> <pad> <pad> <pad> <pad> <pad> <pad> <pad> <pad> <pad> <pad>\n",
            " <s> iran , country , iran iran , head of state , </s> ruhollah khomeini </s> </s> ruhollah khomeini </s> , country of citizenship , iran </s> <pad> <pad> <pad> <pad> <pad> <pad> <pad> <pad> <pad> <pad> <pad> <pad> <pad> <pad> <pad> <pad> <pad> <pad> <pad> <pad> <pad> <pad> <pad> <pad> <pad> <pad> <pad> <pad> <pad> <pad> <pad> <pad> <pad> <pad> <pad> <pad> <pad> <pad> <pad> <pad> <pad> <pad> <pad> <pad> <pad> <pad> <pad> <pad> <pad> <pad> <pad> <pad> <pad> <pad> <pad> <pad> <pad> <pad> <pad> <pad> <pad> <pad> <pad> <pad> <pad> <pad> <pad> <pad> <pad> <pad> <pad> <pad> <pad> <pad> <pad> <pad> <pad> <pad> <pad> <pad> <pad> <pad> <pad> <pad> <pad> <pad> <pad> <pad> <pad> <pad> <pad>\n",
            " <s> iran , country , iran </s> office of the supreme leader of iran </s> , different from , imam khomeini hussainiya imam khomeini hussainiya , country , iran imam khomeini hussainiya , part of , </s> office of the supreme leader of iran </s> </s> <pad> <pad> <pad> <pad> <pad> <pad> <pad> <pad> <pad> <pad> <pad> <pad> <pad> <pad> <pad> <pad> <pad> <pad> <pad> <pad> <pad> <pad> <pad> <pad> <pad> <pad> <pad> <pad> <pad> <pad> <pad> <pad> <pad> <pad> <pad> <pad> <pad> <pad> <pad> <pad> <pad> <pad> <pad> <pad> <pad> <pad> <pad> <pad> <pad> <pad> <pad> <pad> <pad> <pad> <pad> <pad> <pad> <pad> <pad> <pad> <pad> <pad> <pad> <pad> <pad> <pad> <pad> <pad> <pad> <pad>\n",
            " <s> iran , country , iran </s> mohammad reza pahlavi and soraya </s> , has part ( s ) , soraya esfandiari - bakhtiari soraya esfandiari - bakhtiari , country of citizenship , iran soraya esfandiari - bakhtiari , part of , </s> mohammad reza pahlavi and soraya </s> </s> <pad> <pad> <pad> <pad> <pad> <pad> <pad> <pad> <pad> <pad> <pad> <pad> <pad> <pad> <pad> <pad> <pad> <pad> <pad> <pad> <pad> <pad> <pad> <pad> <pad> <pad> <pad> <pad> <pad> <pad> <pad> <pad> <pad> <pad> <pad> <pad> <pad> <pad> <pad> <pad> <pad> <pad> <pad> <pad> <pad> <pad> <pad> <pad> <pad> <pad> <pad>\n"
          ]
        }
      ]
    },
    {
      "cell_type": "code",
      "source": [
        "batch_size = 64\n",
        "num_workers = 0\n",
        "\n",
        "train_loader = torch.utils.data.DataLoader(\n",
        "    train_dataset, batch_size=batch_size, num_workers=num_workers, shuffle=True, drop_last=True,\n",
        ")\n",
        "dev_loader = torch.utils.data.DataLoader(\n",
        "    dev_dataset, batch_size=batch_size, num_workers=num_workers, shuffle=False, drop_last=False,\n",
        ")\n",
        "test_loader = torch.utils.data.DataLoader(\n",
        "    test_dataset, batch_size=batch_size, num_workers=num_workers, shuffle=False, drop_last=False,\n",
        ")"
      ],
      "metadata": {
        "id": "ruC9czB3gJAO"
      },
      "execution_count": null,
      "outputs": []
    },
    {
      "cell_type": "code",
      "source": [
        "N_EPOCHS = 5\n",
        "DROPOUT = 0.2"
      ],
      "metadata": {
        "id": "00qhOvJIgJCb"
      },
      "execution_count": null,
      "outputs": []
    },
    {
      "cell_type": "code",
      "source": [
        "bert_linearized_graph_clf = BertSimpleClassifier(bert_model, dropout=DROPOUT).to(device)\n",
        "optimizer = optim.Adam(bert_linearized_graph_clf.parameters(), lr=3e-5)\n",
        "criterion = nn.BCEWithLogitsLoss()"
      ],
      "metadata": {
        "id": "DmCnCBkMgSD-"
      },
      "execution_count": null,
      "outputs": []
    },
    {
      "cell_type": "code",
      "source": [
        "train_evaluate(bert_linearized_graph_clf, train_loader, dev_loader, optimizer,\n",
        "               criterion, N_EPOCHS, \"bert_linearized_graph_only_clf\", device)"
      ],
      "metadata": {
        "id": "oKHPnTJ9gSF1",
        "colab": {
          "base_uri": "https://localhost:8080/",
          "height": 784
        },
        "outputId": "8c6d5c38-54d4-4968-c5f7-11ce78a74756"
      },
      "execution_count": null,
      "outputs": [
        {
          "output_type": "display_data",
          "data": {
            "text/plain": [
              "<Figure size 1200x800 with 2 Axes>"
            ],
            "image/png": "[encoded data removed]"
          },
          "metadata": {}
        },
        {
          "output_type": "stream",
          "name": "stdout",
          "text": [
            "Epoch: 05 | Time: 9m 20s\n",
            "\tTrain Loss: 0.145\n",
            "\t Val. Loss: 0.166 |  Val. F1: 0.575\n"
          ]
        }
      ]
    },
    {
      "cell_type": "code",
      "source": [
        "\n",
        "bert_linearized_graph_clf.load_state_dict(torch.load('best-val-bert_linearized_graph_only_clf.pt'))"
      ],
      "metadata": {
        "id": "4LROpG4RgJEy",
        "colab": {
          "base_uri": "https://localhost:8080/"
        },
        "outputId": "09e119b2-4c48-472a-9dcd-db664889c426"
      },
      "execution_count": null,
      "outputs": [
        {
          "output_type": "execute_result",
          "data": {
            "text/plain": [
              "<All keys matched successfully>"
            ]
          },
          "metadata": {},
          "execution_count": 41
        }
      ]
    },
    {
      "cell_type": "markdown",
      "metadata": {
        "id": "uLp5aL1sghfm"
      },
      "source": [
        "### Evaluation on dev set"
      ]
    },
    {
      "cell_type": "code",
      "execution_count": null,
      "metadata": {
        "id": "rbqF1gkOghfo",
        "colab": {
          "base_uri": "https://localhost:8080/"
        },
        "outputId": "e3c45438-a2d7-441e-bcf7-1b541e201807"
      },
      "outputs": [
        {
          "output_type": "stream",
          "name": "stdout",
          "text": [
            "0.9310344827586207,0.4251968503937008,0.5837837837837838\n"
          ]
        }
      ],
      "source": [
        "true_labels, pred_labels = predict(bert_linearized_graph_clf, dev_loader, device)\n",
        "print(f\"{precision_score(true_labels, pred_labels)},{recall_score(true_labels, pred_labels)},{f1_score(true_labels, pred_labels)}\")"
      ]
    },
    {
      "cell_type": "markdown",
      "metadata": {
        "id": "b-2wJB5oghfp"
      },
      "source": [
        "### Evaluation on test set"
      ]
    },
    {
      "cell_type": "code",
      "execution_count": null,
      "metadata": {
        "id": "RA43g37Gghfp"
      },
      "outputs": [],
      "source": [
        "true_labels, pred_labels = predict(bert_linearized_graph_clf, test_loader, device)\n",
        "print(f\"{precision_score(true_labels, pred_labels)},{recall_score(true_labels, pred_labels)},{f1_score(true_labels, pred_labels)}\")"
      ]
    },
    {
      "cell_type": "code",
      "execution_count": null,
      "metadata": {
        "id": "XvDBt6VFghfp"
      },
      "outputs": [],
      "source": [
        "assert len(true_labels) == len(pred_labels)"
      ]
    },
    {
      "cell_type": "code",
      "execution_count": null,
      "metadata": {
        "id": "_2mDm3yQghfq"
      },
      "outputs": [],
      "source": [
        "test_df[\"true_y\"] = true_labels\n",
        "test_df[\"prediction\"] = pred_labels\n"
      ]
    },
    {
      "cell_type": "code",
      "execution_count": null,
      "metadata": {
        "id": "B_2gX6rpghfq"
      },
      "outputs": [],
      "source": [
        "test_df.head()"
      ]
    },
    {
      "cell_type": "code",
      "execution_count": null,
      "metadata": {
        "id": "FuUG2nEughfq"
      },
      "outputs": [],
      "source": [
        "test_df[[\"question\", \"answerEntity\", \"groundTruthAnswerEntity\", \"true_y\", \"prediction\", \"label\"]].head(50)"
      ]
    },
    {
      "cell_type": "code",
      "execution_count": null,
      "metadata": {
        "id": "KYkvhednghfr"
      },
      "outputs": [],
      "source": [
        "test_pred_path = \"/content/drive/MyDrive/kgqa_workshop/final_test/test_pred_linearized_graph_only_baseline.tsv\"\n",
        "test_df[[\"sample_id\", \"prediction\"]].to_csv(test_pred_path, sep='\\t', index=False)"
      ]
    },
    {
      "cell_type": "code",
      "source": [
        "test_pred_path = \"test_pred_linearized_graph_only_baseline.tsv\"\n",
        "test_df[[\"sample_id\", \"prediction\"]].to_csv(test_pred_path, sep='\\t', index=False)"
      ],
      "metadata": {
        "id": "uL8x1WYGgJJe"
      },
      "execution_count": null,
      "outputs": []
    },
    {
      "cell_type": "code",
      "source": [],
      "metadata": {
        "id": "Vf___HoVgJLn"
      },
      "execution_count": null,
      "outputs": []
    }
  ],
  "metadata": {
    "colab": {
      "provenance": [],
      "gpuType": "T4"
    },
    "kernelspec": {
      "display_name": "Python 3",
      "name": "python3"
    },
    "language_info": {
      "name": "python"
    },
    "widgets": {
      "application/vnd.jupyter.widget-state+json": {
        "5612534637934a289c134572334acda1": {
          "model_module": "@jupyter-widgets/controls",
          "model_name": "HBoxModel",
          "model_module_version": "1.5.0",
          "state": {
            "_dom_classes": [],
            "_model_module": "@jupyter-widgets/controls",
            "_model_module_version": "1.5.0",
            "_model_name": "HBoxModel",
            "_view_count": null,
            "_view_module": "@jupyter-widgets/controls",
            "_view_module_version": "1.5.0",
            "_view_name": "HBoxView",
            "box_style": "",
            "children": [
              "IPY_MODEL_4469383d1d8b4a56a134f754be630461",
              "IPY_MODEL_269c9012633f420ea5065f148d8a5849",
              "IPY_MODEL_55d1b29653024875a580a1d3e5e9c0c5"
            ],
            "layout": "IPY_MODEL_0c2448b255c04f88a90c112e77519360"
          }
        },
        "4469383d1d8b4a56a134f754be630461": {
          "model_module": "@jupyter-widgets/controls",
          "model_name": "HTMLModel",
          "model_module_version": "1.5.0",
          "state": {
            "_dom_classes": [],
            "_model_module": "@jupyter-widgets/controls",
            "_model_module_version": "1.5.0",
            "_model_name": "HTMLModel",
            "_view_count": null,
            "_view_module": "@jupyter-widgets/controls",
            "_view_module_version": "1.5.0",
            "_view_name": "HTMLView",
            "description": "",
            "description_tooltip": null,
            "layout": "IPY_MODEL_6b8b34c68032471e83d840c5631a391b",
            "placeholder": "​",
            "style": "IPY_MODEL_82ed048df3f34815af1b1742d173b3f6",
            "value": "tokenizer_config.json: 100%"
          }
        },
        "269c9012633f420ea5065f148d8a5849": {
          "model_module": "@jupyter-widgets/controls",
          "model_name": "FloatProgressModel",
          "model_module_version": "1.5.0",
          "state": {
            "_dom_classes": [],
            "_model_module": "@jupyter-widgets/controls",
            "_model_module_version": "1.5.0",
            "_model_name": "FloatProgressModel",
            "_view_count": null,
            "_view_module": "@jupyter-widgets/controls",
            "_view_module_version": "1.5.0",
            "_view_name": "ProgressView",
            "bar_style": "success",
            "description": "",
            "description_tooltip": null,
            "layout": "IPY_MODEL_b4703706f7f8488296fa0797a234c565",
            "max": 363,
            "min": 0,
            "orientation": "horizontal",
            "style": "IPY_MODEL_098be08f23a44361bc78956232ac5edb",
            "value": 363
          }
        },
        "55d1b29653024875a580a1d3e5e9c0c5": {
          "model_module": "@jupyter-widgets/controls",
          "model_name": "HTMLModel",
          "model_module_version": "1.5.0",
          "state": {
            "_dom_classes": [],
            "_model_module": "@jupyter-widgets/controls",
            "_model_module_version": "1.5.0",
            "_model_name": "HTMLModel",
            "_view_count": null,
            "_view_module": "@jupyter-widgets/controls",
            "_view_module_version": "1.5.0",
            "_view_name": "HTMLView",
            "description": "",
            "description_tooltip": null,
            "layout": "IPY_MODEL_3a046c69b85345f2b09ff26c17ddbb31",
            "placeholder": "​",
            "style": "IPY_MODEL_ca5facac32b54cc9a41204cfde74e6f5",
            "value": " 363/363 [00:00&lt;00:00, 9.47kB/s]"
          }
        },
        "0c2448b255c04f88a90c112e77519360": {
          "model_module": "@jupyter-widgets/base",
          "model_name": "LayoutModel",
          "model_module_version": "1.2.0",
          "state": {
            "_model_module": "@jupyter-widgets/base",
            "_model_module_version": "1.2.0",
            "_model_name": "LayoutModel",
            "_view_count": null,
            "_view_module": "@jupyter-widgets/base",
            "_view_module_version": "1.2.0",
            "_view_name": "LayoutView",
            "align_content": null,
            "align_items": null,
            "align_self": null,
            "border": null,
            "bottom": null,
            "display": null,
            "flex": null,
            "flex_flow": null,
            "grid_area": null,
            "grid_auto_columns": null,
            "grid_auto_flow": null,
            "grid_auto_rows": null,
            "grid_column": null,
            "grid_gap": null,
            "grid_row": null,
            "grid_template_areas": null,
            "grid_template_columns": null,
            "grid_template_rows": null,
            "height": null,
            "justify_content": null,
            "justify_items": null,
            "left": null,
            "margin": null,
            "max_height": null,
            "max_width": null,
            "min_height": null,
            "min_width": null,
            "object_fit": null,
            "object_position": null,
            "order": null,
            "overflow": null,
            "overflow_x": null,
            "overflow_y": null,
            "padding": null,
            "right": null,
            "top": null,
            "visibility": null,
            "width": null
          }
        },
        "6b8b34c68032471e83d840c5631a391b": {
          "model_module": "@jupyter-widgets/base",
          "model_name": "LayoutModel",
          "model_module_version": "1.2.0",
          "state": {
            "_model_module": "@jupyter-widgets/base",
            "_model_module_version": "1.2.0",
            "_model_name": "LayoutModel",
            "_view_count": null,
            "_view_module": "@jupyter-widgets/base",
            "_view_module_version": "1.2.0",
            "_view_name": "LayoutView",
            "align_content": null,
            "align_items": null,
            "align_self": null,
            "border": null,
            "bottom": null,
            "display": null,
            "flex": null,
            "flex_flow": null,
            "grid_area": null,
            "grid_auto_columns": null,
            "grid_auto_flow": null,
            "grid_auto_rows": null,
            "grid_column": null,
            "grid_gap": null,
            "grid_row": null,
            "grid_template_areas": null,
            "grid_template_columns": null,
            "grid_template_rows": null,
            "height": null,
            "justify_content": null,
            "justify_items": null,
            "left": null,
            "margin": null,
            "max_height": null,
            "max_width": null,
            "min_height": null,
            "min_width": null,
            "object_fit": null,
            "object_position": null,
            "order": null,
            "overflow": null,
            "overflow_x": null,
            "overflow_y": null,
            "padding": null,
            "right": null,
            "top": null,
            "visibility": null,
            "width": null
          }
        },
        "82ed048df3f34815af1b1742d173b3f6": {
          "model_module": "@jupyter-widgets/controls",
          "model_name": "DescriptionStyleModel",
          "model_module_version": "1.5.0",
          "state": {
            "_model_module": "@jupyter-widgets/controls",
            "_model_module_version": "1.5.0",
            "_model_name": "DescriptionStyleModel",
            "_view_count": null,
            "_view_module": "@jupyter-widgets/base",
            "_view_module_version": "1.2.0",
            "_view_name": "StyleView",
            "description_width": ""
          }
        },
        "b4703706f7f8488296fa0797a234c565": {
          "model_module": "@jupyter-widgets/base",
          "model_name": "LayoutModel",
          "model_module_version": "1.2.0",
          "state": {
            "_model_module": "@jupyter-widgets/base",
            "_model_module_version": "1.2.0",
            "_model_name": "LayoutModel",
            "_view_count": null,
            "_view_module": "@jupyter-widgets/base",
            "_view_module_version": "1.2.0",
            "_view_name": "LayoutView",
            "align_content": null,
            "align_items": null,
            "align_self": null,
            "border": null,
            "bottom": null,
            "display": null,
            "flex": null,
            "flex_flow": null,
            "grid_area": null,
            "grid_auto_columns": null,
            "grid_auto_flow": null,
            "grid_auto_rows": null,
            "grid_column": null,
            "grid_gap": null,
            "grid_row": null,
            "grid_template_areas": null,
            "grid_template_columns": null,
            "grid_template_rows": null,
            "height": null,
            "justify_content": null,
            "justify_items": null,
            "left": null,
            "margin": null,
            "max_height": null,
            "max_width": null,
            "min_height": null,
            "min_width": null,
            "object_fit": null,
            "object_position": null,
            "order": null,
            "overflow": null,
            "overflow_x": null,
            "overflow_y": null,
            "padding": null,
            "right": null,
            "top": null,
            "visibility": null,
            "width": null
          }
        },
        "098be08f23a44361bc78956232ac5edb": {
          "model_module": "@jupyter-widgets/controls",
          "model_name": "ProgressStyleModel",
          "model_module_version": "1.5.0",
          "state": {
            "_model_module": "@jupyter-widgets/controls",
            "_model_module_version": "1.5.0",
            "_model_name": "ProgressStyleModel",
            "_view_count": null,
            "_view_module": "@jupyter-widgets/base",
            "_view_module_version": "1.2.0",
            "_view_name": "StyleView",
            "bar_color": null,
            "description_width": ""
          }
        },
        "3a046c69b85345f2b09ff26c17ddbb31": {
          "model_module": "@jupyter-widgets/base",
          "model_name": "LayoutModel",
          "model_module_version": "1.2.0",
          "state": {
            "_model_module": "@jupyter-widgets/base",
            "_model_module_version": "1.2.0",
            "_model_name": "LayoutModel",
            "_view_count": null,
            "_view_module": "@jupyter-widgets/base",
            "_view_module_version": "1.2.0",
            "_view_name": "LayoutView",
            "align_content": null,
            "align_items": null,
            "align_self": null,
            "border": null,
            "bottom": null,
            "display": null,
            "flex": null,
            "flex_flow": null,
            "grid_area": null,
            "grid_auto_columns": null,
            "grid_auto_flow": null,
            "grid_auto_rows": null,
            "grid_column": null,
            "grid_gap": null,
            "grid_row": null,
            "grid_template_areas": null,
            "grid_template_columns": null,
            "grid_template_rows": null,
            "height": null,
            "justify_content": null,
            "justify_items": null,
            "left": null,
            "margin": null,
            "max_height": null,
            "max_width": null,
            "min_height": null,
            "min_width": null,
            "object_fit": null,
            "object_position": null,
            "order": null,
            "overflow": null,
            "overflow_x": null,
            "overflow_y": null,
            "padding": null,
            "right": null,
            "top": null,
            "visibility": null,
            "width": null
          }
        },
        "ca5facac32b54cc9a41204cfde74e6f5": {
          "model_module": "@jupyter-widgets/controls",
          "model_name": "DescriptionStyleModel",
          "model_module_version": "1.5.0",
          "state": {
            "_model_module": "@jupyter-widgets/controls",
            "_model_module_version": "1.5.0",
            "_model_name": "DescriptionStyleModel",
            "_view_count": null,
            "_view_module": "@jupyter-widgets/base",
            "_view_module_version": "1.2.0",
            "_view_name": "StyleView",
            "description_width": ""
          }
        },
        "f91f3220bfdd4af6a34a353366018e98": {
          "model_module": "@jupyter-widgets/controls",
          "model_name": "HBoxModel",
          "model_module_version": "1.5.0",
          "state": {
            "_dom_classes": [],
            "_model_module": "@jupyter-widgets/controls",
            "_model_module_version": "1.5.0",
            "_model_name": "HBoxModel",
            "_view_count": null,
            "_view_module": "@jupyter-widgets/controls",
            "_view_module_version": "1.5.0",
            "_view_name": "HBoxView",
            "box_style": "",
            "children": [
              "IPY_MODEL_1ea25443e28049fcb63c26480e0c46dc",
              "IPY_MODEL_c994ad849183455e8f57af3b079f96c2",
              "IPY_MODEL_e1f2ca106e4f4407baec3324e0d1adfb"
            ],
            "layout": "IPY_MODEL_5a3d8243f14f47eda2c86c15cb87ea00"
          }
        },
        "1ea25443e28049fcb63c26480e0c46dc": {
          "model_module": "@jupyter-widgets/controls",
          "model_name": "HTMLModel",
          "model_module_version": "1.5.0",
          "state": {
            "_dom_classes": [],
            "_model_module": "@jupyter-widgets/controls",
            "_model_module_version": "1.5.0",
            "_model_name": "HTMLModel",
            "_view_count": null,
            "_view_module": "@jupyter-widgets/controls",
            "_view_module_version": "1.5.0",
            "_view_name": "HTMLView",
            "description": "",
            "description_tooltip": null,
            "layout": "IPY_MODEL_20f47039e4e5402088d56f98e61f6ba5",
            "placeholder": "​",
            "style": "IPY_MODEL_4c9176cbfe744444b4c0e67b9de7e2ca",
            "value": "vocab.txt: 100%"
          }
        },
        "c994ad849183455e8f57af3b079f96c2": {
          "model_module": "@jupyter-widgets/controls",
          "model_name": "FloatProgressModel",
          "model_module_version": "1.5.0",
          "state": {
            "_dom_classes": [],
            "_model_module": "@jupyter-widgets/controls",
            "_model_module_version": "1.5.0",
            "_model_name": "FloatProgressModel",
            "_view_count": null,
            "_view_module": "@jupyter-widgets/controls",
            "_view_module_version": "1.5.0",
            "_view_name": "ProgressView",
            "bar_style": "success",
            "description": "",
            "description_tooltip": null,
            "layout": "IPY_MODEL_2c48d47eefd34e82a5f26846314bcc00",
            "max": 231536,
            "min": 0,
            "orientation": "horizontal",
            "style": "IPY_MODEL_60f1ad98441b4b90a1c3328fe9946602",
            "value": 231536
          }
        },
        "e1f2ca106e4f4407baec3324e0d1adfb": {
          "model_module": "@jupyter-widgets/controls",
          "model_name": "HTMLModel",
          "model_module_version": "1.5.0",
          "state": {
            "_dom_classes": [],
            "_model_module": "@jupyter-widgets/controls",
            "_model_module_version": "1.5.0",
            "_model_name": "HTMLModel",
            "_view_count": null,
            "_view_module": "@jupyter-widgets/controls",
            "_view_module_version": "1.5.0",
            "_view_name": "HTMLView",
            "description": "",
            "description_tooltip": null,
            "layout": "IPY_MODEL_f0dea693e5034ad7a8062483fc859d05",
            "placeholder": "​",
            "style": "IPY_MODEL_9b2896e7d385460dada2d89bbcacbd32",
            "value": " 232k/232k [00:00&lt;00:00, 3.20MB/s]"
          }
        },
        "5a3d8243f14f47eda2c86c15cb87ea00": {
          "model_module": "@jupyter-widgets/base",
          "model_name": "LayoutModel",
          "model_module_version": "1.2.0",
          "state": {
            "_model_module": "@jupyter-widgets/base",
            "_model_module_version": "1.2.0",
            "_model_name": "LayoutModel",
            "_view_count": null,
            "_view_module": "@jupyter-widgets/base",
            "_view_module_version": "1.2.0",
            "_view_name": "LayoutView",
            "align_content": null,
            "align_items": null,
            "align_self": null,
            "border": null,
            "bottom": null,
            "display": null,
            "flex": null,
            "flex_flow": null,
            "grid_area": null,
            "grid_auto_columns": null,
            "grid_auto_flow": null,
            "grid_auto_rows": null,
            "grid_column": null,
            "grid_gap": null,
            "grid_row": null,
            "grid_template_areas": null,
            "grid_template_columns": null,
            "grid_template_rows": null,
            "height": null,
            "justify_content": null,
            "justify_items": null,
            "left": null,
            "margin": null,
            "max_height": null,
            "max_width": null,
            "min_height": null,
            "min_width": null,
            "object_fit": null,
            "object_position": null,
            "order": null,
            "overflow": null,
            "overflow_x": null,
            "overflow_y": null,
            "padding": null,
            "right": null,
            "top": null,
            "visibility": null,
            "width": null
          }
        },
        "20f47039e4e5402088d56f98e61f6ba5": {
          "model_module": "@jupyter-widgets/base",
          "model_name": "LayoutModel",
          "model_module_version": "1.2.0",
          "state": {
            "_model_module": "@jupyter-widgets/base",
            "_model_module_version": "1.2.0",
            "_model_name": "LayoutModel",
            "_view_count": null,
            "_view_module": "@jupyter-widgets/base",
            "_view_module_version": "1.2.0",
            "_view_name": "LayoutView",
            "align_content": null,
            "align_items": null,
            "align_self": null,
            "border": null,
            "bottom": null,
            "display": null,
            "flex": null,
            "flex_flow": null,
            "grid_area": null,
            "grid_auto_columns": null,
            "grid_auto_flow": null,
            "grid_auto_rows": null,
            "grid_column": null,
            "grid_gap": null,
            "grid_row": null,
            "grid_template_areas": null,
            "grid_template_columns": null,
            "grid_template_rows": null,
            "height": null,
            "justify_content": null,
            "justify_items": null,
            "left": null,
            "margin": null,
            "max_height": null,
            "max_width": null,
            "min_height": null,
            "min_width": null,
            "object_fit": null,
            "object_position": null,
            "order": null,
            "overflow": null,
            "overflow_x": null,
            "overflow_y": null,
            "padding": null,
            "right": null,
            "top": null,
            "visibility": null,
            "width": null
          }
        },
        "4c9176cbfe744444b4c0e67b9de7e2ca": {
          "model_module": "@jupyter-widgets/controls",
          "model_name": "DescriptionStyleModel",
          "model_module_version": "1.5.0",
          "state": {
            "_model_module": "@jupyter-widgets/controls",
            "_model_module_version": "1.5.0",
            "_model_name": "DescriptionStyleModel",
            "_view_count": null,
            "_view_module": "@jupyter-widgets/base",
            "_view_module_version": "1.2.0",
            "_view_name": "StyleView",
            "description_width": ""
          }
        },
        "2c48d47eefd34e82a5f26846314bcc00": {
          "model_module": "@jupyter-widgets/base",
          "model_name": "LayoutModel",
          "model_module_version": "1.2.0",
          "state": {
            "_model_module": "@jupyter-widgets/base",
            "_model_module_version": "1.2.0",
            "_model_name": "LayoutModel",
            "_view_count": null,
            "_view_module": "@jupyter-widgets/base",
            "_view_module_version": "1.2.0",
            "_view_name": "LayoutView",
            "align_content": null,
            "align_items": null,
            "align_self": null,
            "border": null,
            "bottom": null,
            "display": null,
            "flex": null,
            "flex_flow": null,
            "grid_area": null,
            "grid_auto_columns": null,
            "grid_auto_flow": null,
            "grid_auto_rows": null,
            "grid_column": null,
            "grid_gap": null,
            "grid_row": null,
            "grid_template_areas": null,
            "grid_template_columns": null,
            "grid_template_rows": null,
            "height": null,
            "justify_content": null,
            "justify_items": null,
            "left": null,
            "margin": null,
            "max_height": null,
            "max_width": null,
            "min_height": null,
            "min_width": null,
            "object_fit": null,
            "object_position": null,
            "order": null,
            "overflow": null,
            "overflow_x": null,
            "overflow_y": null,
            "padding": null,
            "right": null,
            "top": null,
            "visibility": null,
            "width": null
          }
        },
        "60f1ad98441b4b90a1c3328fe9946602": {
          "model_module": "@jupyter-widgets/controls",
          "model_name": "ProgressStyleModel",
          "model_module_version": "1.5.0",
          "state": {
            "_model_module": "@jupyter-widgets/controls",
            "_model_module_version": "1.5.0",
            "_model_name": "ProgressStyleModel",
            "_view_count": null,
            "_view_module": "@jupyter-widgets/base",
            "_view_module_version": "1.2.0",
            "_view_name": "StyleView",
            "bar_color": null,
            "description_width": ""
          }
        },
        "f0dea693e5034ad7a8062483fc859d05": {
          "model_module": "@jupyter-widgets/base",
          "model_name": "LayoutModel",
          "model_module_version": "1.2.0",
          "state": {
            "_model_module": "@jupyter-widgets/base",
            "_model_module_version": "1.2.0",
            "_model_name": "LayoutModel",
            "_view_count": null,
            "_view_module": "@jupyter-widgets/base",
            "_view_module_version": "1.2.0",
            "_view_name": "LayoutView",
            "align_content": null,
            "align_items": null,
            "align_self": null,
            "border": null,
            "bottom": null,
            "display": null,
            "flex": null,
            "flex_flow": null,
            "grid_area": null,
            "grid_auto_columns": null,
            "grid_auto_flow": null,
            "grid_auto_rows": null,
            "grid_column": null,
            "grid_gap": null,
            "grid_row": null,
            "grid_template_areas": null,
            "grid_template_columns": null,
            "grid_template_rows": null,
            "height": null,
            "justify_content": null,
            "justify_items": null,
            "left": null,
            "margin": null,
            "max_height": null,
            "max_width": null,
            "min_height": null,
            "min_width": null,
            "object_fit": null,
            "object_position": null,
            "order": null,
            "overflow": null,
            "overflow_x": null,
            "overflow_y": null,
            "padding": null,
            "right": null,
            "top": null,
            "visibility": null,
            "width": null
          }
        },
        "9b2896e7d385460dada2d89bbcacbd32": {
          "model_module": "@jupyter-widgets/controls",
          "model_name": "DescriptionStyleModel",
          "model_module_version": "1.5.0",
          "state": {
            "_model_module": "@jupyter-widgets/controls",
            "_model_module_version": "1.5.0",
            "_model_name": "DescriptionStyleModel",
            "_view_count": null,
            "_view_module": "@jupyter-widgets/base",
            "_view_module_version": "1.2.0",
            "_view_name": "StyleView",
            "description_width": ""
          }
        },
        "1912ff71ce8a4f07820bd2252e2b7084": {
          "model_module": "@jupyter-widgets/controls",
          "model_name": "HBoxModel",
          "model_module_version": "1.5.0",
          "state": {
            "_dom_classes": [],
            "_model_module": "@jupyter-widgets/controls",
            "_model_module_version": "1.5.0",
            "_model_name": "HBoxModel",
            "_view_count": null,
            "_view_module": "@jupyter-widgets/controls",
            "_view_module_version": "1.5.0",
            "_view_name": "HBoxView",
            "box_style": "",
            "children": [
              "IPY_MODEL_fb6269a181e649f098820ca9af956995",
              "IPY_MODEL_e6132b8f0a86489d8707b0f71d18f228",
              "IPY_MODEL_42dda9aea42d4742bd95aec481751a81"
            ],
            "layout": "IPY_MODEL_50c48f5da4c34a8289e45118152e6478"
          }
        },
        "fb6269a181e649f098820ca9af956995": {
          "model_module": "@jupyter-widgets/controls",
          "model_name": "HTMLModel",
          "model_module_version": "1.5.0",
          "state": {
            "_dom_classes": [],
            "_model_module": "@jupyter-widgets/controls",
            "_model_module_version": "1.5.0",
            "_model_name": "HTMLModel",
            "_view_count": null,
            "_view_module": "@jupyter-widgets/controls",
            "_view_module_version": "1.5.0",
            "_view_name": "HTMLView",
            "description": "",
            "description_tooltip": null,
            "layout": "IPY_MODEL_95ecf9d577684228a567f379651e5027",
            "placeholder": "​",
            "style": "IPY_MODEL_00e3cc3695c944d8b0bdcad836829377",
            "value": "tokenizer.json: 100%"
          }
        },
        "e6132b8f0a86489d8707b0f71d18f228": {
          "model_module": "@jupyter-widgets/controls",
          "model_name": "FloatProgressModel",
          "model_module_version": "1.5.0",
          "state": {
            "_dom_classes": [],
            "_model_module": "@jupyter-widgets/controls",
            "_model_module_version": "1.5.0",
            "_model_name": "FloatProgressModel",
            "_view_count": null,
            "_view_module": "@jupyter-widgets/controls",
            "_view_module_version": "1.5.0",
            "_view_name": "ProgressView",
            "bar_style": "success",
            "description": "",
            "description_tooltip": null,
            "layout": "IPY_MODEL_0aa00db77f95488bb3fff3884fdb4685",
            "max": 466021,
            "min": 0,
            "orientation": "horizontal",
            "style": "IPY_MODEL_617940b533474008acafc87b609aa005",
            "value": 466021
          }
        },
        "42dda9aea42d4742bd95aec481751a81": {
          "model_module": "@jupyter-widgets/controls",
          "model_name": "HTMLModel",
          "model_module_version": "1.5.0",
          "state": {
            "_dom_classes": [],
            "_model_module": "@jupyter-widgets/controls",
            "_model_module_version": "1.5.0",
            "_model_name": "HTMLModel",
            "_view_count": null,
            "_view_module": "@jupyter-widgets/controls",
            "_view_module_version": "1.5.0",
            "_view_name": "HTMLView",
            "description": "",
            "description_tooltip": null,
            "layout": "IPY_MODEL_5159330ae9f24481956cf36fd051559d",
            "placeholder": "​",
            "style": "IPY_MODEL_fcc7a91ea383472dadc978db5f22d553",
            "value": " 466k/466k [00:00&lt;00:00, 13.0MB/s]"
          }
        },
        "50c48f5da4c34a8289e45118152e6478": {
          "model_module": "@jupyter-widgets/base",
          "model_name": "LayoutModel",
          "model_module_version": "1.2.0",
          "state": {
            "_model_module": "@jupyter-widgets/base",
            "_model_module_version": "1.2.0",
            "_model_name": "LayoutModel",
            "_view_count": null,
            "_view_module": "@jupyter-widgets/base",
            "_view_module_version": "1.2.0",
            "_view_name": "LayoutView",
            "align_content": null,
            "align_items": null,
            "align_self": null,
            "border": null,
            "bottom": null,
            "display": null,
            "flex": null,
            "flex_flow": null,
            "grid_area": null,
            "grid_auto_columns": null,
            "grid_auto_flow": null,
            "grid_auto_rows": null,
            "grid_column": null,
            "grid_gap": null,
            "grid_row": null,
            "grid_template_areas": null,
            "grid_template_columns": null,
            "grid_template_rows": null,
            "height": null,
            "justify_content": null,
            "justify_items": null,
            "left": null,
            "margin": null,
            "max_height": null,
            "max_width": null,
            "min_height": null,
            "min_width": null,
            "object_fit": null,
            "object_position": null,
            "order": null,
            "overflow": null,
            "overflow_x": null,
            "overflow_y": null,
            "padding": null,
            "right": null,
            "top": null,
            "visibility": null,
            "width": null
          }
        },
        "95ecf9d577684228a567f379651e5027": {
          "model_module": "@jupyter-widgets/base",
          "model_name": "LayoutModel",
          "model_module_version": "1.2.0",
          "state": {
            "_model_module": "@jupyter-widgets/base",
            "_model_module_version": "1.2.0",
            "_model_name": "LayoutModel",
            "_view_count": null,
            "_view_module": "@jupyter-widgets/base",
            "_view_module_version": "1.2.0",
            "_view_name": "LayoutView",
            "align_content": null,
            "align_items": null,
            "align_self": null,
            "border": null,
            "bottom": null,
            "display": null,
            "flex": null,
            "flex_flow": null,
            "grid_area": null,
            "grid_auto_columns": null,
            "grid_auto_flow": null,
            "grid_auto_rows": null,
            "grid_column": null,
            "grid_gap": null,
            "grid_row": null,
            "grid_template_areas": null,
            "grid_template_columns": null,
            "grid_template_rows": null,
            "height": null,
            "justify_content": null,
            "justify_items": null,
            "left": null,
            "margin": null,
            "max_height": null,
            "max_width": null,
            "min_height": null,
            "min_width": null,
            "object_fit": null,
            "object_position": null,
            "order": null,
            "overflow": null,
            "overflow_x": null,
            "overflow_y": null,
            "padding": null,
            "right": null,
            "top": null,
            "visibility": null,
            "width": null
          }
        },
        "00e3cc3695c944d8b0bdcad836829377": {
          "model_module": "@jupyter-widgets/controls",
          "model_name": "DescriptionStyleModel",
          "model_module_version": "1.5.0",
          "state": {
            "_model_module": "@jupyter-widgets/controls",
            "_model_module_version": "1.5.0",
            "_model_name": "DescriptionStyleModel",
            "_view_count": null,
            "_view_module": "@jupyter-widgets/base",
            "_view_module_version": "1.2.0",
            "_view_name": "StyleView",
            "description_width": ""
          }
        },
        "0aa00db77f95488bb3fff3884fdb4685": {
          "model_module": "@jupyter-widgets/base",
          "model_name": "LayoutModel",
          "model_module_version": "1.2.0",
          "state": {
            "_model_module": "@jupyter-widgets/base",
            "_model_module_version": "1.2.0",
            "_model_name": "LayoutModel",
            "_view_count": null,
            "_view_module": "@jupyter-widgets/base",
            "_view_module_version": "1.2.0",
            "_view_name": "LayoutView",
            "align_content": null,
            "align_items": null,
            "align_self": null,
            "border": null,
            "bottom": null,
            "display": null,
            "flex": null,
            "flex_flow": null,
            "grid_area": null,
            "grid_auto_columns": null,
            "grid_auto_flow": null,
            "grid_auto_rows": null,
            "grid_column": null,
            "grid_gap": null,
            "grid_row": null,
            "grid_template_areas": null,
            "grid_template_columns": null,
            "grid_template_rows": null,
            "height": null,
            "justify_content": null,
            "justify_items": null,
            "left": null,
            "margin": null,
            "max_height": null,
            "max_width": null,
            "min_height": null,
            "min_width": null,
            "object_fit": null,
            "object_position": null,
            "order": null,
            "overflow": null,
            "overflow_x": null,
            "overflow_y": null,
            "padding": null,
            "right": null,
            "top": null,
            "visibility": null,
            "width": null
          }
        },
        "617940b533474008acafc87b609aa005": {
          "model_module": "@jupyter-widgets/controls",
          "model_name": "ProgressStyleModel",
          "model_module_version": "1.5.0",
          "state": {
            "_model_module": "@jupyter-widgets/controls",
            "_model_module_version": "1.5.0",
            "_model_name": "ProgressStyleModel",
            "_view_count": null,
            "_view_module": "@jupyter-widgets/base",
            "_view_module_version": "1.2.0",
            "_view_name": "StyleView",
            "bar_color": null,
            "description_width": ""
          }
        },
        "5159330ae9f24481956cf36fd051559d": {
          "model_module": "@jupyter-widgets/base",
          "model_name": "LayoutModel",
          "model_module_version": "1.2.0",
          "state": {
            "_model_module": "@jupyter-widgets/base",
            "_model_module_version": "1.2.0",
            "_model_name": "LayoutModel",
            "_view_count": null,
            "_view_module": "@jupyter-widgets/base",
            "_view_module_version": "1.2.0",
            "_view_name": "LayoutView",
            "align_content": null,
            "align_items": null,
            "align_self": null,
            "border": null,
            "bottom": null,
            "display": null,
            "flex": null,
            "flex_flow": null,
            "grid_area": null,
            "grid_auto_columns": null,
            "grid_auto_flow": null,
            "grid_auto_rows": null,
            "grid_column": null,
            "grid_gap": null,
            "grid_row": null,
            "grid_template_areas": null,
            "grid_template_columns": null,
            "grid_template_rows": null,
            "height": null,
            "justify_content": null,
            "justify_items": null,
            "left": null,
            "margin": null,
            "max_height": null,
            "max_width": null,
            "min_height": null,
            "min_width": null,
            "object_fit": null,
            "object_position": null,
            "order": null,
            "overflow": null,
            "overflow_x": null,
            "overflow_y": null,
            "padding": null,
            "right": null,
            "top": null,
            "visibility": null,
            "width": null
          }
        },
        "fcc7a91ea383472dadc978db5f22d553": {
          "model_module": "@jupyter-widgets/controls",
          "model_name": "DescriptionStyleModel",
          "model_module_version": "1.5.0",
          "state": {
            "_model_module": "@jupyter-widgets/controls",
            "_model_module_version": "1.5.0",
            "_model_name": "DescriptionStyleModel",
            "_view_count": null,
            "_view_module": "@jupyter-widgets/base",
            "_view_module_version": "1.2.0",
            "_view_name": "StyleView",
            "description_width": ""
          }
        },
        "5e7da223a92c4f86919c14e338918c4e": {
          "model_module": "@jupyter-widgets/controls",
          "model_name": "HBoxModel",
          "model_module_version": "1.5.0",
          "state": {
            "_dom_classes": [],
            "_model_module": "@jupyter-widgets/controls",
            "_model_module_version": "1.5.0",
            "_model_name": "HBoxModel",
            "_view_count": null,
            "_view_module": "@jupyter-widgets/controls",
            "_view_module_version": "1.5.0",
            "_view_name": "HBoxView",
            "box_style": "",
            "children": [
              "IPY_MODEL_5b80958908884f169b52da55f286581d",
              "IPY_MODEL_9117d352d42e4e29b3f947b53ee1f70b",
              "IPY_MODEL_962a34324a6042449aaf31ecb0a0018e"
            ],
            "layout": "IPY_MODEL_86fa621516dc42f1a774914386f4f10a"
          }
        },
        "5b80958908884f169b52da55f286581d": {
          "model_module": "@jupyter-widgets/controls",
          "model_name": "HTMLModel",
          "model_module_version": "1.5.0",
          "state": {
            "_dom_classes": [],
            "_model_module": "@jupyter-widgets/controls",
            "_model_module_version": "1.5.0",
            "_model_name": "HTMLModel",
            "_view_count": null,
            "_view_module": "@jupyter-widgets/controls",
            "_view_module_version": "1.5.0",
            "_view_name": "HTMLView",
            "description": "",
            "description_tooltip": null,
            "layout": "IPY_MODEL_ad72fe9cb6244bda916bd8e8ba38a336",
            "placeholder": "​",
            "style": "IPY_MODEL_a80ef5d064ff4965b2b16432339de1bf",
            "value": "special_tokens_map.json: 100%"
          }
        },
        "9117d352d42e4e29b3f947b53ee1f70b": {
          "model_module": "@jupyter-widgets/controls",
          "model_name": "FloatProgressModel",
          "model_module_version": "1.5.0",
          "state": {
            "_dom_classes": [],
            "_model_module": "@jupyter-widgets/controls",
            "_model_module_version": "1.5.0",
            "_model_name": "FloatProgressModel",
            "_view_count": null,
            "_view_module": "@jupyter-widgets/controls",
            "_view_module_version": "1.5.0",
            "_view_name": "ProgressView",
            "bar_style": "success",
            "description": "",
            "description_tooltip": null,
            "layout": "IPY_MODEL_89f8fb04915b464da5ed66e5b1f02ea7",
            "max": 239,
            "min": 0,
            "orientation": "horizontal",
            "style": "IPY_MODEL_0421420e2eb74002b5775b611172724d",
            "value": 239
          }
        },
        "962a34324a6042449aaf31ecb0a0018e": {
          "model_module": "@jupyter-widgets/controls",
          "model_name": "HTMLModel",
          "model_module_version": "1.5.0",
          "state": {
            "_dom_classes": [],
            "_model_module": "@jupyter-widgets/controls",
            "_model_module_version": "1.5.0",
            "_model_name": "HTMLModel",
            "_view_count": null,
            "_view_module": "@jupyter-widgets/controls",
            "_view_module_version": "1.5.0",
            "_view_name": "HTMLView",
            "description": "",
            "description_tooltip": null,
            "layout": "IPY_MODEL_d957311ec2164411a3903433cabc0c04",
            "placeholder": "​",
            "style": "IPY_MODEL_9ab2a956bbd340ffb2ca6047f0b0723f",
            "value": " 239/239 [00:00&lt;00:00, 8.54kB/s]"
          }
        },
        "86fa621516dc42f1a774914386f4f10a": {
          "model_module": "@jupyter-widgets/base",
          "model_name": "LayoutModel",
          "model_module_version": "1.2.0",
          "state": {
            "_model_module": "@jupyter-widgets/base",
            "_model_module_version": "1.2.0",
            "_model_name": "LayoutModel",
            "_view_count": null,
            "_view_module": "@jupyter-widgets/base",
            "_view_module_version": "1.2.0",
            "_view_name": "LayoutView",
            "align_content": null,
            "align_items": null,
            "align_self": null,
            "border": null,
            "bottom": null,
            "display": null,
            "flex": null,
            "flex_flow": null,
            "grid_area": null,
            "grid_auto_columns": null,
            "grid_auto_flow": null,
            "grid_auto_rows": null,
            "grid_column": null,
            "grid_gap": null,
            "grid_row": null,
            "grid_template_areas": null,
            "grid_template_columns": null,
            "grid_template_rows": null,
            "height": null,
            "justify_content": null,
            "justify_items": null,
            "left": null,
            "margin": null,
            "max_height": null,
            "max_width": null,
            "min_height": null,
            "min_width": null,
            "object_fit": null,
            "object_position": null,
            "order": null,
            "overflow": null,
            "overflow_x": null,
            "overflow_y": null,
            "padding": null,
            "right": null,
            "top": null,
            "visibility": null,
            "width": null
          }
        },
        "ad72fe9cb6244bda916bd8e8ba38a336": {
          "model_module": "@jupyter-widgets/base",
          "model_name": "LayoutModel",
          "model_module_version": "1.2.0",
          "state": {
            "_model_module": "@jupyter-widgets/base",
            "_model_module_version": "1.2.0",
            "_model_name": "LayoutModel",
            "_view_count": null,
            "_view_module": "@jupyter-widgets/base",
            "_view_module_version": "1.2.0",
            "_view_name": "LayoutView",
            "align_content": null,
            "align_items": null,
            "align_self": null,
            "border": null,
            "bottom": null,
            "display": null,
            "flex": null,
            "flex_flow": null,
            "grid_area": null,
            "grid_auto_columns": null,
            "grid_auto_flow": null,
            "grid_auto_rows": null,
            "grid_column": null,
            "grid_gap": null,
            "grid_row": null,
            "grid_template_areas": null,
            "grid_template_columns": null,
            "grid_template_rows": null,
            "height": null,
            "justify_content": null,
            "justify_items": null,
            "left": null,
            "margin": null,
            "max_height": null,
            "max_width": null,
            "min_height": null,
            "min_width": null,
            "object_fit": null,
            "object_position": null,
            "order": null,
            "overflow": null,
            "overflow_x": null,
            "overflow_y": null,
            "padding": null,
            "right": null,
            "top": null,
            "visibility": null,
            "width": null
          }
        },
        "a80ef5d064ff4965b2b16432339de1bf": {
          "model_module": "@jupyter-widgets/controls",
          "model_name": "DescriptionStyleModel",
          "model_module_version": "1.5.0",
          "state": {
            "_model_module": "@jupyter-widgets/controls",
            "_model_module_version": "1.5.0",
            "_model_name": "DescriptionStyleModel",
            "_view_count": null,
            "_view_module": "@jupyter-widgets/base",
            "_view_module_version": "1.2.0",
            "_view_name": "StyleView",
            "description_width": ""
          }
        },
        "89f8fb04915b464da5ed66e5b1f02ea7": {
          "model_module": "@jupyter-widgets/base",
          "model_name": "LayoutModel",
          "model_module_version": "1.2.0",
          "state": {
            "_model_module": "@jupyter-widgets/base",
            "_model_module_version": "1.2.0",
            "_model_name": "LayoutModel",
            "_view_count": null,
            "_view_module": "@jupyter-widgets/base",
            "_view_module_version": "1.2.0",
            "_view_name": "LayoutView",
            "align_content": null,
            "align_items": null,
            "align_self": null,
            "border": null,
            "bottom": null,
            "display": null,
            "flex": null,
            "flex_flow": null,
            "grid_area": null,
            "grid_auto_columns": null,
            "grid_auto_flow": null,
            "grid_auto_rows": null,
            "grid_column": null,
            "grid_gap": null,
            "grid_row": null,
            "grid_template_areas": null,
            "grid_template_columns": null,
            "grid_template_rows": null,
            "height": null,
            "justify_content": null,
            "justify_items": null,
            "left": null,
            "margin": null,
            "max_height": null,
            "max_width": null,
            "min_height": null,
            "min_width": null,
            "object_fit": null,
            "object_position": null,
            "order": null,
            "overflow": null,
            "overflow_x": null,
            "overflow_y": null,
            "padding": null,
            "right": null,
            "top": null,
            "visibility": null,
            "width": null
          }
        },
        "0421420e2eb74002b5775b611172724d": {
          "model_module": "@jupyter-widgets/controls",
          "model_name": "ProgressStyleModel",
          "model_module_version": "1.5.0",
          "state": {
            "_model_module": "@jupyter-widgets/controls",
            "_model_module_version": "1.5.0",
            "_model_name": "ProgressStyleModel",
            "_view_count": null,
            "_view_module": "@jupyter-widgets/base",
            "_view_module_version": "1.2.0",
            "_view_name": "StyleView",
            "bar_color": null,
            "description_width": ""
          }
        },
        "d957311ec2164411a3903433cabc0c04": {
          "model_module": "@jupyter-widgets/base",
          "model_name": "LayoutModel",
          "model_module_version": "1.2.0",
          "state": {
            "_model_module": "@jupyter-widgets/base",
            "_model_module_version": "1.2.0",
            "_model_name": "LayoutModel",
            "_view_count": null,
            "_view_module": "@jupyter-widgets/base",
            "_view_module_version": "1.2.0",
            "_view_name": "LayoutView",
            "align_content": null,
            "align_items": null,
            "align_self": null,
            "border": null,
            "bottom": null,
            "display": null,
            "flex": null,
            "flex_flow": null,
            "grid_area": null,
            "grid_auto_columns": null,
            "grid_auto_flow": null,
            "grid_auto_rows": null,
            "grid_column": null,
            "grid_gap": null,
            "grid_row": null,
            "grid_template_areas": null,
            "grid_template_columns": null,
            "grid_template_rows": null,
            "height": null,
            "justify_content": null,
            "justify_items": null,
            "left": null,
            "margin": null,
            "max_height": null,
            "max_width": null,
            "min_height": null,
            "min_width": null,
            "object_fit": null,
            "object_position": null,
            "order": null,
            "overflow": null,
            "overflow_x": null,
            "overflow_y": null,
            "padding": null,
            "right": null,
            "top": null,
            "visibility": null,
            "width": null
          }
        },
        "9ab2a956bbd340ffb2ca6047f0b0723f": {
          "model_module": "@jupyter-widgets/controls",
          "model_name": "DescriptionStyleModel",
          "model_module_version": "1.5.0",
          "state": {
            "_model_module": "@jupyter-widgets/controls",
            "_model_module_version": "1.5.0",
            "_model_name": "DescriptionStyleModel",
            "_view_count": null,
            "_view_module": "@jupyter-widgets/base",
            "_view_module_version": "1.2.0",
            "_view_name": "StyleView",
            "description_width": ""
          }
        },
        "53401cdac0254efcac5cdf392d81f22c": {
          "model_module": "@jupyter-widgets/controls",
          "model_name": "HBoxModel",
          "model_module_version": "1.5.0",
          "state": {
            "_dom_classes": [],
            "_model_module": "@jupyter-widgets/controls",
            "_model_module_version": "1.5.0",
            "_model_name": "HBoxModel",
            "_view_count": null,
            "_view_module": "@jupyter-widgets/controls",
            "_view_module_version": "1.5.0",
            "_view_name": "HBoxView",
            "box_style": "",
            "children": [
              "IPY_MODEL_71b398bc6faf4867934a3d3fe0977381",
              "IPY_MODEL_cd76a3cd25874f7bb99f63ffa8864032",
              "IPY_MODEL_2674710b0c7d4697a4bc774db6a26a3b"
            ],
            "layout": "IPY_MODEL_a3fbda9299b141e09920d933d0760113"
          }
        },
        "71b398bc6faf4867934a3d3fe0977381": {
          "model_module": "@jupyter-widgets/controls",
          "model_name": "HTMLModel",
          "model_module_version": "1.5.0",
          "state": {
            "_dom_classes": [],
            "_model_module": "@jupyter-widgets/controls",
            "_model_module_version": "1.5.0",
            "_model_name": "HTMLModel",
            "_view_count": null,
            "_view_module": "@jupyter-widgets/controls",
            "_view_module_version": "1.5.0",
            "_view_name": "HTMLView",
            "description": "",
            "description_tooltip": null,
            "layout": "IPY_MODEL_fb85f7d5f0884a0f858853b05e034d19",
            "placeholder": "​",
            "style": "IPY_MODEL_ef202553fa5e4c45841c665f237294ba",
            "value": "config.json: 100%"
          }
        },
        "cd76a3cd25874f7bb99f63ffa8864032": {
          "model_module": "@jupyter-widgets/controls",
          "model_name": "FloatProgressModel",
          "model_module_version": "1.5.0",
          "state": {
            "_dom_classes": [],
            "_model_module": "@jupyter-widgets/controls",
            "_model_module_version": "1.5.0",
            "_model_name": "FloatProgressModel",
            "_view_count": null,
            "_view_module": "@jupyter-widgets/controls",
            "_view_module_version": "1.5.0",
            "_view_name": "ProgressView",
            "bar_style": "success",
            "description": "",
            "description_tooltip": null,
            "layout": "IPY_MODEL_804fc30fa5ad4dbc8ca516f035258670",
            "max": 571,
            "min": 0,
            "orientation": "horizontal",
            "style": "IPY_MODEL_988d4f91e1ab4e349fc81d1e00bd5d55",
            "value": 571
          }
        },
        "2674710b0c7d4697a4bc774db6a26a3b": {
          "model_module": "@jupyter-widgets/controls",
          "model_name": "HTMLModel",
          "model_module_version": "1.5.0",
          "state": {
            "_dom_classes": [],
            "_model_module": "@jupyter-widgets/controls",
            "_model_module_version": "1.5.0",
            "_model_name": "HTMLModel",
            "_view_count": null,
            "_view_module": "@jupyter-widgets/controls",
            "_view_module_version": "1.5.0",
            "_view_name": "HTMLView",
            "description": "",
            "description_tooltip": null,
            "layout": "IPY_MODEL_c19d4ea5a76d4dd9b12a59b67baa281a",
            "placeholder": "​",
            "style": "IPY_MODEL_c55ee3284ab4404a93e7fad97ce24a1a",
            "value": " 571/571 [00:00&lt;00:00, 9.38kB/s]"
          }
        },
        "a3fbda9299b141e09920d933d0760113": {
          "model_module": "@jupyter-widgets/base",
          "model_name": "LayoutModel",
          "model_module_version": "1.2.0",
          "state": {
            "_model_module": "@jupyter-widgets/base",
            "_model_module_version": "1.2.0",
            "_model_name": "LayoutModel",
            "_view_count": null,
            "_view_module": "@jupyter-widgets/base",
            "_view_module_version": "1.2.0",
            "_view_name": "LayoutView",
            "align_content": null,
            "align_items": null,
            "align_self": null,
            "border": null,
            "bottom": null,
            "display": null,
            "flex": null,
            "flex_flow": null,
            "grid_area": null,
            "grid_auto_columns": null,
            "grid_auto_flow": null,
            "grid_auto_rows": null,
            "grid_column": null,
            "grid_gap": null,
            "grid_row": null,
            "grid_template_areas": null,
            "grid_template_columns": null,
            "grid_template_rows": null,
            "height": null,
            "justify_content": null,
            "justify_items": null,
            "left": null,
            "margin": null,
            "max_height": null,
            "max_width": null,
            "min_height": null,
            "min_width": null,
            "object_fit": null,
            "object_position": null,
            "order": null,
            "overflow": null,
            "overflow_x": null,
            "overflow_y": null,
            "padding": null,
            "right": null,
            "top": null,
            "visibility": null,
            "width": null
          }
        },
        "fb85f7d5f0884a0f858853b05e034d19": {
          "model_module": "@jupyter-widgets/base",
          "model_name": "LayoutModel",
          "model_module_version": "1.2.0",
          "state": {
            "_model_module": "@jupyter-widgets/base",
            "_model_module_version": "1.2.0",
            "_model_name": "LayoutModel",
            "_view_count": null,
            "_view_module": "@jupyter-widgets/base",
            "_view_module_version": "1.2.0",
            "_view_name": "LayoutView",
            "align_content": null,
            "align_items": null,
            "align_self": null,
            "border": null,
            "bottom": null,
            "display": null,
            "flex": null,
            "flex_flow": null,
            "grid_area": null,
            "grid_auto_columns": null,
            "grid_auto_flow": null,
            "grid_auto_rows": null,
            "grid_column": null,
            "grid_gap": null,
            "grid_row": null,
            "grid_template_areas": null,
            "grid_template_columns": null,
            "grid_template_rows": null,
            "height": null,
            "justify_content": null,
            "justify_items": null,
            "left": null,
            "margin": null,
            "max_height": null,
            "max_width": null,
            "min_height": null,
            "min_width": null,
            "object_fit": null,
            "object_position": null,
            "order": null,
            "overflow": null,
            "overflow_x": null,
            "overflow_y": null,
            "padding": null,
            "right": null,
            "top": null,
            "visibility": null,
            "width": null
          }
        },
        "ef202553fa5e4c45841c665f237294ba": {
          "model_module": "@jupyter-widgets/controls",
          "model_name": "DescriptionStyleModel",
          "model_module_version": "1.5.0",
          "state": {
            "_model_module": "@jupyter-widgets/controls",
            "_model_module_version": "1.5.0",
            "_model_name": "DescriptionStyleModel",
            "_view_count": null,
            "_view_module": "@jupyter-widgets/base",
            "_view_module_version": "1.2.0",
            "_view_name": "StyleView",
            "description_width": ""
          }
        },
        "804fc30fa5ad4dbc8ca516f035258670": {
          "model_module": "@jupyter-widgets/base",
          "model_name": "LayoutModel",
          "model_module_version": "1.2.0",
          "state": {
            "_model_module": "@jupyter-widgets/base",
            "_model_module_version": "1.2.0",
            "_model_name": "LayoutModel",
            "_view_count": null,
            "_view_module": "@jupyter-widgets/base",
            "_view_module_version": "1.2.0",
            "_view_name": "LayoutView",
            "align_content": null,
            "align_items": null,
            "align_self": null,
            "border": null,
            "bottom": null,
            "display": null,
            "flex": null,
            "flex_flow": null,
            "grid_area": null,
            "grid_auto_columns": null,
            "grid_auto_flow": null,
            "grid_auto_rows": null,
            "grid_column": null,
            "grid_gap": null,
            "grid_row": null,
            "grid_template_areas": null,
            "grid_template_columns": null,
            "grid_template_rows": null,
            "height": null,
            "justify_content": null,
            "justify_items": null,
            "left": null,
            "margin": null,
            "max_height": null,
            "max_width": null,
            "min_height": null,
            "min_width": null,
            "object_fit": null,
            "object_position": null,
            "order": null,
            "overflow": null,
            "overflow_x": null,
            "overflow_y": null,
            "padding": null,
            "right": null,
            "top": null,
            "visibility": null,
            "width": null
          }
        },
        "988d4f91e1ab4e349fc81d1e00bd5d55": {
          "model_module": "@jupyter-widgets/controls",
          "model_name": "ProgressStyleModel",
          "model_module_version": "1.5.0",
          "state": {
            "_model_module": "@jupyter-widgets/controls",
            "_model_module_version": "1.5.0",
            "_model_name": "ProgressStyleModel",
            "_view_count": null,
            "_view_module": "@jupyter-widgets/base",
            "_view_module_version": "1.2.0",
            "_view_name": "StyleView",
            "bar_color": null,
            "description_width": ""
          }
        },
        "c19d4ea5a76d4dd9b12a59b67baa281a": {
          "model_module": "@jupyter-widgets/base",
          "model_name": "LayoutModel",
          "model_module_version": "1.2.0",
          "state": {
            "_model_module": "@jupyter-widgets/base",
            "_model_module_version": "1.2.0",
            "_model_name": "LayoutModel",
            "_view_count": null,
            "_view_module": "@jupyter-widgets/base",
            "_view_module_version": "1.2.0",
            "_view_name": "LayoutView",
            "align_content": null,
            "align_items": null,
            "align_self": null,
            "border": null,
            "bottom": null,
            "display": null,
            "flex": null,
            "flex_flow": null,
            "grid_area": null,
            "grid_auto_columns": null,
            "grid_auto_flow": null,
            "grid_auto_rows": null,
            "grid_column": null,
            "grid_gap": null,
            "grid_row": null,
            "grid_template_areas": null,
            "grid_template_columns": null,
            "grid_template_rows": null,
            "height": null,
            "justify_content": null,
            "justify_items": null,
            "left": null,
            "margin": null,
            "max_height": null,
            "max_width": null,
            "min_height": null,
            "min_width": null,
            "object_fit": null,
            "object_position": null,
            "order": null,
            "overflow": null,
            "overflow_x": null,
            "overflow_y": null,
            "padding": null,
            "right": null,
            "top": null,
            "visibility": null,
            "width": null
          }
        },
        "c55ee3284ab4404a93e7fad97ce24a1a": {
          "model_module": "@jupyter-widgets/controls",
          "model_name": "DescriptionStyleModel",
          "model_module_version": "1.5.0",
          "state": {
            "_model_module": "@jupyter-widgets/controls",
            "_model_module_version": "1.5.0",
            "_model_name": "DescriptionStyleModel",
            "_view_count": null,
            "_view_module": "@jupyter-widgets/base",
            "_view_module_version": "1.2.0",
            "_view_name": "StyleView",
            "description_width": ""
          }
        },
        "6ba537b64b4348b797f6b4d6585a7374": {
          "model_module": "@jupyter-widgets/controls",
          "model_name": "HBoxModel",
          "model_module_version": "1.5.0",
          "state": {
            "_dom_classes": [],
            "_model_module": "@jupyter-widgets/controls",
            "_model_module_version": "1.5.0",
            "_model_name": "HBoxModel",
            "_view_count": null,
            "_view_module": "@jupyter-widgets/controls",
            "_view_module_version": "1.5.0",
            "_view_name": "HBoxView",
            "box_style": "",
            "children": [
              "IPY_MODEL_5a7fd8101d2f45c8ada09c426faacf45",
              "IPY_MODEL_0cebb8536d7e4edb99f9ef2c6bacb129",
              "IPY_MODEL_2fcfeb9b16cc4c0bab876e87d3f0c9d0"
            ],
            "layout": "IPY_MODEL_f3395f398a234666abdc81fbe408de90"
          }
        },
        "5a7fd8101d2f45c8ada09c426faacf45": {
          "model_module": "@jupyter-widgets/controls",
          "model_name": "HTMLModel",
          "model_module_version": "1.5.0",
          "state": {
            "_dom_classes": [],
            "_model_module": "@jupyter-widgets/controls",
            "_model_module_version": "1.5.0",
            "_model_name": "HTMLModel",
            "_view_count": null,
            "_view_module": "@jupyter-widgets/controls",
            "_view_module_version": "1.5.0",
            "_view_name": "HTMLView",
            "description": "",
            "description_tooltip": null,
            "layout": "IPY_MODEL_ff9d14ae459e40d3a25786282b2f591e",
            "placeholder": "​",
            "style": "IPY_MODEL_afe0a773d125439798b6a4839ae6bff2",
            "value": "pytorch_model.bin: 100%"
          }
        },
        "0cebb8536d7e4edb99f9ef2c6bacb129": {
          "model_module": "@jupyter-widgets/controls",
          "model_name": "FloatProgressModel",
          "model_module_version": "1.5.0",
          "state": {
            "_dom_classes": [],
            "_model_module": "@jupyter-widgets/controls",
            "_model_module_version": "1.5.0",
            "_model_name": "FloatProgressModel",
            "_view_count": null,
            "_view_module": "@jupyter-widgets/controls",
            "_view_module_version": "1.5.0",
            "_view_name": "ProgressView",
            "bar_style": "success",
            "description": "",
            "description_tooltip": null,
            "layout": "IPY_MODEL_55a9fc3a878c44b78caffdf824ee1d65",
            "max": 438011953,
            "min": 0,
            "orientation": "horizontal",
            "style": "IPY_MODEL_c5d1c23cec584f84ab8ae4c7882d8253",
            "value": 438011953
          }
        },
        "2fcfeb9b16cc4c0bab876e87d3f0c9d0": {
          "model_module": "@jupyter-widgets/controls",
          "model_name": "HTMLModel",
          "model_module_version": "1.5.0",
          "state": {
            "_dom_classes": [],
            "_model_module": "@jupyter-widgets/controls",
            "_model_module_version": "1.5.0",
            "_model_name": "HTMLModel",
            "_view_count": null,
            "_view_module": "@jupyter-widgets/controls",
            "_view_module_version": "1.5.0",
            "_view_name": "HTMLView",
            "description": "",
            "description_tooltip": null,
            "layout": "IPY_MODEL_c7b8ec945fe54d76b7b6ad994297cba4",
            "placeholder": "​",
            "style": "IPY_MODEL_5c29a0e3b3cd4a199ca8d69bd72d2130",
            "value": " 438M/438M [00:01&lt;00:00, 222MB/s]"
          }
        },
        "f3395f398a234666abdc81fbe408de90": {
          "model_module": "@jupyter-widgets/base",
          "model_name": "LayoutModel",
          "model_module_version": "1.2.0",
          "state": {
            "_model_module": "@jupyter-widgets/base",
            "_model_module_version": "1.2.0",
            "_model_name": "LayoutModel",
            "_view_count": null,
            "_view_module": "@jupyter-widgets/base",
            "_view_module_version": "1.2.0",
            "_view_name": "LayoutView",
            "align_content": null,
            "align_items": null,
            "align_self": null,
            "border": null,
            "bottom": null,
            "display": null,
            "flex": null,
            "flex_flow": null,
            "grid_area": null,
            "grid_auto_columns": null,
            "grid_auto_flow": null,
            "grid_auto_rows": null,
            "grid_column": null,
            "grid_gap": null,
            "grid_row": null,
            "grid_template_areas": null,
            "grid_template_columns": null,
            "grid_template_rows": null,
            "height": null,
            "justify_content": null,
            "justify_items": null,
            "left": null,
            "margin": null,
            "max_height": null,
            "max_width": null,
            "min_height": null,
            "min_width": null,
            "object_fit": null,
            "object_position": null,
            "order": null,
            "overflow": null,
            "overflow_x": null,
            "overflow_y": null,
            "padding": null,
            "right": null,
            "top": null,
            "visibility": null,
            "width": null
          }
        },
        "ff9d14ae459e40d3a25786282b2f591e": {
          "model_module": "@jupyter-widgets/base",
          "model_name": "LayoutModel",
          "model_module_version": "1.2.0",
          "state": {
            "_model_module": "@jupyter-widgets/base",
            "_model_module_version": "1.2.0",
            "_model_name": "LayoutModel",
            "_view_count": null,
            "_view_module": "@jupyter-widgets/base",
            "_view_module_version": "1.2.0",
            "_view_name": "LayoutView",
            "align_content": null,
            "align_items": null,
            "align_self": null,
            "border": null,
            "bottom": null,
            "display": null,
            "flex": null,
            "flex_flow": null,
            "grid_area": null,
            "grid_auto_columns": null,
            "grid_auto_flow": null,
            "grid_auto_rows": null,
            "grid_column": null,
            "grid_gap": null,
            "grid_row": null,
            "grid_template_areas": null,
            "grid_template_columns": null,
            "grid_template_rows": null,
            "height": null,
            "justify_content": null,
            "justify_items": null,
            "left": null,
            "margin": null,
            "max_height": null,
            "max_width": null,
            "min_height": null,
            "min_width": null,
            "object_fit": null,
            "object_position": null,
            "order": null,
            "overflow": null,
            "overflow_x": null,
            "overflow_y": null,
            "padding": null,
            "right": null,
            "top": null,
            "visibility": null,
            "width": null
          }
        },
        "afe0a773d125439798b6a4839ae6bff2": {
          "model_module": "@jupyter-widgets/controls",
          "model_name": "DescriptionStyleModel",
          "model_module_version": "1.5.0",
          "state": {
            "_model_module": "@jupyter-widgets/controls",
            "_model_module_version": "1.5.0",
            "_model_name": "DescriptionStyleModel",
            "_view_count": null,
            "_view_module": "@jupyter-widgets/base",
            "_view_module_version": "1.2.0",
            "_view_name": "StyleView",
            "description_width": ""
          }
        },
        "55a9fc3a878c44b78caffdf824ee1d65": {
          "model_module": "@jupyter-widgets/base",
          "model_name": "LayoutModel",
          "model_module_version": "1.2.0",
          "state": {
            "_model_module": "@jupyter-widgets/base",
            "_model_module_version": "1.2.0",
            "_model_name": "LayoutModel",
            "_view_count": null,
            "_view_module": "@jupyter-widgets/base",
            "_view_module_version": "1.2.0",
            "_view_name": "LayoutView",
            "align_content": null,
            "align_items": null,
            "align_self": null,
            "border": null,
            "bottom": null,
            "display": null,
            "flex": null,
            "flex_flow": null,
            "grid_area": null,
            "grid_auto_columns": null,
            "grid_auto_flow": null,
            "grid_auto_rows": null,
            "grid_column": null,
            "grid_gap": null,
            "grid_row": null,
            "grid_template_areas": null,
            "grid_template_columns": null,
            "grid_template_rows": null,
            "height": null,
            "justify_content": null,
            "justify_items": null,
            "left": null,
            "margin": null,
            "max_height": null,
            "max_width": null,
            "min_height": null,
            "min_width": null,
            "object_fit": null,
            "object_position": null,
            "order": null,
            "overflow": null,
            "overflow_x": null,
            "overflow_y": null,
            "padding": null,
            "right": null,
            "top": null,
            "visibility": null,
            "width": null
          }
        },
        "c5d1c23cec584f84ab8ae4c7882d8253": {
          "model_module": "@jupyter-widgets/controls",
          "model_name": "ProgressStyleModel",
          "model_module_version": "1.5.0",
          "state": {
            "_model_module": "@jupyter-widgets/controls",
            "_model_module_version": "1.5.0",
            "_model_name": "ProgressStyleModel",
            "_view_count": null,
            "_view_module": "@jupyter-widgets/base",
            "_view_module_version": "1.2.0",
            "_view_name": "StyleView",
            "bar_color": null,
            "description_width": ""
          }
        },
        "c7b8ec945fe54d76b7b6ad994297cba4": {
          "model_module": "@jupyter-widgets/base",
          "model_name": "LayoutModel",
          "model_module_version": "1.2.0",
          "state": {
            "_model_module": "@jupyter-widgets/base",
            "_model_module_version": "1.2.0",
            "_model_name": "LayoutModel",
            "_view_count": null,
            "_view_module": "@jupyter-widgets/base",
            "_view_module_version": "1.2.0",
            "_view_name": "LayoutView",
            "align_content": null,
            "align_items": null,
            "align_self": null,
            "border": null,
            "bottom": null,
            "display": null,
            "flex": null,
            "flex_flow": null,
            "grid_area": null,
            "grid_auto_columns": null,
            "grid_auto_flow": null,
            "grid_auto_rows": null,
            "grid_column": null,
            "grid_gap": null,
            "grid_row": null,
            "grid_template_areas": null,
            "grid_template_columns": null,
            "grid_template_rows": null,
            "height": null,
            "justify_content": null,
            "justify_items": null,
            "left": null,
            "margin": null,
            "max_height": null,
            "max_width": null,
            "min_height": null,
            "min_width": null,
            "object_fit": null,
            "object_position": null,
            "order": null,
            "overflow": null,
            "overflow_x": null,
            "overflow_y": null,
            "padding": null,
            "right": null,
            "top": null,
            "visibility": null,
            "width": null
          }
        },
        "5c29a0e3b3cd4a199ca8d69bd72d2130": {
          "model_module": "@jupyter-widgets/controls",
          "model_name": "DescriptionStyleModel",
          "model_module_version": "1.5.0",
          "state": {
            "_model_module": "@jupyter-widgets/controls",
            "_model_module_version": "1.5.0",
            "_model_name": "DescriptionStyleModel",
            "_view_count": null,
            "_view_module": "@jupyter-widgets/base",
            "_view_module_version": "1.2.0",
            "_view_name": "StyleView",
            "description_width": ""
          }
        }
      }
    },
    "accelerator": "GPU"
  },
  "nbformat": 4,
  "nbformat_minor": 0
}