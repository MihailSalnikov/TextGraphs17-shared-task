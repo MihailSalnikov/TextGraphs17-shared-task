{
  "cells": [
    {
      "cell_type": "code",
      "execution_count": 1,
      "metadata": {
        "id": "pvr5WO3Dk3k7"
      },
      "outputs": [],
      "source": [
        "import pandas as pd\n",
        "from torch.utils.data import Dataset\n",
        "import torch\n",
        "import os\n",
        "import random\n",
        "import numpy as np\n",
        "from torch import nn\n",
        "from typing import Dict, Optional, Tuple, List\n",
        "from transformers import AutoTokenizer, AutoModel\n",
        "from torch.utils.data import Dataset, random_split\n",
        "import torch.optim as optim\n",
        "from tqdm import tqdm\n",
        "from sklearn.metrics import precision_score, f1_score, recall_score, classification_report"
      ]
    },
    {
      "cell_type": "code",
      "execution_count": 2,
      "metadata": {
        "id": "tATY-ohJqYuC"
      },
      "outputs": [],
      "source": [
        "SEED = 42\n",
        "\n",
        "torch.manual_seed(SEED)\n",
        "torch.random.manual_seed(SEED)\n",
        "os.environ['PYTHONHASHSEED'] = str(SEED)\n",
        "random.seed(SEED)\n",
        "np.random.seed(SEED)\n",
        "torch.cuda.random.manual_seed(SEED)\n",
        "torch.cuda.random.manual_seed_all(SEED)\n",
        "torch.backends.cudnn.deterministic = True"
      ]
    },
    {
      "cell_type": "code",
      "source": [
        "# from google.colab import drive\n",
        "# drive.mount('/content/drive')"
      ],
      "metadata": {
        "id": "NHSvAhT-JcIR"
      },
      "execution_count": 3,
      "outputs": []
    },
    {
      "cell_type": "code",
      "execution_count": 4,
      "metadata": {
        "id": "G3DBvzLkpxb9"
      },
      "outputs": [],
      "source": [
        "device = \"cuda\" if torch.cuda.is_available() else \"cpu\""
      ]
    },
    {
      "cell_type": "code",
      "source": [
        "!git clone https://github.com/uhh-lt/TextGraphs17-shared-task.git"
      ],
      "metadata": {
        "colab": {
          "base_uri": "https://localhost:8080/"
        },
        "id": "s3XTVchKHjRE",
        "outputId": "36ef3fee-7600-40ef-9f7c-c8a35b07a3b0"
      },
      "execution_count": 5,
      "outputs": [
        {
          "output_type": "stream",
          "name": "stdout",
          "text": [
            "Cloning into 'TextGraphs17-shared-task'...\n",
            "remote: Enumerating objects: 490, done.\u001b[K\n",
            "remote: Counting objects: 100% (10/10), done.\u001b[K\n",
            "remote: Compressing objects: 100% (7/7), done.\u001b[K\n",
            "remote: Total 490 (delta 4), reused 6 (delta 2), pack-reused 480\u001b[K\n",
            "Receiving objects: 100% (490/490), 36.83 MiB | 11.25 MiB/s, done.\n",
            "Resolving deltas: 100% (55/55), done.\n",
            "Updating files: 100% (328/328), done.\n"
          ]
        }
      ]
    },
    {
      "cell_type": "code",
      "source": [
        "!ls TextGraphs17-shared-task"
      ],
      "metadata": {
        "colab": {
          "base_uri": "https://localhost:8080/"
        },
        "id": "1Fv67LbbHkVl",
        "outputId": "3a1e7e9b-3de3-4715-9f37-03ce2e58a534"
      },
      "execution_count": 6,
      "outputs": [
        {
          "output_type": "stream",
          "name": "stdout",
          "text": [
            "baselines  data  evaluation  question_graph_examples  README.md  reformat_data\tvisualization\n"
          ]
        }
      ]
    },
    {
      "cell_type": "code",
      "source": [],
      "metadata": {
        "id": "EDbHhQWcd6RJ"
      },
      "execution_count": 6,
      "outputs": []
    },
    {
      "cell_type": "code",
      "execution_count": 66,
      "metadata": {
        "id": "-8SEn7sx5qn4"
      },
      "outputs": [],
      "source": [
        "train_dev_path = \"TextGraphs17-shared-task/data/tsv/train.tsv\"\n",
        "test_path = \"TextGraphs17-shared-task/data/tsv/test.tsv\"\n",
        "\n",
        "train_dev_df = pd.read_csv(train_dev_path, sep='\\t')\n",
        "test_df = pd.read_csv(test_path, sep='\\t')"
      ]
    },
    {
      "cell_type": "code",
      "source": [],
      "metadata": {
        "id": "H7d1Iwk0bi9E"
      },
      "execution_count": 66,
      "outputs": []
    },
    {
      "cell_type": "code",
      "source": [
        "train_dev_questions = list(train_dev_df[\"question\"].unique())\n",
        "test_questions = list(test_df[\"question\"].unique())\n",
        "num_train_dev_questions = len(train_dev_questions)\n",
        "random.shuffle(train_dev_questions)"
      ],
      "metadata": {
        "id": "ChpkDo0DILq-"
      },
      "execution_count": 67,
      "outputs": []
    },
    {
      "cell_type": "markdown",
      "source": [
        "### Splitting train into train/dev"
      ],
      "metadata": {
        "id": "zy04aCsungVN"
      }
    },
    {
      "cell_type": "code",
      "source": [
        "train_ratio = 0.9\n",
        "\n",
        "num_train_questions = int(num_train_dev_questions * train_ratio)\n",
        "train_questions = set(train_dev_questions[:num_train_questions])\n",
        "dev_questions = set(train_dev_questions[num_train_questions:])\n",
        "\n",
        "print(f\"Questions: train - {len(train_questions)}, dev - {len(dev_questions)}, test - {len(test_questions)}\")"
      ],
      "metadata": {
        "colab": {
          "base_uri": "https://localhost:8080/"
        },
        "id": "LxOT3ndTIKOi",
        "outputId": "46e69689-c688-4b43-a3bd-c251df00d706"
      },
      "execution_count": 68,
      "outputs": [
        {
          "output_type": "stream",
          "name": "stdout",
          "text": [
            "Questions: train - 3181, dev - 354, test - 1000\n"
          ]
        }
      ]
    },
    {
      "cell_type": "code",
      "source": [
        "train_df = train_dev_df[train_dev_df[\"question\"].isin(train_questions)]\n",
        "dev_df = train_dev_df[train_dev_df[\"question\"].isin(dev_questions)]\n",
        "\n",
        "\n",
        "print(f\"Train: {train_df.shape}\")\n",
        "print(f\"Dev: {dev_df.shape}\")\n",
        "print(f\"Test: {test_df.shape}\")"
      ],
      "metadata": {
        "colab": {
          "base_uri": "https://localhost:8080/"
        },
        "id": "PS8JE3QiIKQy",
        "outputId": "3bcf1e44-52d2-4f42-e77a-5b103997b894"
      },
      "execution_count": 69,
      "outputs": [
        {
          "output_type": "stream",
          "name": "stdout",
          "text": [
            "Train: (33900, 10)\n",
            "Dev: (3772, 10)\n",
            "Test: (10961, 7)\n"
          ]
        }
      ]
    },
    {
      "cell_type": "code",
      "execution_count": 70,
      "metadata": {
        "colab": {
          "base_uri": "https://localhost:8080/",
          "height": 69
        },
        "id": "L67B30o_XJmZ",
        "outputId": "c847eb61-2132-4210-ecb7-6a09b958e6f8"
      },
      "outputs": [
        {
          "output_type": "execute_result",
          "data": {
            "text/plain": [
              "'{\\'nodes\\': [{\\'type\\': \\'QUESTIONS_ENTITY\\', \\'name_\\': \\'Q794\\', \\'id\\': 0, \\'label\\': \\'Iran\\'}, {\\'type\\': \\'INTERNAL\\', \\'name_\\': \\'Q207991\\', \\'id\\': 1, \\'label\\': \\'Pahlavi dynasty\\'}, {\\'type\\': \\'ANSWER_CANDIDATE_ENTITY\\', \\'name_\\': \\'Q7293530\\', \\'id\\': 2, \\'label\\': \"Ruhollah Khomeini\\'s return to Iran\"}], \\'links\\': [{\\'name_\\': \\'P17\\', \\'source\\': 0, \\'target\\': 0, \\'label\\': \\'country\\'}, {\\'name_\\': \\'P1365\\', \\'source\\': 0, \\'target\\': 1, \\'label\\': \\'replaces\\'}, {\\'name_\\': \\'P1366\\', \\'source\\': 1, \\'target\\': 0, \\'label\\': \\'replaced by\\'}, {\\'name_\\': \\'P17\\', \\'source\\': 2, \\'target\\': 1, \\'label\\': \\'country\\'}]}'"
            ],
            "application/vnd.google.colaboratory.intrinsic+json": {
              "type": "string"
            }
          },
          "metadata": {},
          "execution_count": 70
        }
      ],
      "source": [
        "train_df.loc[0, \"graph\"]"
      ]
    },
    {
      "cell_type": "code",
      "execution_count": 71,
      "metadata": {
        "colab": {
          "base_uri": "https://localhost:8080/",
          "height": 206
        },
        "id": "f8Uk3FNGk5G-",
        "outputId": "9d715db4-28cc-44cb-9ae8-90ffe7d1f93d"
      },
      "outputs": [
        {
          "output_type": "execute_result",
          "data": {
            "text/plain": [
              "   sample_id                                           question  \\\n",
              "0          0  Whst is the name of the head of state and high...   \n",
              "1          1  Whst is the name of the head of state and high...   \n",
              "2          2  Whst is the name of the head of state and high...   \n",
              "3          3  Whst is the name of the head of state and high...   \n",
              "4          4  Whst is the name of the head of state and high...   \n",
              "\n",
              "  questionEntity                                     answerEntity  \\\n",
              "0           Iran               Ruhollah Khomeini's return to Iran   \n",
              "1           Iran  Ruhollah Khomeini's letter to Mikhail Gorbachev   \n",
              "2           Iran                                Ruhollah Khomeini   \n",
              "3           Iran             Office of the Supreme Leader of Iran   \n",
              "4           Iran                 Mohammad Reza Pahlavi and Soraya   \n",
              "\n",
              "                groundTruthAnswerEntity answerEntityId questionEntityId  \\\n",
              "0  Office of the Supreme Leader of Iran       Q7293530             Q794   \n",
              "1  Office of the Supreme Leader of Iran       Q5952984             Q794   \n",
              "2  Office of the Supreme Leader of Iran         Q38823             Q794   \n",
              "3  Office of the Supreme Leader of Iran      Q16045000             Q794   \n",
              "4  Office of the Supreme Leader of Iran      Q63195813             Q794   \n",
              "\n",
              "  groundTruthAnswerEntityId  correct  \\\n",
              "0                 Q16045000    False   \n",
              "1                 Q16045000    False   \n",
              "2                 Q16045000    False   \n",
              "3                 Q16045000     True   \n",
              "4                 Q16045000    False   \n",
              "\n",
              "                                               graph  \n",
              "0  {'nodes': [{'type': 'QUESTIONS_ENTITY', 'name_...  \n",
              "1  {'nodes': [{'type': 'INTERNAL', 'name_': 'Q417...  \n",
              "2  {'nodes': [{'type': 'QUESTIONS_ENTITY', 'name_...  \n",
              "3  {'nodes': [{'type': 'QUESTIONS_ENTITY', 'name_...  \n",
              "4  {'nodes': [{'type': 'QUESTIONS_ENTITY', 'name_...  "
            ],
            "text/html": [
              "\n",
              "  <div id=\"df-9dd4c204-f2cc-4fae-a2cc-3374656ba3cf\" class=\"colab-df-container\">\n",
              "    <div>\n",
              "<style scoped>\n",
              "    .dataframe tbody tr th:only-of-type {\n",
              "        vertical-align: middle;\n",
              "    }\n",
              "\n",
              "    .dataframe tbody tr th {\n",
              "        vertical-align: top;\n",
              "    }\n",
              "\n",
              "    .dataframe thead th {\n",
              "        text-align: right;\n",
              "    }\n",
              "</style>\n",
              "<table border=\"1\" class=\"dataframe\">\n",
              "  <thead>\n",
              "    <tr style=\"text-align: right;\">\n",
              "      <th></th>\n",
              "      <th>sample_id</th>\n",
              "      <th>question</th>\n",
              "      <th>questionEntity</th>\n",
              "      <th>answerEntity</th>\n",
              "      <th>groundTruthAnswerEntity</th>\n",
              "      <th>answerEntityId</th>\n",
              "      <th>questionEntityId</th>\n",
              "      <th>groundTruthAnswerEntityId</th>\n",
              "      <th>correct</th>\n",
              "      <th>graph</th>\n",
              "    </tr>\n",
              "  </thead>\n",
              "  <tbody>\n",
              "    <tr>\n",
              "      <th>0</th>\n",
              "      <td>0</td>\n",
              "      <td>Whst is the name of the head of state and high...</td>\n",
              "      <td>Iran</td>\n",
              "      <td>Ruhollah Khomeini's return to Iran</td>\n",
              "      <td>Office of the Supreme Leader of Iran</td>\n",
              "      <td>Q7293530</td>\n",
              "      <td>Q794</td>\n",
              "      <td>Q16045000</td>\n",
              "      <td>False</td>\n",
              "      <td>{'nodes': [{'type': 'QUESTIONS_ENTITY', 'name_...</td>\n",
              "    </tr>\n",
              "    <tr>\n",
              "      <th>1</th>\n",
              "      <td>1</td>\n",
              "      <td>Whst is the name of the head of state and high...</td>\n",
              "      <td>Iran</td>\n",
              "      <td>Ruhollah Khomeini's letter to Mikhail Gorbachev</td>\n",
              "      <td>Office of the Supreme Leader of Iran</td>\n",
              "      <td>Q5952984</td>\n",
              "      <td>Q794</td>\n",
              "      <td>Q16045000</td>\n",
              "      <td>False</td>\n",
              "      <td>{'nodes': [{'type': 'INTERNAL', 'name_': 'Q417...</td>\n",
              "    </tr>\n",
              "    <tr>\n",
              "      <th>2</th>\n",
              "      <td>2</td>\n",
              "      <td>Whst is the name of the head of state and high...</td>\n",
              "      <td>Iran</td>\n",
              "      <td>Ruhollah Khomeini</td>\n",
              "      <td>Office of the Supreme Leader of Iran</td>\n",
              "      <td>Q38823</td>\n",
              "      <td>Q794</td>\n",
              "      <td>Q16045000</td>\n",
              "      <td>False</td>\n",
              "      <td>{'nodes': [{'type': 'QUESTIONS_ENTITY', 'name_...</td>\n",
              "    </tr>\n",
              "    <tr>\n",
              "      <th>3</th>\n",
              "      <td>3</td>\n",
              "      <td>Whst is the name of the head of state and high...</td>\n",
              "      <td>Iran</td>\n",
              "      <td>Office of the Supreme Leader of Iran</td>\n",
              "      <td>Office of the Supreme Leader of Iran</td>\n",
              "      <td>Q16045000</td>\n",
              "      <td>Q794</td>\n",
              "      <td>Q16045000</td>\n",
              "      <td>True</td>\n",
              "      <td>{'nodes': [{'type': 'QUESTIONS_ENTITY', 'name_...</td>\n",
              "    </tr>\n",
              "    <tr>\n",
              "      <th>4</th>\n",
              "      <td>4</td>\n",
              "      <td>Whst is the name of the head of state and high...</td>\n",
              "      <td>Iran</td>\n",
              "      <td>Mohammad Reza Pahlavi and Soraya</td>\n",
              "      <td>Office of the Supreme Leader of Iran</td>\n",
              "      <td>Q63195813</td>\n",
              "      <td>Q794</td>\n",
              "      <td>Q16045000</td>\n",
              "      <td>False</td>\n",
              "      <td>{'nodes': [{'type': 'QUESTIONS_ENTITY', 'name_...</td>\n",
              "    </tr>\n",
              "  </tbody>\n",
              "</table>\n",
              "</div>\n",
              "    <div class=\"colab-df-buttons\">\n",
              "\n",
              "  <div class=\"colab-df-container\">\n",
              "    <button class=\"colab-df-convert\" onclick=\"convertToInteractive('df-9dd4c204-f2cc-4fae-a2cc-3374656ba3cf')\"\n",
              "            title=\"Convert this dataframe to an interactive table.\"\n",
              "            style=\"display:none;\">\n",
              "\n",
              "  <svg xmlns=\"http://www.w3.org/2000/svg\" height=\"24px\" viewBox=\"0 -960 960 960\">\n",
              "    <path d=\"M120-120v-720h720v720H120Zm60-500h600v-160H180v160Zm220 220h160v-160H400v160Zm0 220h160v-160H400v160ZM180-400h160v-160H180v160Zm440 0h160v-160H620v160ZM180-180h160v-160H180v160Zm440 0h160v-160H620v160Z\"/>\n",
              "  </svg>\n",
              "    </button>\n",
              "\n",
              "  <style>\n",
              "    .colab-df-container {\n",
              "      display:flex;\n",
              "      gap: 12px;\n",
              "    }\n",
              "\n",
              "    .colab-df-convert {\n",
              "      background-color: #E8F0FE;\n",
              "      border: none;\n",
              "      border-radius: 50%;\n",
              "      cursor: pointer;\n",
              "      display: none;\n",
              "      fill: #1967D2;\n",
              "      height: 32px;\n",
              "      padding: 0 0 0 0;\n",
              "      width: 32px;\n",
              "    }\n",
              "\n",
              "    .colab-df-convert:hover {\n",
              "      background-color: #E2EBFA;\n",
              "      box-shadow: 0px 1px 2px rgba(60, 64, 67, 0.3), 0px 1px 3px 1px rgba(60, 64, 67, 0.15);\n",
              "      fill: #174EA6;\n",
              "    }\n",
              "\n",
              "    .colab-df-buttons div {\n",
              "      margin-bottom: 4px;\n",
              "    }\n",
              "\n",
              "    [theme=dark] .colab-df-convert {\n",
              "      background-color: #3B4455;\n",
              "      fill: #D2E3FC;\n",
              "    }\n",
              "\n",
              "    [theme=dark] .colab-df-convert:hover {\n",
              "      background-color: #434B5C;\n",
              "      box-shadow: 0px 1px 3px 1px rgba(0, 0, 0, 0.15);\n",
              "      filter: drop-shadow(0px 1px 2px rgba(0, 0, 0, 0.3));\n",
              "      fill: #FFFFFF;\n",
              "    }\n",
              "  </style>\n",
              "\n",
              "    <script>\n",
              "      const buttonEl =\n",
              "        document.querySelector('#df-9dd4c204-f2cc-4fae-a2cc-3374656ba3cf button.colab-df-convert');\n",
              "      buttonEl.style.display =\n",
              "        google.colab.kernel.accessAllowed ? 'block' : 'none';\n",
              "\n",
              "      async function convertToInteractive(key) {\n",
              "        const element = document.querySelector('#df-9dd4c204-f2cc-4fae-a2cc-3374656ba3cf');\n",
              "        const dataTable =\n",
              "          await google.colab.kernel.invokeFunction('convertToInteractive',\n",
              "                                                    [key], {});\n",
              "        if (!dataTable) return;\n",
              "\n",
              "        const docLinkHtml = 'Like what you see? Visit the ' +\n",
              "          '<a target=\"_blank\" href=https://colab.research.google.com/notebooks/data_table.ipynb>data table notebook</a>'\n",
              "          + ' to learn more about interactive tables.';\n",
              "        element.innerHTML = '';\n",
              "        dataTable['output_type'] = 'display_data';\n",
              "        await google.colab.output.renderOutput(dataTable, element);\n",
              "        const docLink = document.createElement('div');\n",
              "        docLink.innerHTML = docLinkHtml;\n",
              "        element.appendChild(docLink);\n",
              "      }\n",
              "    </script>\n",
              "  </div>\n",
              "\n",
              "\n",
              "<div id=\"df-5b01a193-0180-4245-afce-cf960d4abab8\">\n",
              "  <button class=\"colab-df-quickchart\" onclick=\"quickchart('df-5b01a193-0180-4245-afce-cf960d4abab8')\"\n",
              "            title=\"Suggest charts\"\n",
              "            style=\"display:none;\">\n",
              "\n",
              "<svg xmlns=\"http://www.w3.org/2000/svg\" height=\"24px\"viewBox=\"0 0 24 24\"\n",
              "     width=\"24px\">\n",
              "    <g>\n",
              "        <path d=\"M19 3H5c-1.1 0-2 .9-2 2v14c0 1.1.9 2 2 2h14c1.1 0 2-.9 2-2V5c0-1.1-.9-2-2-2zM9 17H7v-7h2v7zm4 0h-2V7h2v10zm4 0h-2v-4h2v4z\"/>\n",
              "    </g>\n",
              "</svg>\n",
              "  </button>\n",
              "\n",
              "<style>\n",
              "  .colab-df-quickchart {\n",
              "      --bg-color: #E8F0FE;\n",
              "      --fill-color: #1967D2;\n",
              "      --hover-bg-color: #E2EBFA;\n",
              "      --hover-fill-color: #174EA6;\n",
              "      --disabled-fill-color: #AAA;\n",
              "      --disabled-bg-color: #DDD;\n",
              "  }\n",
              "\n",
              "  [theme=dark] .colab-df-quickchart {\n",
              "      --bg-color: #3B4455;\n",
              "      --fill-color: #D2E3FC;\n",
              "      --hover-bg-color: #434B5C;\n",
              "      --hover-fill-color: #FFFFFF;\n",
              "      --disabled-bg-color: #3B4455;\n",
              "      --disabled-fill-color: #666;\n",
              "  }\n",
              "\n",
              "  .colab-df-quickchart {\n",
              "    background-color: var(--bg-color);\n",
              "    border: none;\n",
              "    border-radius: 50%;\n",
              "    cursor: pointer;\n",
              "    display: none;\n",
              "    fill: var(--fill-color);\n",
              "    height: 32px;\n",
              "    padding: 0;\n",
              "    width: 32px;\n",
              "  }\n",
              "\n",
              "  .colab-df-quickchart:hover {\n",
              "    background-color: var(--hover-bg-color);\n",
              "    box-shadow: 0 1px 2px rgba(60, 64, 67, 0.3), 0 1px 3px 1px rgba(60, 64, 67, 0.15);\n",
              "    fill: var(--button-hover-fill-color);\n",
              "  }\n",
              "\n",
              "  .colab-df-quickchart-complete:disabled,\n",
              "  .colab-df-quickchart-complete:disabled:hover {\n",
              "    background-color: var(--disabled-bg-color);\n",
              "    fill: var(--disabled-fill-color);\n",
              "    box-shadow: none;\n",
              "  }\n",
              "\n",
              "  .colab-df-spinner {\n",
              "    border: 2px solid var(--fill-color);\n",
              "    border-color: transparent;\n",
              "    border-bottom-color: var(--fill-color);\n",
              "    animation:\n",
              "      spin 1s steps(1) infinite;\n",
              "  }\n",
              "\n",
              "  @keyframes spin {\n",
              "    0% {\n",
              "      border-color: transparent;\n",
              "      border-bottom-color: var(--fill-color);\n",
              "      border-left-color: var(--fill-color);\n",
              "    }\n",
              "    20% {\n",
              "      border-color: transparent;\n",
              "      border-left-color: var(--fill-color);\n",
              "      border-top-color: var(--fill-color);\n",
              "    }\n",
              "    30% {\n",
              "      border-color: transparent;\n",
              "      border-left-color: var(--fill-color);\n",
              "      border-top-color: var(--fill-color);\n",
              "      border-right-color: var(--fill-color);\n",
              "    }\n",
              "    40% {\n",
              "      border-color: transparent;\n",
              "      border-right-color: var(--fill-color);\n",
              "      border-top-color: var(--fill-color);\n",
              "    }\n",
              "    60% {\n",
              "      border-color: transparent;\n",
              "      border-right-color: var(--fill-color);\n",
              "    }\n",
              "    80% {\n",
              "      border-color: transparent;\n",
              "      border-right-color: var(--fill-color);\n",
              "      border-bottom-color: var(--fill-color);\n",
              "    }\n",
              "    90% {\n",
              "      border-color: transparent;\n",
              "      border-bottom-color: var(--fill-color);\n",
              "    }\n",
              "  }\n",
              "</style>\n",
              "\n",
              "  <script>\n",
              "    async function quickchart(key) {\n",
              "      const quickchartButtonEl =\n",
              "        document.querySelector('#' + key + ' button');\n",
              "      quickchartButtonEl.disabled = true;  // To prevent multiple clicks.\n",
              "      quickchartButtonEl.classList.add('colab-df-spinner');\n",
              "      try {\n",
              "        const charts = await google.colab.kernel.invokeFunction(\n",
              "            'suggestCharts', [key], {});\n",
              "      } catch (error) {\n",
              "        console.error('Error during call to suggestCharts:', error);\n",
              "      }\n",
              "      quickchartButtonEl.classList.remove('colab-df-spinner');\n",
              "      quickchartButtonEl.classList.add('colab-df-quickchart-complete');\n",
              "    }\n",
              "    (() => {\n",
              "      let quickchartButtonEl =\n",
              "        document.querySelector('#df-5b01a193-0180-4245-afce-cf960d4abab8 button');\n",
              "      quickchartButtonEl.style.display =\n",
              "        google.colab.kernel.accessAllowed ? 'block' : 'none';\n",
              "    })();\n",
              "  </script>\n",
              "</div>\n",
              "    </div>\n",
              "  </div>\n"
            ],
            "application/vnd.google.colaboratory.intrinsic+json": {
              "type": "dataframe",
              "variable_name": "train_df",
              "summary": "{\n  \"name\": \"train_df\",\n  \"rows\": 33900,\n  \"fields\": [\n    {\n      \"column\": \"sample_id\",\n      \"properties\": {\n        \"dtype\": \"number\",\n        \"std\": 10860,\n        \"min\": 0,\n        \"max\": 37671,\n        \"num_unique_values\": 33900,\n        \"samples\": [\n          30953,\n          16265,\n          6447\n        ],\n        \"semantic_type\": \"\",\n        \"description\": \"\"\n      }\n    },\n    {\n      \"column\": \"question\",\n      \"properties\": {\n        \"dtype\": \"category\",\n        \"num_unique_values\": 3181,\n        \"samples\": [\n          \"Which son of Princess Diana didn't marry a British Citizen?\",\n          \"Which country has competed the most times in the Summer Olympics yet hasn't won any kind of medal?\",\n          \"Who has won more Masters Tournaments, Tiger Woods or Jack Nicklaus?\"\n        ],\n        \"semantic_type\": \"\",\n        \"description\": \"\"\n      }\n    },\n    {\n      \"column\": \"questionEntity\",\n      \"properties\": {\n        \"dtype\": \"category\",\n        \"num_unique_values\": 2171,\n        \"samples\": [\n          \"Ebenezer Scrooge\",\n          \"Fear and Loathing in Las Vegas, Las Vegas, Oscar Zeta Acosta\",\n          \"Star Wars, Darth Vader\"\n        ],\n        \"semantic_type\": \"\",\n        \"description\": \"\"\n      }\n    },\n    {\n      \"column\": \"answerEntity\",\n      \"properties\": {\n        \"dtype\": \"category\",\n        \"num_unique_values\": 13917,\n        \"samples\": [\n          \"Heath Ledger: His Beautiful Life and Mysterious Death\",\n          \"Ho Chi Minh\",\n          \"Call of Duty: Black Ops 4\"\n        ],\n        \"semantic_type\": \"\",\n        \"description\": \"\"\n      }\n    },\n    {\n      \"column\": \"groundTruthAnswerEntity\",\n      \"properties\": {\n        \"dtype\": \"category\",\n        \"num_unique_values\": 2208,\n        \"samples\": [\n          \"Carrie\",\n          \"University of San Diego\",\n          \"Call of Duty: Black Ops 4\"\n        ],\n        \"semantic_type\": \"\",\n        \"description\": \"\"\n      }\n    },\n    {\n      \"column\": \"answerEntityId\",\n      \"properties\": {\n        \"dtype\": \"category\",\n        \"num_unique_values\": 15581,\n        \"samples\": [\n          \"Q83169331\",\n          \"Q4055129\",\n          \"Q87648673\"\n        ],\n        \"semantic_type\": \"\",\n        \"description\": \"\"\n      }\n    },\n    {\n      \"column\": \"questionEntityId\",\n      \"properties\": {\n        \"dtype\": \"category\",\n        \"num_unique_values\": 2191,\n        \"samples\": [\n          \"Q32096, Q1215884\",\n          \"Q48537\",\n          \"Q650840\"\n        ],\n        \"semantic_type\": \"\",\n        \"description\": \"\"\n      }\n    },\n    {\n      \"column\": \"groundTruthAnswerEntityId\",\n      \"properties\": {\n        \"dtype\": \"category\",\n        \"num_unique_values\": 2228,\n        \"samples\": [\n          \"Q318892\",\n          \"Q864918\",\n          \"Q65090738\"\n        ],\n        \"semantic_type\": \"\",\n        \"description\": \"\"\n      }\n    },\n    {\n      \"column\": \"correct\",\n      \"properties\": {\n        \"dtype\": \"boolean\",\n        \"num_unique_values\": 2,\n        \"samples\": [\n          true,\n          false\n        ],\n        \"semantic_type\": \"\",\n        \"description\": \"\"\n      }\n    },\n    {\n      \"column\": \"graph\",\n      \"properties\": {\n        \"dtype\": \"string\",\n        \"num_unique_values\": 29642,\n        \"samples\": [\n          \"{'nodes': [{'type': 'INTERNAL', 'name_': 'Q30', 'id': 0, 'label': 'United States'}, {'type': 'QUESTIONS_ENTITY', 'name_': 'Q1141795', 'id': 1, 'label': 'Kentucky Derby'}, {'type': 'ANSWER_CANDIDATE_ENTITY', 'name_': 'Q5336358', 'id': 2, 'label': \\\"Eddie O'Brien\\\"}], 'links': [{'name_': 'P17', 'source': 0, 'target': 0, 'label': 'country'}, {'name_': 'P17', 'source': 1, 'target': 0, 'label': 'country'}, {'name_': 'P27', 'source': 2, 'target': 0, 'label': 'country of citizenship'}]}\",\n          \"{'nodes': [{'type': 'QUESTIONS_ENTITY', 'name_': 'Q8093', 'id': 0, 'label': 'Nintendo'}, {'type': 'QUESTIONS_ENTITY', 'name_': 'Q188196', 'id': 1, 'label': 'Mario Kart'}, {'type': 'ANSWER_CANDIDATE_ENTITY', 'name_': 'Q637178', 'id': 2, 'label': 'Nintendo DSi'}], 'links': [{'name_': 'P123', 'source': 1, 'target': 0, 'label': 'publisher'}, {'name_': 'P178', 'source': 2, 'target': 0, 'label': 'developer'}]}\"\n        ],\n        \"semantic_type\": \"\",\n        \"description\": \"\"\n      }\n    }\n  ]\n}"
            }
          },
          "metadata": {},
          "execution_count": 71
        }
      ],
      "source": [
        "train_df.head()"
      ]
    },
    {
      "cell_type": "code",
      "execution_count": 72,
      "metadata": {
        "colab": {
          "base_uri": "https://localhost:8080/"
        },
        "id": "Fot9tDahnA6I",
        "outputId": "795dc033-2340-4156-d98f-aed01b4dc701"
      },
      "outputs": [
        {
          "output_type": "stream",
          "name": "stderr",
          "text": [
            "<ipython-input-72-f47deaeca3f5>:1: SettingWithCopyWarning: \n",
            "A value is trying to be set on a copy of a slice from a DataFrame.\n",
            "Try using .loc[row_indexer,col_indexer] = value instead\n",
            "\n",
            "See the caveats in the documentation: https://pandas.pydata.org/pandas-docs/stable/user_guide/indexing.html#returning-a-view-versus-a-copy\n",
            "  train_df[\"label\"] = train_df[\"correct\"].astype(np.float32)\n",
            "<ipython-input-72-f47deaeca3f5>:2: SettingWithCopyWarning: \n",
            "A value is trying to be set on a copy of a slice from a DataFrame.\n",
            "Try using .loc[row_indexer,col_indexer] = value instead\n",
            "\n",
            "See the caveats in the documentation: https://pandas.pydata.org/pandas-docs/stable/user_guide/indexing.html#returning-a-view-versus-a-copy\n",
            "  dev_df[\"label\"] = dev_df[\"correct\"].astype(np.float32)\n"
          ]
        },
        {
          "output_type": "execute_result",
          "data": {
            "text/plain": [
              "0    0.0\n",
              "1    0.0\n",
              "2    0.0\n",
              "3    1.0\n",
              "4    0.0\n",
              "Name: label, dtype: float32"
            ]
          },
          "metadata": {},
          "execution_count": 72
        }
      ],
      "source": [
        "train_df[\"label\"] = train_df[\"correct\"].astype(np.float32)\n",
        "dev_df[\"label\"] = dev_df[\"correct\"].astype(np.float32)\n",
        "test_df[\"label\"] = np.zeros(shape=test_df.shape[0], dtype=np.float32)\n",
        "train_df[\"label\"].head(5)"
      ]
    },
    {
      "cell_type": "code",
      "execution_count": 73,
      "metadata": {
        "id": "FPlwivhunSxF",
        "colab": {
          "base_uri": "https://localhost:8080/"
        },
        "outputId": "1e06cd52-2fa8-4e93-f072-a611c62848d3"
      },
      "outputs": [
        {
          "output_type": "stream",
          "name": "stderr",
          "text": [
            "<ipython-input-73-3a975c0f4542>:1: SettingWithCopyWarning: \n",
            "A value is trying to be set on a copy of a slice from a DataFrame.\n",
            "Try using .loc[row_indexer,col_indexer] = value instead\n",
            "\n",
            "See the caveats in the documentation: https://pandas.pydata.org/pandas-docs/stable/user_guide/indexing.html#returning-a-view-versus-a-copy\n",
            "  train_df[\"graph\"] = train_df[\"graph\"].apply(eval)\n",
            "<ipython-input-73-3a975c0f4542>:2: SettingWithCopyWarning: \n",
            "A value is trying to be set on a copy of a slice from a DataFrame.\n",
            "Try using .loc[row_indexer,col_indexer] = value instead\n",
            "\n",
            "See the caveats in the documentation: https://pandas.pydata.org/pandas-docs/stable/user_guide/indexing.html#returning-a-view-versus-a-copy\n",
            "  dev_df[\"graph\"] = dev_df[\"graph\"].apply(eval)\n"
          ]
        }
      ],
      "source": [
        "train_df[\"graph\"] = train_df[\"graph\"].apply(eval)\n",
        "dev_df[\"graph\"] = dev_df[\"graph\"].apply(eval)\n",
        "test_df[\"graph\"] = test_df[\"graph\"].apply(eval)"
      ]
    },
    {
      "cell_type": "code",
      "source": [
        "train_df.loc[0, \"graph\"]"
      ],
      "metadata": {
        "id": "gksMsUxa0e0W",
        "colab": {
          "base_uri": "https://localhost:8080/"
        },
        "outputId": "eec21c49-573e-464c-b405-d200f1b7e7f4"
      },
      "execution_count": 74,
      "outputs": [
        {
          "output_type": "execute_result",
          "data": {
            "text/plain": [
              "{'nodes': [{'type': 'QUESTIONS_ENTITY',\n",
              "   'name_': 'Q794',\n",
              "   'id': 0,\n",
              "   'label': 'Iran'},\n",
              "  {'type': 'INTERNAL',\n",
              "   'name_': 'Q207991',\n",
              "   'id': 1,\n",
              "   'label': 'Pahlavi dynasty'},\n",
              "  {'type': 'ANSWER_CANDIDATE_ENTITY',\n",
              "   'name_': 'Q7293530',\n",
              "   'id': 2,\n",
              "   'label': \"Ruhollah Khomeini's return to Iran\"}],\n",
              " 'links': [{'name_': 'P17', 'source': 0, 'target': 0, 'label': 'country'},\n",
              "  {'name_': 'P1365', 'source': 0, 'target': 1, 'label': 'replaces'},\n",
              "  {'name_': 'P1366', 'source': 1, 'target': 0, 'label': 'replaced by'},\n",
              "  {'name_': 'P17', 'source': 2, 'target': 1, 'label': 'country'}]}"
            ]
          },
          "metadata": {},
          "execution_count": 74
        }
      ]
    },
    {
      "cell_type": "code",
      "execution_count": 75,
      "metadata": {
        "colab": {
          "base_uri": "https://localhost:8080/",
          "height": 363
        },
        "id": "qttF4jcml2mo",
        "outputId": "de92d1c4-1059-42c5-f92f-b5c61206d4d8"
      },
      "outputs": [
        {
          "output_type": "execute_result",
          "data": {
            "text/plain": [
              "                                            question  \\\n",
              "0  Whst is the name of the head of state and high...   \n",
              "1  Whst is the name of the head of state and high...   \n",
              "2  Whst is the name of the head of state and high...   \n",
              "3  Whst is the name of the head of state and high...   \n",
              "4  Whst is the name of the head of state and high...   \n",
              "5  Whst is the name of the head of state and high...   \n",
              "6  Whst is the name of the head of state and high...   \n",
              "7  Whst is the name of the head of state and high...   \n",
              "8  Whst is the name of the head of state and high...   \n",
              "9  Whst is the name of the head of state and high...   \n",
              "\n",
              "                                        answerEntity  \\\n",
              "0                 Ruhollah Khomeini's return to Iran   \n",
              "1    Ruhollah Khomeini's letter to Mikhail Gorbachev   \n",
              "2                                  Ruhollah Khomeini   \n",
              "3               Office of the Supreme Leader of Iran   \n",
              "4                   Mohammad Reza Pahlavi and Soraya   \n",
              "5                                Mahmoud Ahmadinejad   \n",
              "6                                     Hassan Rouhani   \n",
              "7    Ayatollah Khamenei's Foreign Policy Orientation   \n",
              "8  Ayatollah Ali Khamenei speaks about Iranian pr...   \n",
              "9                          Ali Khamenei bibliography   \n",
              "\n",
              "                groundTruthAnswerEntity  label  \n",
              "0  Office of the Supreme Leader of Iran    0.0  \n",
              "1  Office of the Supreme Leader of Iran    0.0  \n",
              "2  Office of the Supreme Leader of Iran    0.0  \n",
              "3  Office of the Supreme Leader of Iran    1.0  \n",
              "4  Office of the Supreme Leader of Iran    0.0  \n",
              "5  Office of the Supreme Leader of Iran    0.0  \n",
              "6  Office of the Supreme Leader of Iran    0.0  \n",
              "7  Office of the Supreme Leader of Iran    0.0  \n",
              "8  Office of the Supreme Leader of Iran    0.0  \n",
              "9  Office of the Supreme Leader of Iran    0.0  "
            ],
            "text/html": [
              "\n",
              "  <div id=\"df-d534300e-c218-43b6-8e72-36410c1a9249\" class=\"colab-df-container\">\n",
              "    <div>\n",
              "<style scoped>\n",
              "    .dataframe tbody tr th:only-of-type {\n",
              "        vertical-align: middle;\n",
              "    }\n",
              "\n",
              "    .dataframe tbody tr th {\n",
              "        vertical-align: top;\n",
              "    }\n",
              "\n",
              "    .dataframe thead th {\n",
              "        text-align: right;\n",
              "    }\n",
              "</style>\n",
              "<table border=\"1\" class=\"dataframe\">\n",
              "  <thead>\n",
              "    <tr style=\"text-align: right;\">\n",
              "      <th></th>\n",
              "      <th>question</th>\n",
              "      <th>answerEntity</th>\n",
              "      <th>groundTruthAnswerEntity</th>\n",
              "      <th>label</th>\n",
              "    </tr>\n",
              "  </thead>\n",
              "  <tbody>\n",
              "    <tr>\n",
              "      <th>0</th>\n",
              "      <td>Whst is the name of the head of state and high...</td>\n",
              "      <td>Ruhollah Khomeini's return to Iran</td>\n",
              "      <td>Office of the Supreme Leader of Iran</td>\n",
              "      <td>0.0</td>\n",
              "    </tr>\n",
              "    <tr>\n",
              "      <th>1</th>\n",
              "      <td>Whst is the name of the head of state and high...</td>\n",
              "      <td>Ruhollah Khomeini's letter to Mikhail Gorbachev</td>\n",
              "      <td>Office of the Supreme Leader of Iran</td>\n",
              "      <td>0.0</td>\n",
              "    </tr>\n",
              "    <tr>\n",
              "      <th>2</th>\n",
              "      <td>Whst is the name of the head of state and high...</td>\n",
              "      <td>Ruhollah Khomeini</td>\n",
              "      <td>Office of the Supreme Leader of Iran</td>\n",
              "      <td>0.0</td>\n",
              "    </tr>\n",
              "    <tr>\n",
              "      <th>3</th>\n",
              "      <td>Whst is the name of the head of state and high...</td>\n",
              "      <td>Office of the Supreme Leader of Iran</td>\n",
              "      <td>Office of the Supreme Leader of Iran</td>\n",
              "      <td>1.0</td>\n",
              "    </tr>\n",
              "    <tr>\n",
              "      <th>4</th>\n",
              "      <td>Whst is the name of the head of state and high...</td>\n",
              "      <td>Mohammad Reza Pahlavi and Soraya</td>\n",
              "      <td>Office of the Supreme Leader of Iran</td>\n",
              "      <td>0.0</td>\n",
              "    </tr>\n",
              "    <tr>\n",
              "      <th>5</th>\n",
              "      <td>Whst is the name of the head of state and high...</td>\n",
              "      <td>Mahmoud Ahmadinejad</td>\n",
              "      <td>Office of the Supreme Leader of Iran</td>\n",
              "      <td>0.0</td>\n",
              "    </tr>\n",
              "    <tr>\n",
              "      <th>6</th>\n",
              "      <td>Whst is the name of the head of state and high...</td>\n",
              "      <td>Hassan Rouhani</td>\n",
              "      <td>Office of the Supreme Leader of Iran</td>\n",
              "      <td>0.0</td>\n",
              "    </tr>\n",
              "    <tr>\n",
              "      <th>7</th>\n",
              "      <td>Whst is the name of the head of state and high...</td>\n",
              "      <td>Ayatollah Khamenei's Foreign Policy Orientation</td>\n",
              "      <td>Office of the Supreme Leader of Iran</td>\n",
              "      <td>0.0</td>\n",
              "    </tr>\n",
              "    <tr>\n",
              "      <th>8</th>\n",
              "      <td>Whst is the name of the head of state and high...</td>\n",
              "      <td>Ayatollah Ali Khamenei speaks about Iranian pr...</td>\n",
              "      <td>Office of the Supreme Leader of Iran</td>\n",
              "      <td>0.0</td>\n",
              "    </tr>\n",
              "    <tr>\n",
              "      <th>9</th>\n",
              "      <td>Whst is the name of the head of state and high...</td>\n",
              "      <td>Ali Khamenei bibliography</td>\n",
              "      <td>Office of the Supreme Leader of Iran</td>\n",
              "      <td>0.0</td>\n",
              "    </tr>\n",
              "  </tbody>\n",
              "</table>\n",
              "</div>\n",
              "    <div class=\"colab-df-buttons\">\n",
              "\n",
              "  <div class=\"colab-df-container\">\n",
              "    <button class=\"colab-df-convert\" onclick=\"convertToInteractive('df-d534300e-c218-43b6-8e72-36410c1a9249')\"\n",
              "            title=\"Convert this dataframe to an interactive table.\"\n",
              "            style=\"display:none;\">\n",
              "\n",
              "  <svg xmlns=\"http://www.w3.org/2000/svg\" height=\"24px\" viewBox=\"0 -960 960 960\">\n",
              "    <path d=\"M120-120v-720h720v720H120Zm60-500h600v-160H180v160Zm220 220h160v-160H400v160Zm0 220h160v-160H400v160ZM180-400h160v-160H180v160Zm440 0h160v-160H620v160ZM180-180h160v-160H180v160Zm440 0h160v-160H620v160Z\"/>\n",
              "  </svg>\n",
              "    </button>\n",
              "\n",
              "  <style>\n",
              "    .colab-df-container {\n",
              "      display:flex;\n",
              "      gap: 12px;\n",
              "    }\n",
              "\n",
              "    .colab-df-convert {\n",
              "      background-color: #E8F0FE;\n",
              "      border: none;\n",
              "      border-radius: 50%;\n",
              "      cursor: pointer;\n",
              "      display: none;\n",
              "      fill: #1967D2;\n",
              "      height: 32px;\n",
              "      padding: 0 0 0 0;\n",
              "      width: 32px;\n",
              "    }\n",
              "\n",
              "    .colab-df-convert:hover {\n",
              "      background-color: #E2EBFA;\n",
              "      box-shadow: 0px 1px 2px rgba(60, 64, 67, 0.3), 0px 1px 3px 1px rgba(60, 64, 67, 0.15);\n",
              "      fill: #174EA6;\n",
              "    }\n",
              "\n",
              "    .colab-df-buttons div {\n",
              "      margin-bottom: 4px;\n",
              "    }\n",
              "\n",
              "    [theme=dark] .colab-df-convert {\n",
              "      background-color: #3B4455;\n",
              "      fill: #D2E3FC;\n",
              "    }\n",
              "\n",
              "    [theme=dark] .colab-df-convert:hover {\n",
              "      background-color: #434B5C;\n",
              "      box-shadow: 0px 1px 3px 1px rgba(0, 0, 0, 0.15);\n",
              "      filter: drop-shadow(0px 1px 2px rgba(0, 0, 0, 0.3));\n",
              "      fill: #FFFFFF;\n",
              "    }\n",
              "  </style>\n",
              "\n",
              "    <script>\n",
              "      const buttonEl =\n",
              "        document.querySelector('#df-d534300e-c218-43b6-8e72-36410c1a9249 button.colab-df-convert');\n",
              "      buttonEl.style.display =\n",
              "        google.colab.kernel.accessAllowed ? 'block' : 'none';\n",
              "\n",
              "      async function convertToInteractive(key) {\n",
              "        const element = document.querySelector('#df-d534300e-c218-43b6-8e72-36410c1a9249');\n",
              "        const dataTable =\n",
              "          await google.colab.kernel.invokeFunction('convertToInteractive',\n",
              "                                                    [key], {});\n",
              "        if (!dataTable) return;\n",
              "\n",
              "        const docLinkHtml = 'Like what you see? Visit the ' +\n",
              "          '<a target=\"_blank\" href=https://colab.research.google.com/notebooks/data_table.ipynb>data table notebook</a>'\n",
              "          + ' to learn more about interactive tables.';\n",
              "        element.innerHTML = '';\n",
              "        dataTable['output_type'] = 'display_data';\n",
              "        await google.colab.output.renderOutput(dataTable, element);\n",
              "        const docLink = document.createElement('div');\n",
              "        docLink.innerHTML = docLinkHtml;\n",
              "        element.appendChild(docLink);\n",
              "      }\n",
              "    </script>\n",
              "  </div>\n",
              "\n",
              "\n",
              "<div id=\"df-5c413835-b6d1-448c-8844-f726d2838b0b\">\n",
              "  <button class=\"colab-df-quickchart\" onclick=\"quickchart('df-5c413835-b6d1-448c-8844-f726d2838b0b')\"\n",
              "            title=\"Suggest charts\"\n",
              "            style=\"display:none;\">\n",
              "\n",
              "<svg xmlns=\"http://www.w3.org/2000/svg\" height=\"24px\"viewBox=\"0 0 24 24\"\n",
              "     width=\"24px\">\n",
              "    <g>\n",
              "        <path d=\"M19 3H5c-1.1 0-2 .9-2 2v14c0 1.1.9 2 2 2h14c1.1 0 2-.9 2-2V5c0-1.1-.9-2-2-2zM9 17H7v-7h2v7zm4 0h-2V7h2v10zm4 0h-2v-4h2v4z\"/>\n",
              "    </g>\n",
              "</svg>\n",
              "  </button>\n",
              "\n",
              "<style>\n",
              "  .colab-df-quickchart {\n",
              "      --bg-color: #E8F0FE;\n",
              "      --fill-color: #1967D2;\n",
              "      --hover-bg-color: #E2EBFA;\n",
              "      --hover-fill-color: #174EA6;\n",
              "      --disabled-fill-color: #AAA;\n",
              "      --disabled-bg-color: #DDD;\n",
              "  }\n",
              "\n",
              "  [theme=dark] .colab-df-quickchart {\n",
              "      --bg-color: #3B4455;\n",
              "      --fill-color: #D2E3FC;\n",
              "      --hover-bg-color: #434B5C;\n",
              "      --hover-fill-color: #FFFFFF;\n",
              "      --disabled-bg-color: #3B4455;\n",
              "      --disabled-fill-color: #666;\n",
              "  }\n",
              "\n",
              "  .colab-df-quickchart {\n",
              "    background-color: var(--bg-color);\n",
              "    border: none;\n",
              "    border-radius: 50%;\n",
              "    cursor: pointer;\n",
              "    display: none;\n",
              "    fill: var(--fill-color);\n",
              "    height: 32px;\n",
              "    padding: 0;\n",
              "    width: 32px;\n",
              "  }\n",
              "\n",
              "  .colab-df-quickchart:hover {\n",
              "    background-color: var(--hover-bg-color);\n",
              "    box-shadow: 0 1px 2px rgba(60, 64, 67, 0.3), 0 1px 3px 1px rgba(60, 64, 67, 0.15);\n",
              "    fill: var(--button-hover-fill-color);\n",
              "  }\n",
              "\n",
              "  .colab-df-quickchart-complete:disabled,\n",
              "  .colab-df-quickchart-complete:disabled:hover {\n",
              "    background-color: var(--disabled-bg-color);\n",
              "    fill: var(--disabled-fill-color);\n",
              "    box-shadow: none;\n",
              "  }\n",
              "\n",
              "  .colab-df-spinner {\n",
              "    border: 2px solid var(--fill-color);\n",
              "    border-color: transparent;\n",
              "    border-bottom-color: var(--fill-color);\n",
              "    animation:\n",
              "      spin 1s steps(1) infinite;\n",
              "  }\n",
              "\n",
              "  @keyframes spin {\n",
              "    0% {\n",
              "      border-color: transparent;\n",
              "      border-bottom-color: var(--fill-color);\n",
              "      border-left-color: var(--fill-color);\n",
              "    }\n",
              "    20% {\n",
              "      border-color: transparent;\n",
              "      border-left-color: var(--fill-color);\n",
              "      border-top-color: var(--fill-color);\n",
              "    }\n",
              "    30% {\n",
              "      border-color: transparent;\n",
              "      border-left-color: var(--fill-color);\n",
              "      border-top-color: var(--fill-color);\n",
              "      border-right-color: var(--fill-color);\n",
              "    }\n",
              "    40% {\n",
              "      border-color: transparent;\n",
              "      border-right-color: var(--fill-color);\n",
              "      border-top-color: var(--fill-color);\n",
              "    }\n",
              "    60% {\n",
              "      border-color: transparent;\n",
              "      border-right-color: var(--fill-color);\n",
              "    }\n",
              "    80% {\n",
              "      border-color: transparent;\n",
              "      border-right-color: var(--fill-color);\n",
              "      border-bottom-color: var(--fill-color);\n",
              "    }\n",
              "    90% {\n",
              "      border-color: transparent;\n",
              "      border-bottom-color: var(--fill-color);\n",
              "    }\n",
              "  }\n",
              "</style>\n",
              "\n",
              "  <script>\n",
              "    async function quickchart(key) {\n",
              "      const quickchartButtonEl =\n",
              "        document.querySelector('#' + key + ' button');\n",
              "      quickchartButtonEl.disabled = true;  // To prevent multiple clicks.\n",
              "      quickchartButtonEl.classList.add('colab-df-spinner');\n",
              "      try {\n",
              "        const charts = await google.colab.kernel.invokeFunction(\n",
              "            'suggestCharts', [key], {});\n",
              "      } catch (error) {\n",
              "        console.error('Error during call to suggestCharts:', error);\n",
              "      }\n",
              "      quickchartButtonEl.classList.remove('colab-df-spinner');\n",
              "      quickchartButtonEl.classList.add('colab-df-quickchart-complete');\n",
              "    }\n",
              "    (() => {\n",
              "      let quickchartButtonEl =\n",
              "        document.querySelector('#df-5c413835-b6d1-448c-8844-f726d2838b0b button');\n",
              "      quickchartButtonEl.style.display =\n",
              "        google.colab.kernel.accessAllowed ? 'block' : 'none';\n",
              "    })();\n",
              "  </script>\n",
              "</div>\n",
              "    </div>\n",
              "  </div>\n"
            ],
            "application/vnd.google.colaboratory.intrinsic+json": {
              "type": "dataframe",
              "summary": "{\n  \"name\": \"train_df[[\\\"question\\\", \\\"answerEntity\\\", \\\"groundTruthAnswerEntity\\\", \\\"label\\\"]]\",\n  \"rows\": 10,\n  \"fields\": [\n    {\n      \"column\": \"question\",\n      \"properties\": {\n        \"dtype\": \"category\",\n        \"num_unique_values\": 1,\n        \"samples\": [\n          \"Whst is the name of the head of state and highest ranking political and religious authority in Iran?\"\n        ],\n        \"semantic_type\": \"\",\n        \"description\": \"\"\n      }\n    },\n    {\n      \"column\": \"answerEntity\",\n      \"properties\": {\n        \"dtype\": \"string\",\n        \"num_unique_values\": 10,\n        \"samples\": [\n          \"Ayatollah Ali Khamenei speaks about Iranian presidential election protests at prayers\"\n        ],\n        \"semantic_type\": \"\",\n        \"description\": \"\"\n      }\n    },\n    {\n      \"column\": \"groundTruthAnswerEntity\",\n      \"properties\": {\n        \"dtype\": \"category\",\n        \"num_unique_values\": 1,\n        \"samples\": [\n          \"Office of the Supreme Leader of Iran\"\n        ],\n        \"semantic_type\": \"\",\n        \"description\": \"\"\n      }\n    },\n    {\n      \"column\": \"label\",\n      \"properties\": {\n        \"dtype\": \"float32\",\n        \"num_unique_values\": 2,\n        \"samples\": [\n          1.0\n        ],\n        \"semantic_type\": \"\",\n        \"description\": \"\"\n      }\n    }\n  ]\n}"
            }
          },
          "metadata": {},
          "execution_count": 75
        }
      ],
      "source": [
        "train_df[[\"question\", \"answerEntity\", \"groundTruthAnswerEntity\", \"label\"]].head(10)"
      ]
    },
    {
      "cell_type": "code",
      "execution_count": 76,
      "metadata": {
        "id": "qPWyIN3wnLzv",
        "colab": {
          "base_uri": "https://localhost:8080/",
          "height": 363
        },
        "outputId": "084141bd-f241-48c6-f836-3d4529983972"
      },
      "outputs": [
        {
          "output_type": "execute_result",
          "data": {
            "text/plain": [
              "                                            question  \\\n",
              "0  After publishing A Time to Kill, which book di...   \n",
              "1  After publishing A Time to Kill, which book di...   \n",
              "2  After publishing A Time to Kill, which book di...   \n",
              "3  After publishing A Time to Kill, which book di...   \n",
              "4  After publishing A Time to Kill, which book di...   \n",
              "5  After publishing A Time to Kill, which book di...   \n",
              "6  After publishing A Time to Kill, which book di...   \n",
              "7  After publishing A Time to Kill, which book di...   \n",
              "8  After publishing A Time to Kill, which book di...   \n",
              "9  After publishing A Time to Kill, which book di...   \n",
              "\n",
              "                     answerEntity  \n",
              "0                A Clash of Kings  \n",
              "1               A Feast for Crows  \n",
              "2  Fear and Loathing in Las Vegas  \n",
              "3                   In Cold Blood  \n",
              "4                  Into the Woods  \n",
              "5                   Kongenes kamp  \n",
              "6          No Country for Old Men  \n",
              "7          No Country for Old Men  \n",
              "8             Slaughterhouse-Five  \n",
              "9                        The Firm  "
            ],
            "text/html": [
              "\n",
              "  <div id=\"df-206aa7c1-82d7-41da-a371-ea9eeed99634\" class=\"colab-df-container\">\n",
              "    <div>\n",
              "<style scoped>\n",
              "    .dataframe tbody tr th:only-of-type {\n",
              "        vertical-align: middle;\n",
              "    }\n",
              "\n",
              "    .dataframe tbody tr th {\n",
              "        vertical-align: top;\n",
              "    }\n",
              "\n",
              "    .dataframe thead th {\n",
              "        text-align: right;\n",
              "    }\n",
              "</style>\n",
              "<table border=\"1\" class=\"dataframe\">\n",
              "  <thead>\n",
              "    <tr style=\"text-align: right;\">\n",
              "      <th></th>\n",
              "      <th>question</th>\n",
              "      <th>answerEntity</th>\n",
              "    </tr>\n",
              "  </thead>\n",
              "  <tbody>\n",
              "    <tr>\n",
              "      <th>0</th>\n",
              "      <td>After publishing A Time to Kill, which book di...</td>\n",
              "      <td>A Clash of Kings</td>\n",
              "    </tr>\n",
              "    <tr>\n",
              "      <th>1</th>\n",
              "      <td>After publishing A Time to Kill, which book di...</td>\n",
              "      <td>A Feast for Crows</td>\n",
              "    </tr>\n",
              "    <tr>\n",
              "      <th>2</th>\n",
              "      <td>After publishing A Time to Kill, which book di...</td>\n",
              "      <td>Fear and Loathing in Las Vegas</td>\n",
              "    </tr>\n",
              "    <tr>\n",
              "      <th>3</th>\n",
              "      <td>After publishing A Time to Kill, which book di...</td>\n",
              "      <td>In Cold Blood</td>\n",
              "    </tr>\n",
              "    <tr>\n",
              "      <th>4</th>\n",
              "      <td>After publishing A Time to Kill, which book di...</td>\n",
              "      <td>Into the Woods</td>\n",
              "    </tr>\n",
              "    <tr>\n",
              "      <th>5</th>\n",
              "      <td>After publishing A Time to Kill, which book di...</td>\n",
              "      <td>Kongenes kamp</td>\n",
              "    </tr>\n",
              "    <tr>\n",
              "      <th>6</th>\n",
              "      <td>After publishing A Time to Kill, which book di...</td>\n",
              "      <td>No Country for Old Men</td>\n",
              "    </tr>\n",
              "    <tr>\n",
              "      <th>7</th>\n",
              "      <td>After publishing A Time to Kill, which book di...</td>\n",
              "      <td>No Country for Old Men</td>\n",
              "    </tr>\n",
              "    <tr>\n",
              "      <th>8</th>\n",
              "      <td>After publishing A Time to Kill, which book di...</td>\n",
              "      <td>Slaughterhouse-Five</td>\n",
              "    </tr>\n",
              "    <tr>\n",
              "      <th>9</th>\n",
              "      <td>After publishing A Time to Kill, which book di...</td>\n",
              "      <td>The Firm</td>\n",
              "    </tr>\n",
              "  </tbody>\n",
              "</table>\n",
              "</div>\n",
              "    <div class=\"colab-df-buttons\">\n",
              "\n",
              "  <div class=\"colab-df-container\">\n",
              "    <button class=\"colab-df-convert\" onclick=\"convertToInteractive('df-206aa7c1-82d7-41da-a371-ea9eeed99634')\"\n",
              "            title=\"Convert this dataframe to an interactive table.\"\n",
              "            style=\"display:none;\">\n",
              "\n",
              "  <svg xmlns=\"http://www.w3.org/2000/svg\" height=\"24px\" viewBox=\"0 -960 960 960\">\n",
              "    <path d=\"M120-120v-720h720v720H120Zm60-500h600v-160H180v160Zm220 220h160v-160H400v160Zm0 220h160v-160H400v160ZM180-400h160v-160H180v160Zm440 0h160v-160H620v160ZM180-180h160v-160H180v160Zm440 0h160v-160H620v160Z\"/>\n",
              "  </svg>\n",
              "    </button>\n",
              "\n",
              "  <style>\n",
              "    .colab-df-container {\n",
              "      display:flex;\n",
              "      gap: 12px;\n",
              "    }\n",
              "\n",
              "    .colab-df-convert {\n",
              "      background-color: #E8F0FE;\n",
              "      border: none;\n",
              "      border-radius: 50%;\n",
              "      cursor: pointer;\n",
              "      display: none;\n",
              "      fill: #1967D2;\n",
              "      height: 32px;\n",
              "      padding: 0 0 0 0;\n",
              "      width: 32px;\n",
              "    }\n",
              "\n",
              "    .colab-df-convert:hover {\n",
              "      background-color: #E2EBFA;\n",
              "      box-shadow: 0px 1px 2px rgba(60, 64, 67, 0.3), 0px 1px 3px 1px rgba(60, 64, 67, 0.15);\n",
              "      fill: #174EA6;\n",
              "    }\n",
              "\n",
              "    .colab-df-buttons div {\n",
              "      margin-bottom: 4px;\n",
              "    }\n",
              "\n",
              "    [theme=dark] .colab-df-convert {\n",
              "      background-color: #3B4455;\n",
              "      fill: #D2E3FC;\n",
              "    }\n",
              "\n",
              "    [theme=dark] .colab-df-convert:hover {\n",
              "      background-color: #434B5C;\n",
              "      box-shadow: 0px 1px 3px 1px rgba(0, 0, 0, 0.15);\n",
              "      filter: drop-shadow(0px 1px 2px rgba(0, 0, 0, 0.3));\n",
              "      fill: #FFFFFF;\n",
              "    }\n",
              "  </style>\n",
              "\n",
              "    <script>\n",
              "      const buttonEl =\n",
              "        document.querySelector('#df-206aa7c1-82d7-41da-a371-ea9eeed99634 button.colab-df-convert');\n",
              "      buttonEl.style.display =\n",
              "        google.colab.kernel.accessAllowed ? 'block' : 'none';\n",
              "\n",
              "      async function convertToInteractive(key) {\n",
              "        const element = document.querySelector('#df-206aa7c1-82d7-41da-a371-ea9eeed99634');\n",
              "        const dataTable =\n",
              "          await google.colab.kernel.invokeFunction('convertToInteractive',\n",
              "                                                    [key], {});\n",
              "        if (!dataTable) return;\n",
              "\n",
              "        const docLinkHtml = 'Like what you see? Visit the ' +\n",
              "          '<a target=\"_blank\" href=https://colab.research.google.com/notebooks/data_table.ipynb>data table notebook</a>'\n",
              "          + ' to learn more about interactive tables.';\n",
              "        element.innerHTML = '';\n",
              "        dataTable['output_type'] = 'display_data';\n",
              "        await google.colab.output.renderOutput(dataTable, element);\n",
              "        const docLink = document.createElement('div');\n",
              "        docLink.innerHTML = docLinkHtml;\n",
              "        element.appendChild(docLink);\n",
              "      }\n",
              "    </script>\n",
              "  </div>\n",
              "\n",
              "\n",
              "<div id=\"df-86c59afe-2df8-407c-bc4c-5757544c7359\">\n",
              "  <button class=\"colab-df-quickchart\" onclick=\"quickchart('df-86c59afe-2df8-407c-bc4c-5757544c7359')\"\n",
              "            title=\"Suggest charts\"\n",
              "            style=\"display:none;\">\n",
              "\n",
              "<svg xmlns=\"http://www.w3.org/2000/svg\" height=\"24px\"viewBox=\"0 0 24 24\"\n",
              "     width=\"24px\">\n",
              "    <g>\n",
              "        <path d=\"M19 3H5c-1.1 0-2 .9-2 2v14c0 1.1.9 2 2 2h14c1.1 0 2-.9 2-2V5c0-1.1-.9-2-2-2zM9 17H7v-7h2v7zm4 0h-2V7h2v10zm4 0h-2v-4h2v4z\"/>\n",
              "    </g>\n",
              "</svg>\n",
              "  </button>\n",
              "\n",
              "<style>\n",
              "  .colab-df-quickchart {\n",
              "      --bg-color: #E8F0FE;\n",
              "      --fill-color: #1967D2;\n",
              "      --hover-bg-color: #E2EBFA;\n",
              "      --hover-fill-color: #174EA6;\n",
              "      --disabled-fill-color: #AAA;\n",
              "      --disabled-bg-color: #DDD;\n",
              "  }\n",
              "\n",
              "  [theme=dark] .colab-df-quickchart {\n",
              "      --bg-color: #3B4455;\n",
              "      --fill-color: #D2E3FC;\n",
              "      --hover-bg-color: #434B5C;\n",
              "      --hover-fill-color: #FFFFFF;\n",
              "      --disabled-bg-color: #3B4455;\n",
              "      --disabled-fill-color: #666;\n",
              "  }\n",
              "\n",
              "  .colab-df-quickchart {\n",
              "    background-color: var(--bg-color);\n",
              "    border: none;\n",
              "    border-radius: 50%;\n",
              "    cursor: pointer;\n",
              "    display: none;\n",
              "    fill: var(--fill-color);\n",
              "    height: 32px;\n",
              "    padding: 0;\n",
              "    width: 32px;\n",
              "  }\n",
              "\n",
              "  .colab-df-quickchart:hover {\n",
              "    background-color: var(--hover-bg-color);\n",
              "    box-shadow: 0 1px 2px rgba(60, 64, 67, 0.3), 0 1px 3px 1px rgba(60, 64, 67, 0.15);\n",
              "    fill: var(--button-hover-fill-color);\n",
              "  }\n",
              "\n",
              "  .colab-df-quickchart-complete:disabled,\n",
              "  .colab-df-quickchart-complete:disabled:hover {\n",
              "    background-color: var(--disabled-bg-color);\n",
              "    fill: var(--disabled-fill-color);\n",
              "    box-shadow: none;\n",
              "  }\n",
              "\n",
              "  .colab-df-spinner {\n",
              "    border: 2px solid var(--fill-color);\n",
              "    border-color: transparent;\n",
              "    border-bottom-color: var(--fill-color);\n",
              "    animation:\n",
              "      spin 1s steps(1) infinite;\n",
              "  }\n",
              "\n",
              "  @keyframes spin {\n",
              "    0% {\n",
              "      border-color: transparent;\n",
              "      border-bottom-color: var(--fill-color);\n",
              "      border-left-color: var(--fill-color);\n",
              "    }\n",
              "    20% {\n",
              "      border-color: transparent;\n",
              "      border-left-color: var(--fill-color);\n",
              "      border-top-color: var(--fill-color);\n",
              "    }\n",
              "    30% {\n",
              "      border-color: transparent;\n",
              "      border-left-color: var(--fill-color);\n",
              "      border-top-color: var(--fill-color);\n",
              "      border-right-color: var(--fill-color);\n",
              "    }\n",
              "    40% {\n",
              "      border-color: transparent;\n",
              "      border-right-color: var(--fill-color);\n",
              "      border-top-color: var(--fill-color);\n",
              "    }\n",
              "    60% {\n",
              "      border-color: transparent;\n",
              "      border-right-color: var(--fill-color);\n",
              "    }\n",
              "    80% {\n",
              "      border-color: transparent;\n",
              "      border-right-color: var(--fill-color);\n",
              "      border-bottom-color: var(--fill-color);\n",
              "    }\n",
              "    90% {\n",
              "      border-color: transparent;\n",
              "      border-bottom-color: var(--fill-color);\n",
              "    }\n",
              "  }\n",
              "</style>\n",
              "\n",
              "  <script>\n",
              "    async function quickchart(key) {\n",
              "      const quickchartButtonEl =\n",
              "        document.querySelector('#' + key + ' button');\n",
              "      quickchartButtonEl.disabled = true;  // To prevent multiple clicks.\n",
              "      quickchartButtonEl.classList.add('colab-df-spinner');\n",
              "      try {\n",
              "        const charts = await google.colab.kernel.invokeFunction(\n",
              "            'suggestCharts', [key], {});\n",
              "      } catch (error) {\n",
              "        console.error('Error during call to suggestCharts:', error);\n",
              "      }\n",
              "      quickchartButtonEl.classList.remove('colab-df-spinner');\n",
              "      quickchartButtonEl.classList.add('colab-df-quickchart-complete');\n",
              "    }\n",
              "    (() => {\n",
              "      let quickchartButtonEl =\n",
              "        document.querySelector('#df-86c59afe-2df8-407c-bc4c-5757544c7359 button');\n",
              "      quickchartButtonEl.style.display =\n",
              "        google.colab.kernel.accessAllowed ? 'block' : 'none';\n",
              "    })();\n",
              "  </script>\n",
              "</div>\n",
              "    </div>\n",
              "  </div>\n"
            ],
            "application/vnd.google.colaboratory.intrinsic+json": {
              "type": "dataframe",
              "summary": "{\n  \"name\": \"test_df[[\\\"question\\\", \\\"answerEntity\\\"]]\",\n  \"rows\": 10,\n  \"fields\": [\n    {\n      \"column\": \"question\",\n      \"properties\": {\n        \"dtype\": \"category\",\n        \"num_unique_values\": 1,\n        \"samples\": [\n          \"After publishing A Time to Kill, which book did its author begin working on immediately?\"\n        ],\n        \"semantic_type\": \"\",\n        \"description\": \"\"\n      }\n    },\n    {\n      \"column\": \"answerEntity\",\n      \"properties\": {\n        \"dtype\": \"string\",\n        \"num_unique_values\": 9,\n        \"samples\": [\n          \"Slaughterhouse-Five\"\n        ],\n        \"semantic_type\": \"\",\n        \"description\": \"\"\n      }\n    }\n  ]\n}"
            }
          },
          "metadata": {},
          "execution_count": 76
        }
      ],
      "source": [
        "test_df[[\"question\", \"answerEntity\"]].head(10)"
      ]
    },
    {
      "cell_type": "code",
      "execution_count": 77,
      "metadata": {
        "id": "gEx2RPKnnSzb"
      },
      "outputs": [],
      "source": [
        "class QuestionAnswerDataset(Dataset):\n",
        "\n",
        "    def __init__(self, df, tokenizer, max_length, context_key=\"answerEntity\",\n",
        "                 tokenizer_truncation=\"only_first\", graph_only=False):\n",
        "        super(QuestionAnswerDataset).__init__()\n",
        "\n",
        "        self.questions = df.question.values\n",
        "        self.contexts = df[context_key].values\n",
        "        self.labels = torch.tensor(df.label.values, dtype=torch.float32)\n",
        "        self.tokenizer = tokenizer\n",
        "        self.max_length = max_length\n",
        "        self.graph_only = graph_only\n",
        "        if graph_only:\n",
        "            self.tokenized_input = [tokenizer.encode_plus(y,\n",
        "                              max_length=self.max_length,\n",
        "                              padding=\"max_length\",\n",
        "                              truncation=tokenizer_truncation,\n",
        "                              return_tensors=\"pt\") \\\n",
        "                              for y in self.contexts]\n",
        "        else:\n",
        "            self.tokenized_input = [tokenizer.encode_plus(x, y,\n",
        "                              max_length=self.max_length,\n",
        "                              padding=\"max_length\",\n",
        "                              truncation=tokenizer_truncation,\n",
        "                              return_tensors=\"pt\", ) \\\n",
        "                          for x, y in zip(self.questions,\n",
        "                                          self.contexts)]\n",
        "        assert len(self.questions) == len(self.contexts) == len(self.labels)\n",
        "\n",
        "    def __len__(self):\n",
        "        return len(self.questions)\n",
        "\n",
        "    def __getitem__(self, idx):\n",
        "        return {\n",
        "                \"input_ids\": self.tokenized_input[idx][\"input_ids\"][0],\n",
        "                \"attention_mask\" : self.tokenized_input[idx][\"attention_mask\"][0],\n",
        "                \"labels\": self.labels[idx]}"
      ]
    },
    {
      "cell_type": "code",
      "execution_count": 77,
      "metadata": {
        "id": "2u3Rlxmqvq5a"
      },
      "outputs": [],
      "source": []
    },
    {
      "cell_type": "code",
      "execution_count": 78,
      "metadata": {
        "colab": {
          "base_uri": "https://localhost:8080/"
        },
        "id": "EHhNzOBxwZZ1",
        "outputId": "bff76f5d-d351-4443-965d-c5db40d18c4f"
      },
      "outputs": [
        {
          "output_type": "stream",
          "name": "stdout",
          "text": [
            "# Trainable params:  50206080\n"
          ]
        }
      ],
      "source": [
        "# model_name=\"roberta-base\"\n",
        "model_name=\"sentence-transformers/all-mpnet-base-v2\"\n",
        "\n",
        "tokenizer = AutoTokenizer.from_pretrained(model_name)\n",
        "bert_model = AutoModel.from_pretrained(model_name)\n",
        "\n",
        "freeze_embeddings = True\n",
        "if freeze_embeddings:\n",
        "    for param in bert_model.embeddings.parameters():\n",
        "        param.requires_grad = False\n",
        "\n",
        "freeze_layer_count = 5\n",
        "if freeze_layer_count > 0:\n",
        "    for layer in bert_model.encoder.layer[:freeze_layer_count]:\n",
        "        for param in layer.parameters():\n",
        "            param.requires_grad = False\n",
        "\n",
        "print(\"# Trainable params: \", sum(p.numel() for p in bert_model.parameters() if p.requires_grad))"
      ]
    },
    {
      "cell_type": "code",
      "source": [
        "train_df_filtered = train_df.copy()\n",
        "train_df_filtered.sort_values(by=[\"label\", ], ascending=False, inplace=True)\n",
        "train_df_filtered[\"label\"].head()"
      ],
      "metadata": {
        "colab": {
          "base_uri": "https://localhost:8080/"
        },
        "id": "Txs7g1YFYJAG",
        "outputId": "ffb8c12f-b603-48d7-dc2b-cb0e6508c874"
      },
      "execution_count": 79,
      "outputs": [
        {
          "output_type": "execute_result",
          "data": {
            "text/plain": [
              "34333    1.0\n",
              "3845     1.0\n",
              "22662    1.0\n",
              "30080    1.0\n",
              "8525     1.0\n",
              "Name: label, dtype: float32"
            ]
          },
          "metadata": {},
          "execution_count": 79
        }
      ]
    },
    {
      "cell_type": "code",
      "source": [
        "print(train_df_filtered.shape)\n",
        "train_df_filtered.drop_duplicates(subset=[\"question\", \"answerEntity\"], keep=\"first\", inplace=True)\n",
        "print(train_df_filtered.shape)"
      ],
      "metadata": {
        "colab": {
          "base_uri": "https://localhost:8080/"
        },
        "id": "ODBroEInYggS",
        "outputId": "a6348d95-5b2c-4f62-88ce-4498ca036bd2"
      },
      "execution_count": 80,
      "outputs": [
        {
          "output_type": "stream",
          "name": "stdout",
          "text": [
            "(33900, 11)\n",
            "(31778, 11)\n"
          ]
        }
      ]
    },
    {
      "cell_type": "code",
      "execution_count": 81,
      "metadata": {
        "id": "A7cYGM0EpVdy"
      },
      "outputs": [],
      "source": [
        "max_length = 128\n",
        "train_dataset = QuestionAnswerDataset(train_df_filtered, tokenizer=tokenizer, max_length=max_length)\n",
        "dev_dataset = QuestionAnswerDataset(dev_df, tokenizer=tokenizer, max_length=max_length)\n",
        "test_dataset = QuestionAnswerDataset(test_df, tokenizer=tokenizer, max_length=max_length)"
      ]
    },
    {
      "cell_type": "code",
      "source": [
        "idx_bound = 2\n",
        "for i in range(idx_bound):\n",
        "    d = train_dataset[i]\n",
        "    inp_ids = d[\"input_ids\"]\n",
        "    tokens = tokenizer.convert_ids_to_tokens(inp_ids)\n",
        "    s = \"\".join((x.strip(\"#\") if x.startswith(\"#\") else f\" {x}\" for x in tokens))\n",
        "    print(s)\n",
        "    d = dev_dataset[i]\n",
        "    inp_ids = d[\"input_ids\"]\n",
        "    tokens = tokenizer.convert_ids_to_tokens(inp_ids)\n",
        "    s = \"\".join((x.strip(\"#\") if x.startswith(\"#\") else f\" {x}\" for x in tokens))\n",
        "    print(s)\n",
        "    d = test_dataset[i]\n",
        "    inp_ids = d[\"input_ids\"]\n",
        "    tokens = tokenizer.convert_ids_to_tokens(inp_ids)\n",
        "    s = \"\".join((x.strip(\"#\") if x.startswith(\"#\") else f\" {x}\" for x in tokens))\n",
        "    print(s)\n",
        "    print('---')"
      ],
      "metadata": {
        "colab": {
          "base_uri": "https://localhost:8080/"
        },
        "id": "L2jtK8ntXJlr",
        "outputId": "d67a68ee-3a2e-4064-87ba-6c496c13df76"
      },
      "execution_count": 82,
      "outputs": [
        {
          "output_type": "stream",
          "name": "stdout",
          "text": [
            " <s> what is the first movie that starred the entire cast of characters iron man , captain american , thor , hulk and black widow ? </s> </s> the avengers </s> <pad> <pad> <pad> <pad> <pad> <pad> <pad> <pad> <pad> <pad> <pad> <pad> <pad> <pad> <pad> <pad> <pad> <pad> <pad> <pad> <pad> <pad> <pad> <pad> <pad> <pad> <pad> <pad> <pad> <pad> <pad> <pad> <pad> <pad> <pad> <pad> <pad> <pad> <pad> <pad> <pad> <pad> <pad> <pad> <pad> <pad> <pad> <pad> <pad> <pad> <pad> <pad> <pad> <pad> <pad> <pad> <pad> <pad> <pad> <pad> <pad> <pad> <pad> <pad> <pad> <pad> <pad> <pad> <pad> <pad> <pad> <pad> <pad> <pad> <pad> <pad> <pad> <pad> <pad> <pad> <pad> <pad> <pad> <pad> <pad> <pad> <pad> <pad> <pad> <pad> <pad> <pad> <pad> <pad> <pad> <pad> <pad>\n",
            " <s> who wrote the britney spears song womanizer ? </s> </s> tom kelly </s> <pad> <pad> <pad> <pad> <pad> <pad> <pad> <pad> <pad> <pad> <pad> <pad> <pad> <pad> <pad> <pad> <pad> <pad> <pad> <pad> <pad> <pad> <pad> <pad> <pad> <pad> <pad> <pad> <pad> <pad> <pad> <pad> <pad> <pad> <pad> <pad> <pad> <pad> <pad> <pad> <pad> <pad> <pad> <pad> <pad> <pad> <pad> <pad> <pad> <pad> <pad> <pad> <pad> <pad> <pad> <pad> <pad> <pad> <pad> <pad> <pad> <pad> <pad> <pad> <pad> <pad> <pad> <pad> <pad> <pad> <pad> <pad> <pad> <pad> <pad> <pad> <pad> <pad> <pad> <pad> <pad> <pad> <pad> <pad> <pad> <pad> <pad> <pad> <pad> <pad> <pad> <pad> <pad> <pad> <pad> <pad> <pad> <pad> <pad> <pad> <pad> <pad> <pad> <pad> <pad> <pad> <pad> <pad> <pad> <pad> <pad> <pad> <pad>\n",
            " <s> after publishing a time to kill , which book did its author begin working on immediately ? </s> </s> a clash of kings </s> <pad> <pad> <pad> <pad> <pad> <pad> <pad> <pad> <pad> <pad> <pad> <pad> <pad> <pad> <pad> <pad> <pad> <pad> <pad> <pad> <pad> <pad> <pad> <pad> <pad> <pad> <pad> <pad> <pad> <pad> <pad> <pad> <pad> <pad> <pad> <pad> <pad> <pad> <pad> <pad> <pad> <pad> <pad> <pad> <pad> <pad> <pad> <pad> <pad> <pad> <pad> <pad> <pad> <pad> <pad> <pad> <pad> <pad> <pad> <pad> <pad> <pad> <pad> <pad> <pad> <pad> <pad> <pad> <pad> <pad> <pad> <pad> <pad> <pad> <pad> <pad> <pad> <pad> <pad> <pad> <pad> <pad> <pad> <pad> <pad> <pad> <pad> <pad> <pad> <pad> <pad> <pad> <pad> <pad> <pad> <pad> <pad> <pad> <pad> <pad> <pad> <pad> <pad>\n",
            "---\n",
            " <s> who was the vietnamese general that led north vietnam in their attack of saigon in 1975 ? </s> </s> van tien dung </s> <pad> <pad> <pad> <pad> <pad> <pad> <pad> <pad> <pad> <pad> <pad> <pad> <pad> <pad> <pad> <pad> <pad> <pad> <pad> <pad> <pad> <pad> <pad> <pad> <pad> <pad> <pad> <pad> <pad> <pad> <pad> <pad> <pad> <pad> <pad> <pad> <pad> <pad> <pad> <pad> <pad> <pad> <pad> <pad> <pad> <pad> <pad> <pad> <pad> <pad> <pad> <pad> <pad> <pad> <pad> <pad> <pad> <pad> <pad> <pad> <pad> <pad> <pad> <pad> <pad> <pad> <pad> <pad> <pad> <pad> <pad> <pad> <pad> <pad> <pad> <pad> <pad> <pad> <pad> <pad> <pad> <pad> <pad> <pad> <pad> <pad> <pad> <pad> <pad> <pad> <pad> <pad> <pad> <pad> <pad> <pad> <pad> <pad> <pad> <pad> <pad> <pad> <pad>\n",
            " <s> who wrote the britney spears song womanizer ? </s> </s> toby gad </s> <pad> <pad> <pad> <pad> <pad> <pad> <pad> <pad> <pad> <pad> <pad> <pad> <pad> <pad> <pad> <pad> <pad> <pad> <pad> <pad> <pad> <pad> <pad> <pad> <pad> <pad> <pad> <pad> <pad> <pad> <pad> <pad> <pad> <pad> <pad> <pad> <pad> <pad> <pad> <pad> <pad> <pad> <pad> <pad> <pad> <pad> <pad> <pad> <pad> <pad> <pad> <pad> <pad> <pad> <pad> <pad> <pad> <pad> <pad> <pad> <pad> <pad> <pad> <pad> <pad> <pad> <pad> <pad> <pad> <pad> <pad> <pad> <pad> <pad> <pad> <pad> <pad> <pad> <pad> <pad> <pad> <pad> <pad> <pad> <pad> <pad> <pad> <pad> <pad> <pad> <pad> <pad> <pad> <pad> <pad> <pad> <pad> <pad> <pad> <pad> <pad> <pad> <pad> <pad> <pad> <pad> <pad> <pad> <pad> <pad> <pad> <pad>\n",
            " <s> after publishing a time to kill , which book did its author begin working on immediately ? </s> </s> a feast for crows </s> <pad> <pad> <pad> <pad> <pad> <pad> <pad> <pad> <pad> <pad> <pad> <pad> <pad> <pad> <pad> <pad> <pad> <pad> <pad> <pad> <pad> <pad> <pad> <pad> <pad> <pad> <pad> <pad> <pad> <pad> <pad> <pad> <pad> <pad> <pad> <pad> <pad> <pad> <pad> <pad> <pad> <pad> <pad> <pad> <pad> <pad> <pad> <pad> <pad> <pad> <pad> <pad> <pad> <pad> <pad> <pad> <pad> <pad> <pad> <pad> <pad> <pad> <pad> <pad> <pad> <pad> <pad> <pad> <pad> <pad> <pad> <pad> <pad> <pad> <pad> <pad> <pad> <pad> <pad> <pad> <pad> <pad> <pad> <pad> <pad> <pad> <pad> <pad> <pad> <pad> <pad> <pad> <pad> <pad> <pad> <pad> <pad> <pad> <pad> <pad> <pad> <pad> <pad>\n",
            "---\n"
          ]
        }
      ]
    },
    {
      "cell_type": "code",
      "execution_count": 83,
      "metadata": {
        "id": "Lg4MGlFZpVgq"
      },
      "outputs": [],
      "source": [
        "batch_size = 64\n",
        "num_workers = 0\n",
        "\n",
        "train_loader = torch.utils.data.DataLoader(\n",
        "    train_dataset, batch_size=batch_size, num_workers=num_workers, shuffle=True, drop_last=True,\n",
        ")\n",
        "dev_loader = torch.utils.data.DataLoader(\n",
        "    dev_dataset, batch_size=batch_size, num_workers=num_workers, shuffle=False, drop_last=False,\n",
        ")\n",
        "test_loader = torch.utils.data.DataLoader(\n",
        "    test_dataset, batch_size=batch_size, num_workers=num_workers, shuffle=False, drop_last=False,\n",
        ")"
      ]
    },
    {
      "cell_type": "code",
      "execution_count": 83,
      "metadata": {
        "id": "dGs_fL9YpwSA"
      },
      "outputs": [],
      "source": [
        "\n"
      ]
    },
    {
      "cell_type": "code",
      "execution_count": 84,
      "metadata": {
        "id": "i8b9mpfOniVq"
      },
      "outputs": [],
      "source": [
        "def train(model, iterator, optimizer, criterion, device,\n",
        "          train_history=None, valid_history=None,):\n",
        "    model.train()\n",
        "\n",
        "    epoch_loss = 0\n",
        "    history = []\n",
        "    for i, batch in enumerate(tqdm(iterator)):\n",
        "\n",
        "        optimizer.zero_grad()\n",
        "\n",
        "        input_ids = batch[\"input_ids\"].to(device)\n",
        "        attention_mask = batch[\"attention_mask\"].to(device)\n",
        "        labels = batch[\"labels\"].to(device)\n",
        "        output = model(inputs=input_ids, attention_mask=attention_mask,).squeeze(1)\n",
        "        loss = criterion(output, labels)\n",
        "        loss.backward()\n",
        "        optimizer.step()\n",
        "        # scheduler.step()\n",
        "\n",
        "        epoch_loss += loss.item()\n",
        "\n",
        "        history.append(loss.cpu().data.numpy())\n",
        "\n",
        "    return epoch_loss / (i + 1)\n",
        "\n",
        "def evaluate(model, iterator, criterion, device):\n",
        "    model.eval()\n",
        "\n",
        "    epoch_loss = 0\n",
        "\n",
        "    true_labels = []\n",
        "    pred_labels = []\n",
        "\n",
        "    with torch.no_grad():\n",
        "\n",
        "        for i, batch in enumerate(iterator):\n",
        "\n",
        "            input_ids = batch[\"input_ids\"].to(device)\n",
        "            attention_mask = batch[\"attention_mask\"].to(device)\n",
        "            labels = batch[\"labels\"]\n",
        "\n",
        "            true_labels.extend(labels.cpu().numpy())\n",
        "            labels = labels.to(device)\n",
        "\n",
        "\n",
        "            output = model(inputs=input_ids, attention_mask=attention_mask,).squeeze(1)\n",
        "            pred_probas = output.cpu().numpy()\n",
        "            batch_pred_labels = (pred_probas >= 0.5) * 1\n",
        "\n",
        "            loss = criterion(output, labels)\n",
        "\n",
        "            pred_labels.extend(batch_pred_labels)\n",
        "            epoch_loss += loss.item()\n",
        "\n",
        "    valid_f1_score = f1_score(true_labels, pred_labels)\n",
        "    return epoch_loss / (i + 1), valid_f1_score\n",
        "\n",
        "def epoch_time(start_time, end_time):\n",
        "    elapsed_time = end_time - start_time\n",
        "    elapsed_mins = int(elapsed_time / 60)\n",
        "    elapsed_secs = int(elapsed_time - (elapsed_mins * 60))\n",
        "    return elapsed_mins, elapsed_secs"
      ]
    },
    {
      "cell_type": "code",
      "execution_count": 84,
      "metadata": {
        "id": "65M_aYDlpln9"
      },
      "outputs": [],
      "source": []
    },
    {
      "cell_type": "code",
      "execution_count": 85,
      "metadata": {
        "id": "dJf1NgzxcGIp"
      },
      "outputs": [],
      "source": [
        "import time\n",
        "import math\n",
        "import matplotlib\n",
        "matplotlib.rcParams.update({'figure.figsize': (16, 12), 'font.size': 14})\n",
        "import matplotlib.pyplot as plt\n",
        "%matplotlib inline\n",
        "from IPython.display import clear_output"
      ]
    },
    {
      "cell_type": "code",
      "execution_count": 86,
      "metadata": {
        "id": "5LUN9l3masQd"
      },
      "outputs": [],
      "source": [
        "def train_evaluate(bert_classifier, train_loader, dev_loader, optimizer, criterion, n_epochs,  checkpoint_fname, device):\n",
        "    train_history = []\n",
        "    valid_history = []\n",
        "    valid_history_f1 = []\n",
        "\n",
        "    best_valid_loss = float('inf')\n",
        "    best_f1_score = 0.0\n",
        "\n",
        "    for epoch in range(n_epochs):\n",
        "\n",
        "        start_time = time.time()\n",
        "\n",
        "        train_loss = train(bert_classifier, train_loader, optimizer, criterion, device, train_history, valid_history, )\n",
        "        valid_loss, valid_f1_score = evaluate(bert_classifier, dev_loader, criterion, device)\n",
        "\n",
        "        end_time = time.time()\n",
        "\n",
        "        epoch_mins, epoch_secs = epoch_time(start_time, end_time)\n",
        "\n",
        "        train_history.append(train_loss)\n",
        "        valid_history.append(valid_loss)\n",
        "        valid_history_f1.append(valid_f1_score)\n",
        "\n",
        "        fig, ax = plt.subplots(nrows=1, ncols=2, figsize=(12, 8))\n",
        "\n",
        "        clear_output(True)\n",
        "        ax[0].plot(valid_history_f1, label='Val f1-score')\n",
        "        ax[0].set_xlabel('Epoch')\n",
        "        ax[0].set_title('Val f1-score')\n",
        "\n",
        "        ax[1].plot(train_history, label='general train history')\n",
        "        ax[1].set_xlabel('Epoch')\n",
        "        ax[1].plot(valid_history, label='general valid history')\n",
        "\n",
        "        plt.legend()\n",
        "        plt.show()\n",
        "\n",
        "        if valid_f1_score > best_f1_score:\n",
        "            best_f1_score = valid_f1_score\n",
        "            torch.save(bert_classifier.state_dict(), f'best-val-{checkpoint_fname}.pt')\n",
        "\n",
        "        print(f'Epoch: {epoch+1:02} | Time: {epoch_mins}m {epoch_secs}s')\n",
        "        print(f'\\tTrain Loss: {train_loss:.3f}')\n",
        "        print(f'\\t Val. Loss: {valid_loss:.3f} |  Val. F1: {valid_f1_score:.3f}')"
      ]
    },
    {
      "cell_type": "code",
      "execution_count": 87,
      "metadata": {
        "id": "64mMbvBGplqx"
      },
      "outputs": [],
      "source": [
        "def predict(model, data_loader, device):\n",
        "    true_labels = []\n",
        "    pred_labels = []\n",
        "\n",
        "    model.eval()\n",
        "    with torch.no_grad():\n",
        "        for i, batch in enumerate(data_loader):\n",
        "            input_ids = batch[\"input_ids\"].to(device)\n",
        "            attention_mask = batch[\"attention_mask\"].to(device)\n",
        "            batch_true_labels = batch[\"labels\"].cpu().numpy()\n",
        "\n",
        "\n",
        "            pred_probas = model(inputs=input_ids, attention_mask=attention_mask,).squeeze(1)\n",
        "            pred_probas = pred_probas.cpu().numpy()\n",
        "\n",
        "            batch_pred_labels = (pred_probas >= 0.5) * 1\n",
        "\n",
        "            pred_labels.extend(batch_pred_labels)\n",
        "            true_labels.extend(batch_true_labels)\n",
        "    return true_labels, pred_labels"
      ]
    },
    {
      "cell_type": "code",
      "execution_count": 88,
      "metadata": {
        "id": "mIf1LjY-qCpl"
      },
      "outputs": [],
      "source": [
        "class BertSimpleClassifier(nn.Module):\n",
        "    def __init__(self, bert_text_encoder, dropout=0.1):\n",
        "        super().__init__()\n",
        "\n",
        "        self.bert_text_encoder = bert_text_encoder\n",
        "        self.dropout = nn.Dropout(p=dropout)\n",
        "        bert_hidden_dim = bert_text_encoder.config.hidden_size\n",
        "\n",
        "        self.classifier = nn.Sequential(\n",
        "            nn.Dropout(p=dropout),\n",
        "            nn.ReLU(),\n",
        "            nn.Linear(bert_hidden_dim, bert_hidden_dim),\n",
        "            nn.Dropout(p=dropout),\n",
        "            nn.ReLU(),\n",
        "            nn.Linear(bert_hidden_dim, 1),\n",
        "        )\n",
        "\n",
        "\n",
        "    def forward(self, inputs, attention_mask,):\n",
        "        last_hidden_states = self.bert_text_encoder(inputs, attention_mask=attention_mask,\n",
        "                                                    return_dict=True)['last_hidden_state']\n",
        "        text_cls_embeddings = torch.stack([elem[0, :] for elem in last_hidden_states])\n",
        "        proba = self.classifier(text_cls_embeddings)\n",
        "        return proba"
      ]
    },
    {
      "cell_type": "code",
      "execution_count": 88,
      "metadata": {
        "id": "TQbr6RZrqCsY"
      },
      "outputs": [],
      "source": []
    },
    {
      "cell_type": "code",
      "execution_count": 89,
      "metadata": {
        "id": "5eVDSwqqfCxW"
      },
      "outputs": [],
      "source": [
        "N_EPOCHS = 5\n",
        "DROPOUT = 0.2"
      ]
    },
    {
      "cell_type": "code",
      "execution_count": 90,
      "metadata": {
        "id": "xbVhbGTIfDMH"
      },
      "outputs": [],
      "source": [
        "bert_simple_clf = BertSimpleClassifier(bert_model, dropout=DROPOUT).to(device)\n",
        "optimizer = optim.Adam(bert_simple_clf.parameters(), lr=3e-5)\n",
        "criterion = nn.BCEWithLogitsLoss().to(device)"
      ]
    },
    {
      "cell_type": "code",
      "source": [
        "class_counts = train_df[\"label\"].value_counts()\n",
        "pos_weight = class_counts[0] / class_counts[1]\n",
        "\n",
        "pos_weight = torch.FloatTensor([pos_weight, ]).to(device)\n",
        "criterion = nn.BCEWithLogitsLoss(pos_weight=pos_weight).to(device)"
      ],
      "metadata": {
        "id": "RK7jKSfSHi-D"
      },
      "execution_count": 91,
      "outputs": []
    },
    {
      "cell_type": "code",
      "execution_count": 92,
      "metadata": {
        "colab": {
          "base_uri": "https://localhost:8080/",
          "height": 784
        },
        "id": "Y4GsPWI3wN_4",
        "outputId": "80ffeefe-2fcb-4540-ee30-31334a57d680"
      },
      "outputs": [
        {
          "output_type": "display_data",
          "data": {
            "text/plain": [
              "<Figure size 1200x800 with 2 Axes>"
            ],
            "image/png": "[encoded data removed]"
          },
          "metadata": {}
        },
        {
          "output_type": "stream",
          "name": "stdout",
          "text": [
            "Epoch: 05 | Time: 9m 29s\n",
            "\tTrain Loss: 0.940\n",
            "\t Val. Loss: 1.125 |  Val. F1: 0.315\n"
          ]
        }
      ],
      "source": [
        "train_evaluate(bert_simple_clf, train_loader, dev_loader, optimizer,\n",
        "               criterion, N_EPOCHS, \"text_only_baseline\", device)"
      ]
    },
    {
      "cell_type": "code",
      "execution_count": 93,
      "metadata": {
        "id": "wdydaSpIwOB8",
        "colab": {
          "base_uri": "https://localhost:8080/"
        },
        "outputId": "50db0f58-6ca5-4f2c-a35c-4970bd5f3279"
      },
      "outputs": [
        {
          "output_type": "execute_result",
          "data": {
            "text/plain": [
              "<All keys matched successfully>"
            ]
          },
          "metadata": {},
          "execution_count": 93
        }
      ],
      "source": [
        "bert_simple_clf.load_state_dict(torch.load('best-val-text_only_baseline.pt'))"
      ]
    },
    {
      "cell_type": "markdown",
      "metadata": {
        "id": "Wlamg50cA3ez"
      },
      "source": [
        "### Evaluation on dev set"
      ]
    },
    {
      "cell_type": "code",
      "execution_count": 94,
      "metadata": {
        "id": "Qzjnd3xPbLTF",
        "colab": {
          "base_uri": "https://localhost:8080/"
        },
        "outputId": "ce08cffd-ac70-4dcc-9acd-f53882efd965"
      },
      "outputs": [
        {
          "output_type": "stream",
          "name": "stdout",
          "text": [
            "0.21535393818544366,0.5869565217391305,0.3150984682713348\n"
          ]
        }
      ],
      "source": [
        "true_labels, pred_labels = predict(bert_simple_clf, dev_loader, device)\n",
        "print(f\"{precision_score(true_labels, pred_labels)},{recall_score(true_labels, pred_labels)},{f1_score(true_labels, pred_labels)}\")"
      ]
    },
    {
      "cell_type": "markdown",
      "metadata": {
        "id": "fWPJAuNoAy_X"
      },
      "source": [
        "### Prediction on test set"
      ]
    },
    {
      "cell_type": "code",
      "execution_count": 95,
      "metadata": {
        "id": "jGdeCxifbLVR"
      },
      "outputs": [],
      "source": [
        "true_labels, pred_labels = predict(bert_simple_clf, test_loader, device)\n",
        "# print(f\"{precision_score(true_labels, pred_labels)},{recall_score(true_labels, pred_labels)},{f1_score(true_labels, pred_labels)}\")"
      ]
    },
    {
      "cell_type": "code",
      "execution_count": 96,
      "metadata": {
        "id": "1-8RUJAHCQfe"
      },
      "outputs": [],
      "source": [
        "test_df[\"true_y\"] = true_labels\n",
        "test_df[\"prediction\"] = pred_labels"
      ]
    },
    {
      "cell_type": "code",
      "execution_count": 97,
      "metadata": {
        "id": "5c_Z9ByeB2lT"
      },
      "outputs": [],
      "source": [
        "test_pred_path = \"test_pred_mpnet_nograph_baseline.tsv\"\n",
        "# test_df.to_csv(test_pred_path, sep='\\t', index=False)\n",
        "test_df[[\"sample_id\", \"prediction\"]].to_csv(test_pred_path, sep='\\t', index=False)"
      ]
    },
    {
      "cell_type": "markdown",
      "metadata": {
        "id": "dxjDmdljd5D9"
      },
      "source": [
        "## Linearized graph baseline"
      ]
    },
    {
      "cell_type": "code",
      "execution_count": null,
      "metadata": {
        "id": "_IjjZp1kXR7Y"
      },
      "outputs": [],
      "source": [
        "SEP_TOKEN = tokenizer.sep_token"
      ]
    },
    {
      "cell_type": "code",
      "execution_count": null,
      "metadata": {
        "id": "UDtkFDCOa2I4"
      },
      "outputs": [],
      "source": [
        "# Example:\n",
        "# {'directed': True, 'multigraph': False, 'graph': {},\n",
        "# 'nodes': [{'type': 'QUESTIONS_ENTITY', 'name_': 'Q49', 'id': 0, 'label': 'North America'},\n",
        "# {'type': 'ANSWER_CANDIDATE_ENTITY', 'name_': 'Q194057', 'id': 1, 'label': 'Mount Rainier'}],\n",
        "# 'links': [{'name_': 'P30', 'source': 1, 'target': 0, 'label': 'continent'}]}\n",
        "def linearize_graph(graph_dict):\n",
        "    nodes = sorted((node_dict for node_dict in graph_dict[\"nodes\"]), key=lambda d:d[\"id\"])\n",
        "    for n_id, node_dict in enumerate(nodes):\n",
        "        assert n_id == node_dict[\"id\"]\n",
        "    src_node_id2links = {}\n",
        "    for link_dict in graph_dict[\"links\"]:\n",
        "        link_src =  link_dict[\"source\"]\n",
        "        if src_node_id2links.get(link_src) is None:\n",
        "            src_node_id2links[link_src] = []\n",
        "        src_node_id2links[link_src].append(link_dict)\n",
        "    graph_s = \"\"\n",
        "\n",
        "    for n_id, node_dict in enumerate(nodes):\n",
        "        links = src_node_id2links.get(n_id, list())\n",
        "        start_label = node_dict[\"label\"]\n",
        "        if node_dict[\"type\"] == \"ANSWER_CANDIDATE_ENTITY\":\n",
        "            start_label = f\"{SEP_TOKEN} {start_label} {SEP_TOKEN}\"\n",
        "        for link_dict in links:\n",
        "            target_label = nodes[link_dict[\"target\"]][\"label\"]\n",
        "            if nodes[link_dict[\"target\"]][\"type\"] == \"ANSWER_CANDIDATE_ENTITY\":\n",
        "                target_label = f\"{SEP_TOKEN} {target_label} {SEP_TOKEN}\"\n",
        "            link_s = f\" {start_label}, {link_dict['label']}, {target_label} \"\n",
        "            graph_s += link_s\n",
        "\n",
        "    return graph_s"
      ]
    },
    {
      "cell_type": "code",
      "execution_count": null,
      "metadata": {
        "id": "3MMm3s5Ea2Lr"
      },
      "outputs": [],
      "source": [
        "train_df[\"linearized_graph\"] = train_df[\"graph\"].apply(linearize_graph)\n",
        "dev_df[\"linearized_graph\"] = dev_df[\"graph\"].apply(linearize_graph)\n",
        "test_df[\"linearized_graph\"] = test_df[\"graph\"].apply(linearize_graph)"
      ]
    },
    {
      "cell_type": "code",
      "execution_count": null,
      "metadata": {
        "id": "lv48cvNkahzr"
      },
      "outputs": [],
      "source": [
        "pd.set_option('display.max_colwidth', None)"
      ]
    },
    {
      "cell_type": "code",
      "execution_count": null,
      "metadata": {
        "id": "BJh3Sj37a2Nv"
      },
      "outputs": [],
      "source": [
        "train_df[\"linearized_graph\"].head()"
      ]
    },
    {
      "cell_type": "code",
      "execution_count": null,
      "metadata": {
        "id": "bjkPcQVMc45f"
      },
      "outputs": [],
      "source": [
        "dev_df[\"linearized_graph\"].head()"
      ]
    },
    {
      "cell_type": "code",
      "execution_count": null,
      "metadata": {
        "id": "PJ1_Hvtic48H"
      },
      "outputs": [],
      "source": [
        "test_df[\"linearized_graph\"].head()"
      ]
    },
    {
      "cell_type": "code",
      "execution_count": null,
      "metadata": {
        "id": "_9QjwGmDc4-o"
      },
      "outputs": [],
      "source": [
        "# model_name=\"roberta-base\"\n",
        "model_name=\"sentence-transformers/all-mpnet-base-v2\"\n",
        "\n",
        "tokenizer = AutoTokenizer.from_pretrained(model_name)\n",
        "bert_model = AutoModel.from_pretrained(model_name)\n",
        "\n",
        "freeze_embeddings = True\n",
        "if freeze_embeddings:\n",
        "    for param in bert_model.embeddings.parameters():\n",
        "        param.requires_grad = False\n",
        "\n",
        "freeze_layer_count = 5\n",
        "if freeze_layer_count > 0:\n",
        "    for layer in bert_model.encoder.layer[:freeze_layer_count]:\n",
        "        for param in layer.parameters():\n",
        "            param.requires_grad = False\n",
        "\n",
        "print(\"# Trainable params: \", sum(p.numel() for p in bert_model.parameters() if p.requires_grad))"
      ]
    },
    {
      "cell_type": "code",
      "execution_count": null,
      "metadata": {
        "id": "IMAj9xH8eOPI"
      },
      "outputs": [],
      "source": [
        "max_length = 128\n",
        "train_dataset = QuestionAnswerDataset(train_df, tokenizer=tokenizer, max_length=max_length, context_key=\"linearized_graph\",\n",
        "                                      tokenizer_truncation=\"only_second\")\n",
        "dev_dataset = QuestionAnswerDataset(dev_df, tokenizer=tokenizer, max_length=max_length, context_key=\"linearized_graph\",\n",
        "                                    tokenizer_truncation=\"only_second\")\n",
        "test_dataset = QuestionAnswerDataset(test_df, tokenizer=tokenizer, max_length=max_length, context_key=\"linearized_graph\",\n",
        "                                     tokenizer_truncation=\"only_second\")"
      ]
    },
    {
      "cell_type": "code",
      "execution_count": null,
      "metadata": {
        "id": "UyovLTaleOPJ"
      },
      "outputs": [],
      "source": [
        "batch_size = 64\n",
        "num_workers = 0\n",
        "\n",
        "train_loader = torch.utils.data.DataLoader(\n",
        "    train_dataset, batch_size=batch_size, num_workers=num_workers, shuffle=True, drop_last=True,\n",
        ")\n",
        "dev_loader = torch.utils.data.DataLoader(\n",
        "    dev_dataset, batch_size=batch_size, num_workers=num_workers, shuffle=False, drop_last=False,\n",
        ")\n",
        "test_loader = torch.utils.data.DataLoader(\n",
        "    test_dataset, batch_size=batch_size, num_workers=num_workers, shuffle=False, drop_last=False,\n",
        ")"
      ]
    },
    {
      "cell_type": "code",
      "execution_count": null,
      "metadata": {
        "id": "IsK3zQ0AeN-s"
      },
      "outputs": [],
      "source": []
    },
    {
      "cell_type": "code",
      "execution_count": null,
      "metadata": {
        "id": "8-lTz-GTebQr"
      },
      "outputs": [],
      "source": [
        "N_EPOCHS = 5\n",
        "DROPOUT = 0.2"
      ]
    },
    {
      "cell_type": "code",
      "execution_count": null,
      "metadata": {
        "id": "uEc_HDseebQ3"
      },
      "outputs": [],
      "source": [
        "bert_linearized_graph_clf = BertSimpleClassifier(bert_model, dropout=DROPOUT).to(device)\n",
        "optimizer = optim.Adam(bert_linearized_graph_clf.parameters(), lr=3e-5)\n",
        "criterion = nn.BCEWithLogitsLoss()"
      ]
    },
    {
      "cell_type": "code",
      "execution_count": null,
      "metadata": {
        "id": "Qh1GJ_CvebQ3"
      },
      "outputs": [],
      "source": [
        "train_evaluate(bert_linearized_graph_clf, train_loader, dev_loader, optimizer,\n",
        "               criterion, N_EPOCHS, \"bert_linearized_graph_clf\", device)"
      ]
    },
    {
      "cell_type": "code",
      "execution_count": null,
      "metadata": {
        "id": "bkh2ONAJebQ4"
      },
      "outputs": [],
      "source": [
        "bert_linearized_graph_clf.load_state_dict(torch.load('best-val-bert_linearized_graph_clf.pt'))"
      ]
    },
    {
      "cell_type": "markdown",
      "metadata": {
        "id": "4snZM3rnBRTJ"
      },
      "source": [
        "### Evaluation on dev set"
      ]
    },
    {
      "cell_type": "code",
      "execution_count": null,
      "metadata": {
        "id": "XxzgmftOebQ4"
      },
      "outputs": [],
      "source": [
        "true_labels, pred_labels = predict(bert_linearized_graph_clf, dev_loader, device)\n",
        "print(f\"{precision_score(true_labels, pred_labels)},{recall_score(true_labels, pred_labels)},{f1_score(true_labels, pred_labels)}\")"
      ]
    },
    {
      "cell_type": "markdown",
      "metadata": {
        "id": "Kn7BLj4JBQhh"
      },
      "source": [
        "### Prediction on test set"
      ]
    },
    {
      "cell_type": "code",
      "execution_count": null,
      "metadata": {
        "id": "bS15rJwBebQ4"
      },
      "outputs": [],
      "source": [
        "true_labels, pred_labels = predict(bert_linearized_graph_clf, test_loader, device)\n",
        "# print(f\"{precision_score(true_labels, pred_labels)},{recall_score(true_labels, pred_labels)},{f1_score(true_labels, pred_labels)}\")"
      ]
    },
    {
      "cell_type": "code",
      "execution_count": null,
      "metadata": {
        "id": "w3KCyZb3a2aA"
      },
      "outputs": [],
      "source": [
        "assert len(true_labels) == len(pred_labels)"
      ]
    },
    {
      "cell_type": "code",
      "execution_count": null,
      "metadata": {
        "id": "dN-7a23ea2cd"
      },
      "outputs": [],
      "source": [
        "test_df[\"true_y\"] = true_labels\n",
        "test_df[\"prediction\"] = pred_labels\n"
      ]
    },
    {
      "cell_type": "code",
      "execution_count": null,
      "metadata": {
        "id": "eL54btd75U63"
      },
      "outputs": [],
      "source": [
        "test_df.head()"
      ]
    },
    {
      "cell_type": "code",
      "execution_count": null,
      "metadata": {
        "id": "LUUuPMR83_iU"
      },
      "outputs": [],
      "source": [
        "test_df[[\"question\", \"answerEntity\", \"groundTruthAnswerEntity\", \"true_y\", \"prediction\", \"label\"]].head(50)"
      ]
    },
    {
      "cell_type": "code",
      "execution_count": null,
      "metadata": {
        "id": "LuN1ipIl3_lD"
      },
      "outputs": [],
      "source": [
        "test_pred_path = \"test_pred_linearized_graph_baseline.tsv\"\n",
        "test_df[[\"sample_id\", \"prediction\"]].to_csv(test_pred_path, sep='\\t', index=False)"
      ]
    },
    {
      "cell_type": "markdown",
      "source": [
        "## Linearized graph only"
      ],
      "metadata": {
        "id": "5xPUvDungDuN"
      }
    },
    {
      "cell_type": "code",
      "source": [
        "max_length = 128\n",
        "train_dataset = QuestionAnswerDataset(train_df, tokenizer=tokenizer, max_length=max_length, context_key=\"linearized_graph\", graph_only=True)\n",
        "dev_dataset = QuestionAnswerDataset(dev_df, tokenizer=tokenizer, max_length=max_length, context_key=\"linearized_graph\", graph_only=True)\n",
        "test_dataset = QuestionAnswerDataset(test_df, tokenizer=tokenizer, max_length=max_length, context_key=\"linearized_graph\", graph_only=True)"
      ],
      "metadata": {
        "id": "KIxxKUiLyUtE"
      },
      "execution_count": null,
      "outputs": []
    },
    {
      "cell_type": "code",
      "source": [
        "idx_bound = 5\n",
        "for i in range(idx_bound):\n",
        "    d = train_dataset[i]\n",
        "    inp_ids = d[\"input_ids\"]\n",
        "    tokens = tokenizer.convert_ids_to_tokens(inp_ids)\n",
        "    s = \"\".join((x.strip(\"#\") if x.startswith(\"#\") else f\" {x}\" for x in tokens))\n",
        "    print(s)\n"
      ],
      "metadata": {
        "id": "qJ1pFy7RUlwz"
      },
      "execution_count": null,
      "outputs": []
    },
    {
      "cell_type": "code",
      "source": [
        "batch_size = 64\n",
        "num_workers = 0\n",
        "\n",
        "train_loader = torch.utils.data.DataLoader(\n",
        "    train_dataset, batch_size=batch_size, num_workers=num_workers, shuffle=True, drop_last=True,\n",
        ")\n",
        "dev_loader = torch.utils.data.DataLoader(\n",
        "    dev_dataset, batch_size=batch_size, num_workers=num_workers, shuffle=False, drop_last=False,\n",
        ")\n",
        "test_loader = torch.utils.data.DataLoader(\n",
        "    test_dataset, batch_size=batch_size, num_workers=num_workers, shuffle=False, drop_last=False,\n",
        ")"
      ],
      "metadata": {
        "id": "ruC9czB3gJAO"
      },
      "execution_count": null,
      "outputs": []
    },
    {
      "cell_type": "code",
      "source": [
        "N_EPOCHS = 5\n",
        "DROPOUT = 0.2"
      ],
      "metadata": {
        "id": "00qhOvJIgJCb"
      },
      "execution_count": null,
      "outputs": []
    },
    {
      "cell_type": "code",
      "source": [
        "bert_linearized_graph_clf = BertSimpleClassifier(bert_model, dropout=DROPOUT).to(device)\n",
        "optimizer = optim.Adam(bert_linearized_graph_clf.parameters(), lr=3e-5)\n",
        "criterion = nn.BCEWithLogitsLoss()"
      ],
      "metadata": {
        "id": "DmCnCBkMgSD-"
      },
      "execution_count": null,
      "outputs": []
    },
    {
      "cell_type": "code",
      "source": [
        "train_evaluate(bert_linearized_graph_clf, train_loader, dev_loader, optimizer,\n",
        "               criterion, N_EPOCHS, \"bert_linearized_graph_only_clf\", device)"
      ],
      "metadata": {
        "id": "oKHPnTJ9gSF1"
      },
      "execution_count": null,
      "outputs": []
    },
    {
      "cell_type": "code",
      "source": [
        "\n",
        "bert_linearized_graph_clf.load_state_dict(torch.load('best-val-bert_linearized_graph_only_clf.pt'))"
      ],
      "metadata": {
        "id": "4LROpG4RgJEy"
      },
      "execution_count": null,
      "outputs": []
    },
    {
      "cell_type": "markdown",
      "metadata": {
        "id": "uLp5aL1sghfm"
      },
      "source": [
        "### Evaluation on dev set"
      ]
    },
    {
      "cell_type": "code",
      "execution_count": null,
      "metadata": {
        "id": "rbqF1gkOghfo"
      },
      "outputs": [],
      "source": [
        "true_labels, pred_labels = predict(bert_linearized_graph_clf, dev_loader, device)\n",
        "print(f\"{precision_score(true_labels, pred_labels)},{recall_score(true_labels, pred_labels)},{f1_score(true_labels, pred_labels)}\")"
      ]
    },
    {
      "cell_type": "markdown",
      "metadata": {
        "id": "b-2wJB5oghfp"
      },
      "source": [
        "### Prediction on test set"
      ]
    },
    {
      "cell_type": "code",
      "execution_count": null,
      "metadata": {
        "id": "RA43g37Gghfp"
      },
      "outputs": [],
      "source": [
        "true_labels, pred_labels = predict(bert_linearized_graph_clf, test_loader, device)\n",
        "# print(f\"{precision_score(true_labels, pred_labels)},{recall_score(true_labels, pred_labels)},{f1_score(true_labels, pred_labels)}\")"
      ]
    },
    {
      "cell_type": "code",
      "execution_count": null,
      "metadata": {
        "id": "XvDBt6VFghfp"
      },
      "outputs": [],
      "source": [
        "assert len(true_labels) == len(pred_labels)"
      ]
    },
    {
      "cell_type": "code",
      "execution_count": null,
      "metadata": {
        "id": "_2mDm3yQghfq"
      },
      "outputs": [],
      "source": [
        "test_df[\"true_y\"] = true_labels\n",
        "test_df[\"prediction\"] = pred_labels\n"
      ]
    },
    {
      "cell_type": "code",
      "execution_count": null,
      "metadata": {
        "id": "B_2gX6rpghfq"
      },
      "outputs": [],
      "source": [
        "test_df.head()"
      ]
    },
    {
      "cell_type": "code",
      "execution_count": null,
      "metadata": {
        "id": "FuUG2nEughfq"
      },
      "outputs": [],
      "source": [
        "test_df[[\"question\", \"answerEntity\", \"groundTruthAnswerEntity\", \"true_y\", \"prediction\", \"label\"]].head(50)"
      ]
    },
    {
      "cell_type": "code",
      "execution_count": null,
      "metadata": {
        "id": "KYkvhednghfr"
      },
      "outputs": [],
      "source": [
        "test_pred_path = \"/content/drive/MyDrive/kgqa_workshop/final_test/test_pred_linearized_graph_only_baseline.tsv\"\n",
        "test_df[[\"sample_id\", \"prediction\"]].to_csv(test_pred_path, sep='\\t', index=False)"
      ]
    },
    {
      "cell_type": "code",
      "source": [
        "test_pred_path = \"test_pred_linearized_graph_only_baseline.tsv\"\n",
        "test_df[[\"sample_id\", \"prediction\"]].to_csv(test_pred_path, sep='\\t', index=False)"
      ],
      "metadata": {
        "id": "uL8x1WYGgJJe"
      },
      "execution_count": null,
      "outputs": []
    },
    {
      "cell_type": "code",
      "source": [],
      "metadata": {
        "id": "Vf___HoVgJLn"
      },
      "execution_count": null,
      "outputs": []
    }
  ],
  "metadata": {
    "colab": {
      "provenance": [],
      "gpuType": "T4"
    },
    "kernelspec": {
      "display_name": "Python 3",
      "name": "python3"
    },
    "language_info": {
      "name": "python"
    },
    "accelerator": "GPU"
  },
  "nbformat": 4,
  "nbformat_minor": 0
}